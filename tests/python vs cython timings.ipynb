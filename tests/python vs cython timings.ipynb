{
 "cells": [
  {
   "cell_type": "markdown",
   "metadata": {},
   "source": [
    "$$%\n",
    "\\newcommand{\\BB}{{\\boldsymbol B}}%\n",
    "\\newcommand{\\cc}{{\\boldsymbol c}}%\n",
    "\\let\\dd\\relax%\n",
    "\\newcommand{\\dd}{{\\boldsymbol d}}%\n",
    "\\newcommand{\\DD}{{\\boldsymbol D}}%\n",
    "\\newcommand{\\Id}{{\\boldsymbol I}}%\n",
    "\\newcommand{\\HH}{{\\boldsymbol H}}%\n",
    "\\newcommand{\\RR}{{\\boldsymbol R}}%\n",
    "\\newcommand{\\TT}{{\\boldsymbol T}}%\n",
    "\\newcommand{\\VV}{{\\boldsymbol V}}%\n",
    "\\newcommand{\\WW}{{\\boldsymbol W}}%\n",
    "\\newcommand{\\ww}{{\\boldsymbol w}}%\n",
    "\\newcommand{\\XX}{{\\boldsymbol X}}%\n",
    "\\renewcommand{\\aa}{{\\boldsymbol a}}%\n",
    "\\newcommand{\\xx}{{\\boldsymbol x}}%\n",
    "\\newcommand{\\yy}{{\\boldsymbol y}}%\n",
    "% Math Symbols\n",
    "\\newcommand{\\rrh}{{\\boldsymbol \\rho}}%\n",
    "\\newcommand{\\mmu}{{\\boldsymbol \\mu}}%\n",
    "\\newcommand{\\ssi}{{\\boldsymbol \\sigma}}%\n",
    "\\newcommand{\\SSi}{{\\boldsymbol \\Sigma}}%\n",
    "\\newcommand{\\eps}{{\\boldsymbol \\epsilon}}%\n",
    "\\newcommand{\\GGa}{{\\boldsymbol \\Gamma}}%\n",
    "\\newcommand{\\bz}{{\\boldsymbol 0}}%\n",
    "\\DeclareMathOperator{\\car}{CAR}%\n",
    "\\newcommand{\\N}{\\mathcal N}%\n",
    "\\newcommand{\\iid}{\\stackrel{iid}{\\sim}}%\n",
    "\\newcommand{\\ud}{\\, \\mathrm{d}}%\n",
    "\\newcommand{\\tmin}{t_{\\mathrm{min}}}%\n",
    "\\newcommand{\\tmax}{t_{\\mathrm{max}}}%\n",
    "\\newcommand{\\carp}{\\mathrm{CAR}(p)}\n",
    "$$\n",
    "## KalmanODE & KalmanODE_py"
   ]
  },
  {
   "cell_type": "code",
   "execution_count": 1,
   "metadata": {},
   "outputs": [],
   "source": [
    "import numpy as np\n",
    "import matplotlib.pyplot as plt\n",
    "from KalmanODE_py import KalmanODE_py\n",
    "from probDE.car import car_init\n",
    "from probDE.cython.KalmanODE import KalmanODE\n",
    "from probDE.utils.utils import rand_mat, indep_init\n",
    "from scipy.integrate import odeint\n",
    "\n",
    "%load_ext cython"
   ]
  },
  {
   "cell_type": "code",
   "execution_count": 2,
   "metadata": {},
   "outputs": [],
   "source": [
    "from math import sin\n",
    "from scipy import integrate\n",
    "def ode_py(x_t, t, theta=None):\n",
    "    return sin(2*t) - x_t[0]\n",
    "\n",
    "# ode function in odeint format\n",
    "def f(x_t, t):\n",
    "    return [x_t[1], sin(2*t) - x_t[0]]"
   ]
  },
  {
   "cell_type": "code",
   "execution_count": 29,
   "metadata": {},
   "outputs": [],
   "source": [
    "# LHS vector of ODE\n",
    "w_vec = np.array([0.0, 0.0, 1.0])\n",
    "\n",
    "# These parameters define the order of the ODE and the CAR(p) process\n",
    "n_meas = 1\n",
    "n_state = 4\n",
    "\n",
    "# it is assumed that the solution is sought on the interval [tmin, tmax].\n",
    "n_eval = 100\n",
    "tmin = 0\n",
    "tmax = 10\n",
    "\n",
    "# The rest of the parameters can be tuned according to ODE\n",
    "# For this problem, we will use\n",
    "tau = 50\n",
    "sigma = .5\n",
    "\n",
    "# Initial value, x0, for the IVP\n",
    "x0 = np.array([-1., 0., 1.])"
   ]
  },
  {
   "cell_type": "code",
   "execution_count": 30,
   "metadata": {},
   "outputs": [],
   "source": [
    "# Get parameters needed to run the solver\n",
    "dt = (tmax-tmin)/n_eval\n",
    "# All necessary parameters are in kinit, namely, T, c, R, W\n",
    "kinit, x0_state = indep_init([car_init(n_state, tau, sigma, dt, w_vec, x0)], n_state)\n",
    "\n",
    "# Initialize the Kalman class\n",
    "kalmanode = KalmanODE(n_state, n_meas, tmin, tmax, n_eval, ode_py, **kinit)\n",
    "# Run the solver to get an approximation\n",
    "kalman_sim = kalmanode.solve(x0_state, mv=False, sim=True)"
   ]
  },
  {
   "cell_type": "code",
   "execution_count": 31,
   "metadata": {},
   "outputs": [
    {
     "name": "stdout",
     "output_type": "stream",
     "text": [
      "361 µs ± 15.9 µs per loop (mean ± std. dev. of 7 runs, 100 loops each)\n",
      "17.6 ms ± 172 µs per loop (mean ± std. dev. of 7 runs, 100 loops each)\n",
      "535 µs ± 12.2 µs per loop (mean ± std. dev. of 7 runs, 1000 loops each)\n",
      "py/cy: 48.76090277217132\n",
      "ode/cy: 1.4827028554332742\n"
     ]
    }
   ],
   "source": [
    "# Timings for KalmanODE\n",
    "kalmanode = KalmanODE(n_state, n_meas, tmin, tmax, n_eval, ode_py, **kinit) # Initialize the class\n",
    "kalman_cy = %timeit -o -n 100 _ = kalmanode.solve(x0_state, mv=False, sim=True)\n",
    "\n",
    "# Timings for KalmanODE in pure Python\n",
    "kalmanode_py = KalmanODE_py(n_state, n_meas, tmin, tmax, n_eval, ode_py, **kinit) # Initialize the class\n",
    "kalman_py = %timeit -o -n 100 _ = kalmanode_py.solve(x0_state, mv=False, sim=True)\n",
    "\n",
    "# Timings for odeint\n",
    "tseq = np.linspace(tmin, tmax, n_eval+1)\n",
    "ode = %timeit -o ode = integrate.odeint(f, [-1, 0], tseq)\n",
    "print('py/cy: {}'.format(kalman_py.average/kalman_cy.average))\n",
    "print('ode/cy: {}'.format(ode.average/kalman_cy.average))"
   ]
  },
  {
   "cell_type": "markdown",
   "metadata": {},
   "source": [
    "## Lorenz63"
   ]
  },
  {
   "cell_type": "code",
   "execution_count": 8,
   "metadata": {},
   "outputs": [],
   "source": [
    "def lorenz0(X_t, t, theta=(28, 10, 8/3)):\n",
    "    rho, sigma, beta = theta\n",
    "    p = 3\n",
    "    x, y, z = X_t[0], X_t[1], X_t[2]\n",
    "    return np.array([-sigma*x + sigma*y, rho*x - y -x*z, -beta*z + x*y]) "
   ]
  },
  {
   "cell_type": "code",
   "execution_count": 24,
   "metadata": {},
   "outputs": [],
   "source": [
    "# RHS of ODE\n",
    "def lorenz(X_t, t, theta=(28, 10, 8/3)):\n",
    "    rho, sigma, beta = theta\n",
    "    p = 2\n",
    "    x, y, z = X_t[p*0], X_t[p*1], X_t[p*2]\n",
    "    return np.array([-sigma*x + sigma*y, rho*x - y -x*z, -beta*z + x*y])\n",
    "\n",
    "# LHS Matrix of ODE\n",
    "w_mat = np.array([[0.0, 1.0], [0.0, 1.0], [0.0, 1.0]])\n",
    "\n",
    "# These parameters define the order of the ODE and the CAR(p) process\n",
    "n_meas = 3\n",
    "n_state = 6 # number of continuous derivatives of CAR(p) solution prior\n",
    "n_state1 = n_state2 = n_state3 = 2\n",
    "n_var_states = np.array([n_state1, n_state2, n_state3])\n",
    "\n",
    "# it is assumed that the solution is sought on the interval [tmin, tmax].\n",
    "n_eval = 5000\n",
    "tmin = 0\n",
    "tmax = 20\n",
    "theta=(28, 10, 8/3)\n",
    "\n",
    "# The rest of the parameters can be tuned according to ODE\n",
    "# For this problem, we will use\n",
    "tau = np.array([1.3, 1.3, 1.3])\n",
    "sigma = np.array([.5, .5, .5])\n",
    "\n",
    "# Initial value, x0, for the IVP\n",
    "x0 = [-12, -5, 38]\n",
    "v0 = [70, 125, -124/3]\n",
    "x0 = np.column_stack([x0, v0])"
   ]
  },
  {
   "cell_type": "code",
   "execution_count": null,
   "metadata": {},
   "outputs": [],
   "source": [
    "# Get parameters needed to run the solver\n",
    "dt = (tmax-tmin)/n_eval\n",
    "# Initialize CAR with three variables\n",
    "kinit, x0_state = indep_init([car_init(n_state1, tau[0], sigma[0], dt, w_mat[0], x0[0]),\n",
    "                        car_init(n_state2, tau[1], sigma[1], dt, w_mat[1], x0[1]),\n",
    "                        car_init(n_state3, tau[2], sigma[2], dt, w_mat[2], x0[2])], n_state)\n",
    "\n",
    "# Initialize the Kalman class\n",
    "kalmanode = KalmanODE(n_state, n_meas, tmin, tmax, n_eval, lorenz, **kinit)\n",
    "# Run the solver to get an approximation\n",
    "kalman_lor_sim = kalmanode.solve(x0_state, theta, mv=False, sim=True)"
   ]
  },
  {
   "cell_type": "code",
   "execution_count": 26,
   "metadata": {},
   "outputs": [
    {
     "name": "stdout",
     "output_type": "stream",
     "text": [
      "49.7 ms ± 1.66 ms per loop (mean ± std. dev. of 7 runs, 10 loops each)\n",
      "982 ms ± 37.8 ms per loop (mean ± std. dev. of 7 runs, 1 loop each)\n",
      "py/cy: 19.775811622851297\n"
     ]
    }
   ],
   "source": [
    "kalmanode = KalmanODE(n_state, n_meas, tmin, tmax, n_eval, lorenz, **kinit) # Initialize the class\n",
    "kalman_lor_cy = %timeit -o _ = kalmanode.solve(x0_state, theta, mv=False, sim=True)\n",
    "kalmanode_py = KalmanODE_py(n_state, n_meas, tmin, tmax, n_eval, lorenz, **kinit) # Initialize the class\n",
    "kalman_lor_py = %timeit -o _ = kalmanode_py.solve(x0_state, theta, mv=False, sim=True)\n",
    "print('py/cy: {}'.format(kalman_lor_py.average/kalman_lor_cy.average))"
   ]
  },
  {
   "cell_type": "markdown",
   "metadata": {},
   "source": [
    "## Lane-Emden"
   ]
  },
  {
   "cell_type": "code",
   "execution_count": 32,
   "metadata": {},
   "outputs": [],
   "source": [
    "def lane(x_t, t, theta=None):\n",
    "    return np.array([-2/t*x_t[1] - x_t[0]**5])\n",
    "\n",
    "# LHS vector of ODE\n",
    "w_vec = np.array([0., 0., 1.])\n",
    "\n",
    "# These parameters define the order of the ODE and the CAR(p) process\n",
    "n_meas = 1\n",
    "n_state = 3\n",
    "\n",
    "# it is assumed that the solution is sought on the interval [tmin, tmax].\n",
    "n_eval = 200\n",
    "tmin = 0\n",
    "tmax = 10\n",
    "\n",
    "# The rest of the parameters can be tuned according to ODE\n",
    "# For this problem, we will use\n",
    "tau = 10\n",
    "sigma = .001\n",
    "\n",
    "# Initial value, x0, for the IVP\n",
    "x0 = np.array([1., 0., -1.]) #Initial State"
   ]
  },
  {
   "cell_type": "code",
   "execution_count": 33,
   "metadata": {},
   "outputs": [],
   "source": [
    "# Get parameters needed to run the solver\n",
    "dt = (tmax-tmin)/n_eval\n",
    "kinit, x0_state = indep_init([car_init(n_state, tau, sigma, dt, w_vec, x0)], n_state)\n",
    "\n",
    "# Cython\n",
    "kalmanode = KalmanODE(n_state, n_meas, tmin, tmax, n_eval, lane, **kinit) # Initialize the class\n",
    "kalman_lane_sim = kalmanode.solve(x0_state, mv=False, sim=True)"
   ]
  },
  {
   "cell_type": "code",
   "execution_count": 34,
   "metadata": {},
   "outputs": [
    {
     "name": "stdout",
     "output_type": "stream",
     "text": [
      "1.16 ms ± 16.9 µs per loop (mean ± std. dev. of 7 runs, 1000 loops each)\n",
      "48.5 ms ± 1.71 ms per loop (mean ± std. dev. of 7 runs, 10 loops each)\n",
      "py/cy: 41.88374569933891\n"
     ]
    }
   ],
   "source": [
    "kalman_lane_cy = %timeit -o _ = kalmanode.solve(x0_state, mv=True, sim=True)\n",
    "kalmanode_py = KalmanODE_py(n_state, n_meas, tmin, tmax, n_eval, lane, **kinit) # Initialize the class\n",
    "kalman_lane_py = %timeit -o _, _, _ = kalmanode_py.solve(x0_state, mv=True, sim=True)\n",
    "print('py/cy: {}'.format(kalman_lane_py.average/kalman_lane_cy.average))"
   ]
  }
 ],
 "metadata": {
  "kernelspec": {
   "display_name": "Python 3",
   "language": "python",
   "name": "python3"
  },
  "language_info": {
   "codemirror_mode": {
    "name": "ipython",
    "version": 3
   },
   "file_extension": ".py",
   "mimetype": "text/x-python",
   "name": "python",
   "nbconvert_exporter": "python",
   "pygments_lexer": "ipython3",
   "version": "3.7.3"
  }
 },
 "nbformat": 4,
 "nbformat_minor": 2
}
