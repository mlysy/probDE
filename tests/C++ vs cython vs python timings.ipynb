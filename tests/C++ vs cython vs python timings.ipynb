{
 "cells": [
  {
   "cell_type": "code",
   "execution_count": 1,
   "metadata": {},
   "outputs": [],
   "source": [
    "import numpy as np\n",
    "import numba\n",
    "import matplotlib.pyplot as plt\n",
    "from probDE.car import car_init\n",
    "from probDE.utils.utils import rand_mat, indep_init, zero_pad\n",
    "from scipy.integrate import odeint\n",
    "from probDE.cython.KalmanODE import KalmanODE as KalmanODE_blas\n",
    "from probDE.tests.KalmanODE import KalmanODE\n",
    "from KalmanODE_py import KalmanODE_py\n",
    "%load_ext Cython"
   ]
  },
  {
   "cell_type": "code",
   "execution_count": 2,
   "metadata": {},
   "outputs": [],
   "source": [
    "%%cython\n",
    "from libc.math cimport sin\n",
    "cpdef ode_fun(double[::1] x, double t, tuple theta, double[::1] x_out):\n",
    "    x_out[0] = sin(2*t) - x[0]\n",
    "    return\n"
   ]
  },
  {
   "cell_type": "code",
   "execution_count": 3,
   "metadata": {},
   "outputs": [],
   "source": [
    "import numba\n",
    "from math import sin\n",
    "def f(x_t, t):\n",
    "    return [x_t[1], sin(2*t) - x_t[0]]\n",
    "\n",
    "numba_f = numba.jit(f)"
   ]
  },
  {
   "cell_type": "code",
   "execution_count": 4,
   "metadata": {},
   "outputs": [],
   "source": [
    "# LHS vector of ODE\n",
    "w_mat = np.array([[0.0, 0.0, 1.0]])\n",
    "\n",
    "# These parameters define the order of the ODE and the CAR(p) process\n",
    "n_obs = 1\n",
    "n_deriv = [3]\n",
    "n_deriv_prior = [4]\n",
    "p = sum(n_deriv_prior)\n",
    "\n",
    "# it is assumed that the solution is sought on the interval [tmin, tmax].\n",
    "n_eval = 100\n",
    "tmin = 0\n",
    "tmax = 10\n",
    "\n",
    "# The rest of the parameters can be tuned according to ODE\n",
    "# For this problem, we will use\n",
    "tau = [300]\n",
    "sigma = [.5]\n",
    "\n",
    "# Initial value, x0, for the IVP\n",
    "x0 = np.array([[-1., 0., 1.]])\n",
    "\n",
    "# Get parameters needed to run the solver\n",
    "dt = (tmax-tmin)/n_eval\n",
    "# All necessary parameters are in kinit, namely, T, c, R, W\n",
    "W = zero_pad(w_mat, n_deriv, n_deriv_prior)\n",
    "ode_init, x0_state = car_init(n_deriv_prior, tau, sigma, dt, x0)\n",
    "kinit = indep_init(ode_init, n_deriv_prior)"
   ]
  },
  {
   "cell_type": "code",
   "execution_count": 6,
   "metadata": {},
   "outputs": [],
   "source": [
    "z_states = rand_mat(2*(n_eval+1), p)\n",
    "kalmanode = KalmanODE_blas(p, n_obs, tmin, tmax, n_eval, ode_fun, **kinit)\n",
    "kalmanode.z_states = z_states\n",
    "kalman_sim = kalmanode.solve(x0_state, W, mv=False, sim=True)"
   ]
  },
  {
   "cell_type": "code",
   "execution_count": null,
   "metadata": {
    "scrolled": true
   },
   "outputs": [],
   "source": [
    "kalmanode_py = KalmanODE_py(p, n_obs, tmin, tmax, n_eval, ode_fun, **kinit) # Initialize the class\n",
    "kalmanode_py.z_states = z_states\n",
    "k_sim, k_mu, k_var = kalmanode_py.solve(x0_state, W, mv=True, sim=True)"
   ]
  },
  {
   "cell_type": "code",
   "execution_count": null,
   "metadata": {},
   "outputs": [],
   "source": [
    "# ode function in odeint format\n",
    "tseq = np.linspace(tmin, tmax, n_eval+1)\n",
    "ode = odeint(f, [-1, 0], tseq)\n",
    "fig, axs = plt.subplots(1, 2, figsize=(20, 5))\n",
    "axs[0].plot(tseq, k_sim[:,0], label = 'Kalman')\n",
    "axs[0].plot(tseq, ode[:, 0], label = 'Exact')\n",
    "axs[0].set_title(\"$x^{(0)}_t$\")\n",
    "axs[0].legend(loc='upper left')\n",
    "axs[1].plot(tseq, k_sim[:,1], label = 'Kalman')\n",
    "axs[1].plot(tseq, ode[:, 1], label = 'Exact')\n",
    "axs[1].set_title(\"$x^{(1)}_t$\")\n",
    "plt.show()"
   ]
  },
  {
   "cell_type": "code",
   "execution_count": 7,
   "metadata": {},
   "outputs": [
    {
     "name": "stdout",
     "output_type": "stream",
     "text": [
      "487 µs ± 5.07 µs per loop (mean ± std. dev. of 7 runs, 1000 loops each)\n"
     ]
    }
   ],
   "source": [
    "kalmanode = KalmanODE(p, n_obs, tmin, tmax, n_eval, ode_fun, **kinit) # Initialize the class\n",
    "kalmanode.z_states = z_states\n",
    "kalman_c = %timeit -o _ = kalmanode.solve(x0_state, W, mv=False, sim=True)"
   ]
  },
  {
   "cell_type": "code",
   "execution_count": 8,
   "metadata": {},
   "outputs": [
    {
     "name": "stdout",
     "output_type": "stream",
     "text": [
      "1.23 ms ± 59.5 µs per loop (mean ± std. dev. of 7 runs, 1000 loops each)\n"
     ]
    }
   ],
   "source": [
    "kalmanode = KalmanODE_blas(p, n_obs, tmin, tmax, n_eval, ode_fun, **kinit) # Initialize the class\n",
    "kalmanode.z_states = z_states\n",
    "kalman_cy = %timeit -o _ = kalmanode.solve(x0_state, W, mv=False, sim=True)"
   ]
  },
  {
   "cell_type": "code",
   "execution_count": 9,
   "metadata": {
    "scrolled": false
   },
   "outputs": [
    {
     "name": "stdout",
     "output_type": "stream",
     "text": [
      "12.3 ms ± 645 µs per loop (mean ± std. dev. of 7 runs, 100 loops each)\n"
     ]
    }
   ],
   "source": [
    "kalmanode_py = KalmanODE_py(p, n_obs, tmin, tmax, n_eval, ode_fun, **kinit) # Initialize the class\n",
    "kalmanode_py.z_states = z_states\n",
    "kalman_py = %timeit -o _ = kalmanode_py.solve(x0_state, W, mv=False, sim=True)"
   ]
  },
  {
   "cell_type": "code",
   "execution_count": 10,
   "metadata": {},
   "outputs": [
    {
     "name": "stdout",
     "output_type": "stream",
     "text": [
      "495 µs ± 36.5 µs per loop (mean ± std. dev. of 7 runs, 1000 loops each)\n"
     ]
    }
   ],
   "source": [
    "tseq = np.linspace(tmin, tmax, n_eval+1)\n",
    "ode = %timeit -o ode = odeint(numba_f, [-1, 0], tseq)"
   ]
  },
  {
   "cell_type": "code",
   "execution_count": 11,
   "metadata": {},
   "outputs": [
    {
     "name": "stdout",
     "output_type": "stream",
     "text": [
      "Cython is 10.035038004720931x faster than Python\n",
      "C++ is 25.307836246285884x faster than Python\n",
      "ode is 24.909325815040614x faster than Python\n"
     ]
    }
   ],
   "source": [
    "print(\"Cython is {}x faster than Python\".format(kalman_py.average/kalman_cy.average))\n",
    "print(\"C++ is {}x faster than Python\".format(kalman_py.average/kalman_c.average))\n",
    "print(\"ode is {}x faster than Python\".format(kalman_py.average/ode.average))"
   ]
  },
  {
   "cell_type": "markdown",
   "metadata": {},
   "source": [
    "## Lorenz63"
   ]
  },
  {
   "cell_type": "code",
   "execution_count": 12,
   "metadata": {},
   "outputs": [],
   "source": [
    "%%cython\n",
    "# RHS of ODE\n",
    "import numpy as np\n",
    "cimport numpy as np\n",
    "cpdef lorenz(double[::1] X, double t, tuple theta, out):\n",
    "    rho, sigma, beta = theta\n",
    "    cdef int p = len(X)//3\n",
    "    x, y, z = X[p*0], X[p*1], X[p*2]\n",
    "    out[0] = -sigma*x + sigma*y\n",
    "    out[1] = rho*x - y -x*z\n",
    "    out[2] = -beta*z + x*y\n",
    "    return"
   ]
  },
  {
   "cell_type": "code",
   "execution_count": 13,
   "metadata": {},
   "outputs": [],
   "source": [
    "def lorenz0(X, t, theta):\n",
    "    rho, sigma, beta = theta\n",
    "    p = len(X)//3\n",
    "    x, y, z = X[p*0], X[p*1], X[p*2]\n",
    "    return -sigma*x + sigma*y, rho*x - y -x*z, -beta*z + x*y\n",
    "\n",
    "numba_lorenz = numba.jit(lorenz0)"
   ]
  },
  {
   "cell_type": "code",
   "execution_count": 14,
   "metadata": {},
   "outputs": [],
   "source": [
    "# These parameters define the order of the ODE and the CAR(p) process\n",
    "n_obs = 3\n",
    "n_deriv = [2, 2, 2] # number of continuous derivatives of CAR(p) solution prior\n",
    "n_deriv_prior = [3, 3, 3]\n",
    "p = sum(n_deriv_prior)\n",
    "\n",
    "# LHS Matrix of ODE\n",
    "W_mat = np.zeros((len(n_deriv), sum(n_deriv)))\n",
    "for i in range(len(n_deriv)): W_mat[i, sum(n_deriv[:i])+1] = 1\n",
    "\n",
    "# it is assumed that the solution is sought on the interval [tmin, tmax].\n",
    "n_eval = 3000\n",
    "tmin = 0\n",
    "tmax = 20\n",
    "theta = (28, 10, 8/3)\n",
    "\n",
    "# The rest of the parameters can be tuned according to ODE\n",
    "# For this problem, we will use\n",
    "tau = np.array([0.1, 1, 10])\n",
    "sigma = np.array([.01, .01, .01])\n",
    "\n",
    "# Initial value, x0, for the IVP\n",
    "x0 = [-12, -5, 38]\n",
    "v0 = [70, 125, -124/3]\n",
    "x0 = np.column_stack([x0, v0])"
   ]
  },
  {
   "cell_type": "code",
   "execution_count": 15,
   "metadata": {},
   "outputs": [],
   "source": [
    "# Get parameters needed to run the solver\n",
    "dt = (tmax-tmin)/n_eval\n",
    "# Initialize CAR with three variables\n",
    "W = zero_pad(W_mat, n_deriv, n_deriv_prior)\n",
    "ode_init, x0_state = car_init(n_deriv_prior, tau, sigma, dt, x0)\n",
    "kinit = indep_init(ode_init, n_deriv_prior)\n",
    "\n",
    "# Initialize the Kalman class\n",
    "kalmanode = KalmanODE(p, n_obs, tmin, tmax, n_eval, lorenz, **kinit)\n",
    "# Run the solver to get an approximation\n",
    "kalman_lor_sim = kalmanode.solve(x0_state, W, theta)"
   ]
  },
  {
   "cell_type": "code",
   "execution_count": null,
   "metadata": {},
   "outputs": [],
   "source": [
    "tseq = np.linspace(tmin, tmax, n_eval+1)\n",
    "ode_lorenz = odeint(numba_lorenz, x0[:, 0], tseq, args=(theta,))"
   ]
  },
  {
   "cell_type": "code",
   "execution_count": null,
   "metadata": {},
   "outputs": [],
   "source": [
    "_, axs = plt.subplots(n_obs, 1, figsize=(20, 7))\n",
    "ylabel = ['a', 'b', 'c']\n",
    "for i in range(n_obs):\n",
    "    axs[i].plot(tseq, kalman_lor_sim[:, n_deriv_prior[0]*i], label=\"Kalman\")\n",
    "    axs[i].set_ylabel(ylabel[i])\n",
    "    axs[i].plot(tseq, ode_lorenz[:, i], label='Exact')\n",
    "    axs[i].legend(loc='upper left')"
   ]
  },
  {
   "cell_type": "code",
   "execution_count": 16,
   "metadata": {},
   "outputs": [
    {
     "name": "stdout",
     "output_type": "stream",
     "text": [
      "374 ms ± 4.66 ms per loop (mean ± std. dev. of 7 runs, 1 loop each)\n",
      "30.5 ms ± 296 µs per loop (mean ± std. dev. of 7 runs, 10 loops each)\n",
      "46.8 ms ± 313 µs per loop (mean ± std. dev. of 7 runs, 10 loops each)\n",
      "9.95 ms ± 296 µs per loop (mean ± std. dev. of 7 runs, 100 loops each)\n",
      "py/cy: 7.986297317601421\n",
      "py/c: 12.249328803503804\n",
      "py/ode: 37.567614178758824\n"
     ]
    }
   ],
   "source": [
    "z_states = rand_mat(2*(n_eval+1), p)\n",
    "kalmanode_py = KalmanODE_py(p, n_obs, tmin, tmax, n_eval, lorenz, **kinit) # Initialize the class\n",
    "kalmanode_py.z_states = z_states\n",
    "kalman_lor_py = %timeit -o _ = kalmanode_py.solve(x0_state, W, theta, mv=False, sim=True)\n",
    "kalmanode_c = KalmanODE(p, n_obs, tmin, tmax, n_eval, lorenz, **kinit) # Initialize the class\n",
    "kalmanode_c.z_states = z_states\n",
    "kalman_lor_c = %timeit -o _ = kalmanode_c.solve(x0_state, W, theta, mv=False, sim=True)\n",
    "kalmanode = KalmanODE_blas(p, n_obs, tmin, tmax, n_eval, lorenz, **kinit)\n",
    "kalmanode.z_states = z_states\n",
    "kalman_lor_cy = %timeit -o _ = kalmanode.solve(x0_state, W, theta, mv=False, sim=True)\n",
    "tseq = np.linspace(tmin, tmax, n_eval+1)\n",
    "ode_lorenz = %timeit -o ode = odeint(numba_lorenz, x0[:, 0], tseq, args=(theta,))\n",
    "print('py/cy: {}'.format(kalman_lor_py.average/kalman_lor_cy.average))\n",
    "print('py/c: {}'.format(kalman_lor_py.average/kalman_lor_c.average))\n",
    "print('py/ode: {}'.format(kalman_lor_py.average/ode_lorenz.average))"
   ]
  },
  {
   "cell_type": "markdown",
   "metadata": {},
   "source": [
    "# Fitz model"
   ]
  },
  {
   "cell_type": "code",
   "execution_count": 17,
   "metadata": {},
   "outputs": [],
   "source": [
    "%%cython\n",
    "cpdef fitz(double[::1] X, double t, tuple theta, double[::1] X_out):\n",
    "    \"FitzHugh-Nagumo ODE function.\"\n",
    "    a, b, c = theta\n",
    "    cdef int n_deriv1 = len(X)//2\n",
    "    V, R = X[0], X[n_deriv1]\n",
    "    X_out[0] = c*(V - V**3/3 + R)\n",
    "    X_out[1] = -1/c*(V - a + b*R)\n",
    "    return"
   ]
  },
  {
   "cell_type": "code",
   "execution_count": 18,
   "metadata": {},
   "outputs": [],
   "source": [
    "def fitz0(X, t, theta):\n",
    "    \"FitzHugh-Nagumo ODE function.\"\n",
    "    a, b, c = theta\n",
    "    n_deriv1 = len(X)//2\n",
    "    V, R = X[0], X[n_deriv1]\n",
    "    return c*(V - V*V*V/3 + R), -1/c*(V - a + b*R)\n",
    "\n",
    "numba_fitz = numba.jit(fitz0)"
   ]
  },
  {
   "cell_type": "code",
   "execution_count": 19,
   "metadata": {},
   "outputs": [],
   "source": [
    "n_deriv = [2, 2] # Total state\n",
    "n_deriv_prior = [3, 3]\n",
    "p = sum(n_deriv_prior)\n",
    "n_obs = 2 # Total measures\n",
    "state_ind = [0, 3]\n",
    "\n",
    "# it is assumed that the solution is sought on the interval [tmin, tmax].\n",
    "tmin = 0 \n",
    "tmax = 40\n",
    "#h = 0.1 # step size\n",
    "#n_eval = int((tmax-tmin)/h)\n",
    "n_eval = 600\n",
    "\n",
    "# The rest of the parameters can be tuned according to ODE\n",
    "# For this problem, we will use\n",
    "n_var = 2\n",
    "tau = [100]*n_var\n",
    "sigma = [.1]*n_var\n",
    "\n",
    "# Initial value, x0, for the IVP\n",
    "x0 = np.array([-1., 1.])\n",
    "v0 = np.array([1, 1/3])\n",
    "X0 = np.column_stack([x0, v0])\n",
    "w_mat = np.array([[0.0, 1.0, 0.0, 0.0], [0.0, 0.0, 0.0, 1.0]])\n",
    "W = zero_pad(w_mat, n_deriv, n_deriv_prior)\n",
    "theta = (0.2, 0.2, 3)\n"
   ]
  },
  {
   "cell_type": "code",
   "execution_count": 20,
   "metadata": {},
   "outputs": [],
   "source": [
    "# Get parameters needed to run the solver\n",
    "dt = (tmax-tmin)/n_eval\n",
    "# Initialize CAR with three variables\n",
    "ode_init, x0_state = car_init(n_deriv_prior, tau, sigma, dt, X0)\n",
    "kinit = indep_init(ode_init, n_deriv_prior)\n",
    "\n",
    "# Initialize the Kalman class\n",
    "kalmanode = KalmanODE_blas(p, n_obs, tmin, tmax, n_eval, fitz, **kinit)\n",
    "z_states = rand_mat(2*(n_eval+1), p)\n",
    "kalmanode.z_states = z_states\n",
    "# Run the solver to get an approximation\n",
    "kalman_fitz_sim = kalmanode.solve(x0_state, W, theta, mv=False, sim=True)"
   ]
  },
  {
   "cell_type": "code",
   "execution_count": null,
   "metadata": {},
   "outputs": [],
   "source": [
    "tseq = np.linspace(tmin, tmax, n_eval+1)\n",
    "exact = odeint(fitz0, X0[:, 0], tseq, args=(theta,))\n",
    "\n",
    "_, axs = plt.subplots(n_obs, 1, figsize=(20, 7))\n",
    "ylabel = ['a', 'b', 'c']\n",
    "for i in range(n_obs):\n",
    "    axs[i].plot(tseq, kalman_fitz_sim[:, n_deriv_prior[0]*i], label=\"Kalman\")\n",
    "    axs[i].set_ylabel(ylabel[i])\n",
    "    axs[i].plot(tseq, exact[:, i], label='Exact')\n",
    "    axs[i].legend(loc='upper left')"
   ]
  },
  {
   "cell_type": "code",
   "execution_count": 21,
   "metadata": {},
   "outputs": [
    {
     "name": "stdout",
     "output_type": "stream",
     "text": [
      "4.34 ms ± 72 µs per loop (mean ± std. dev. of 7 runs, 100 loops each)\n",
      "8.03 ms ± 209 µs per loop (mean ± std. dev. of 7 runs, 100 loops each)\n",
      "74.3 ms ± 2.56 ms per loop (mean ± std. dev. of 7 runs, 10 loops each)\n",
      "4.73 ms ± 444 µs per loop (mean ± std. dev. of 7 runs, 100 loops each)\n",
      "py/cy: 9.246176199064182\n",
      "py/c: 17.099506381744902\n",
      "py/ode: 15.720828322607067\n"
     ]
    }
   ],
   "source": [
    "z_states = rand_mat(2*(n_eval+1), p)\n",
    "kalmanode_c = KalmanODE(p, n_obs, tmin, tmax, n_eval, fitz, **kinit) # Initialize the class\n",
    "kalmanode_c.z_states = z_states\n",
    "kalman_fitz_c = %timeit -o _ = kalmanode_c.solve(x0_state, W, theta, mv=False, sim=True)\n",
    "kalmanode = KalmanODE_blas(p, n_obs, tmin, tmax, n_eval, fitz, **kinit)\n",
    "kalmanode.z_states = z_states\n",
    "kalman_fitz_cy = %timeit -o _ = kalmanode.solve(x0_state, W, theta, mv=False, sim=True)\n",
    "kalmanode_py = KalmanODE_py(p, n_obs, tmin, tmax, n_eval, fitz, **kinit) # Initialize the class\n",
    "kalmanode_py.z_states = z_states\n",
    "kalman_fitz_py = %timeit -o _ = kalmanode_py.solve(x0_state, W, theta, mv=False, sim=True)\n",
    "tseq = np.linspace(tmin, tmax, n_eval+1)\n",
    "ode_fitz = %timeit -o ode =  odeint(numba_fitz, X0[:, 0], tseq, args=(theta,))\n",
    "print('py/cy: {}'.format(kalman_fitz_py.average/kalman_fitz_cy.average))\n",
    "print('py/c: {}'.format(kalman_fitz_py.average/kalman_fitz_c.average))\n",
    "print('py/ode: {}'.format(kalman_fitz_py.average/ode_fitz.average))"
   ]
  },
  {
   "cell_type": "markdown",
   "metadata": {},
   "source": [
    "# MSEIR model"
   ]
  },
  {
   "cell_type": "markdown",
   "metadata": {},
   "source": [
    "We will look at a multivariate ODE system called **MSEIR model**. This model is used in epidemiology where<br/>\n",
    "M = Maternally-derived Immunity<br/>\n",
    "S = Susceptible<br/>\n",
    "E = Exposed<br/>\n",
    "I = Infectious<br/>\n",
    "R = Recovered<br/>\n",
    "\n",
    "\\begin{equation}\n",
    "  \\begin{aligned}\n",
    "    \\frac{dM}{dt} &= \\Lambda - \\delta M - \\mu M \\\\\n",
    "    \\frac{dS}{dt} &= \\delta M- \\frac{\\beta SI}{N} - \\mu S \\\\\n",
    "    \\frac{dE}{dt} &= \\frac{\\beta SI}{N} - (\\epsilon + \\mu)E \\\\\n",
    "    \\frac{dI}{dt} &= \\epsilon E - (\\gamma + \\mu)I \\\\\n",
    "    \\frac{dR}{dt} &= \\gamma I - \\mu R\n",
    "  \\end{aligned}\n",
    "\\end{equation}\n"
   ]
  },
  {
   "cell_type": "code",
   "execution_count": 2,
   "metadata": {},
   "outputs": [],
   "source": [
    "%%cython\n",
    "import numpy as np\n",
    "cimport numpy as np\n",
    "cpdef mseir(double[::1] X, double t, double[::1] theta, double[::1] X_out):\n",
    "    cdef int p = len(X)//5\n",
    "    M, S, E, I, R = X[::p]\n",
    "    cdef double N = M+S+E+I+R\n",
    "    Lambda, delta, beta, mu, epsilon, gamma = theta\n",
    "    X_out[0] = Lambda - delta*M - mu*M\n",
    "    X_out[1] = delta*M - beta*S*I/N - mu*S\n",
    "    X_out[2] = beta*S*I/N - (epsilon + mu)*E\n",
    "    X_out[3] = epsilon*E - (gamma + mu)*I\n",
    "    X_out[4] = gamma*I - mu*R\n",
    "    return"
   ]
  },
  {
   "cell_type": "code",
   "execution_count": 3,
   "metadata": {},
   "outputs": [],
   "source": [
    "def mseir0(X_t, t, theta):\n",
    "    \"MSEIR ODE function\"\n",
    "    p = len(X_t)//5\n",
    "    M, S, E, I, R = X_t[::p]\n",
    "    N = M+S+E+I+R\n",
    "    Lambda, delta, beta, mu, epsilon, gamma = theta\n",
    "    dM = Lambda - delta*M - mu*M\n",
    "    dS = delta*M - beta*S*I/N - mu*S\n",
    "    dE = beta*S*I/N - (epsilon + mu)*E\n",
    "    dI = epsilon*E - (gamma + mu)*I\n",
    "    dR = gamma*I - mu*R\n",
    "    return np.array([dM, dS, dE, dI, dR])\n",
    "\n",
    "numba_mseir = numba.jit(mseir0)"
   ]
  },
  {
   "cell_type": "code",
   "execution_count": 4,
   "metadata": {},
   "outputs": [],
   "source": [
    "# LHS Matrix of ODE\n",
    "\n",
    "n_deriv = [2]*5 # Total state\n",
    "n_deriv_prior = [3]*5\n",
    "p = sum(n_deriv_prior)\n",
    "n_obs = 5 # Total measures\n",
    "state_ind = [0, 3, 6, 9, 12]\n",
    "\n",
    "# it is assumed that the solution is sought on the interval [tmin, tmax].\n",
    "n_eval = 100\n",
    "tmin = 0\n",
    "tmax = 20\n",
    "theta = np.array([1.1, 0.7, 0.4, 0.005, 0.02, 0.03])\n",
    "\n",
    "# The rest of the parameters can be tuned according to ODE\n",
    "# For this problem, we will use\n",
    "n_var = 5\n",
    "tau = [100]*n_var\n",
    "sigma = [.1]*n_var\n",
    "\n",
    "# Initial value, x0, for the IVP\n",
    "W_mat = np.zeros((len(n_deriv), sum(n_deriv)))\n",
    "for i in range(len(n_deriv)): W_mat[i, sum(n_deriv[:i])+1] = 1\n",
    "W = zero_pad(W_mat, n_deriv, n_deriv_prior)\n",
    "\n",
    "x0 = np.array([1000, 100, 50, 3, 3])\n",
    "v0 = mseir0(x0, 0, theta)\n",
    "X0 = np.column_stack([x0, v0])"
   ]
  },
  {
   "cell_type": "code",
   "execution_count": 5,
   "metadata": {},
   "outputs": [],
   "source": [
    "# Get parameters needed to run the solver\n",
    "dt = (tmax-tmin)/n_eval\n",
    "# Initialize CAR with three variables\n",
    "ode_init, x0_state = car_init(n_deriv_prior, tau, sigma, dt, X0)\n",
    "kinit = indep_init(ode_init, n_deriv_prior)\n",
    "\n",
    "# Initialize the Kalman class\n",
    "kalmanode = KalmanODE_blas(p, n_obs, tmin, tmax, n_eval, mseir, **kinit)\n",
    "# Run the solver to get an approximation\n",
    "kalman_mse_sim = kalmanode.solve(x0_state, W, theta, mv=False, sim=True)"
   ]
  },
  {
   "cell_type": "code",
   "execution_count": 6,
   "metadata": {},
   "outputs": [
    {
     "data": {
      "image/png": "[encoded data removed]",
      "text/plain": [
       "<Figure size 1440x504 with 5 Axes>"
      ]
     },
     "metadata": {
      "needs_background": "light"
     },
     "output_type": "display_data"
    }
   ],
   "source": [
    "tseq = np.linspace(tmin, tmax, n_eval+1)\n",
    "exact = odeint(mseir0, X0[:, 0], tseq, args=(theta,))\n",
    "\n",
    "_, axs = plt.subplots(n_obs, 1, figsize=(20, 7))\n",
    "ylabel = ['M', 'S', 'E', 'I', 'R']\n",
    "for i in range(n_obs):\n",
    "    axs[i].plot(tseq, kalman_mse_sim[:, n_deriv_prior[0]*i], label=\"Kalman\")\n",
    "    axs[i].set_ylabel(ylabel[i])\n",
    "    axs[i].plot(tseq, exact[:, i], label='Exact')\n",
    "    axs[i].legend(loc='upper left')"
   ]
  },
  {
   "cell_type": "code",
   "execution_count": 7,
   "metadata": {},
   "outputs": [
    {
     "name": "stdout",
     "output_type": "stream",
     "text": [
      "2.66 ms ± 45.6 µs per loop (mean ± std. dev. of 7 runs, 100 loops each)\n",
      "2.48 ms ± 63.6 µs per loop (mean ± std. dev. of 7 runs, 100 loops each)\n",
      "16.2 ms ± 1e+03 µs per loop (mean ± std. dev. of 7 runs, 100 loops each)\n",
      "328 µs ± 34.8 µs per loop (mean ± std. dev. of 7 runs, 1 loop each)\n",
      "py/cy: 6.535607954930901\n",
      "py/c: 6.09164631501858\n",
      "py/ode: 49.41242300341727\n"
     ]
    }
   ],
   "source": [
    "z_states = rand_mat(2*(n_eval+1), p)\n",
    "kalmanode_c = KalmanODE(p, n_obs, tmin, tmax, n_eval, mseir, **kinit) # Initialize the class\n",
    "kalmanode_c.z_states = z_states\n",
    "kalman_mse_c = %timeit -o _ = kalmanode_c.solve(x0_state, W, theta, mv=False, sim=True)\n",
    "kalmanode = KalmanODE_blas(p, n_obs, tmin, tmax, n_eval, mseir, **kinit)\n",
    "kalmanode.z_states = z_states\n",
    "kalman_mse_cy = %timeit -o _ = kalmanode.solve(x0_state, W, theta, mv=False, sim=True)\n",
    "kalmanode_py = KalmanODE_py(p, n_obs, tmin, tmax, n_eval, mseir, **kinit) # Initialize the class\n",
    "kalmanode_py.z_states = z_states\n",
    "kalman_mse_py = %timeit -o _ = kalmanode_py.solve(x0_state, W, theta, mv=False, sim=True)\n",
    "tseq = np.linspace(tmin, tmax, n_eval+1)\n",
    "ode_mseir = %timeit -o ode =  odeint(numba_mseir, X0[:, 0], tseq, args=(theta,))\n",
    "print('py/cy: {}'.format(kalman_mse_py.average/kalman_mse_cy.average))\n",
    "print('py/c: {}'.format(kalman_mse_py.average/kalman_mse_c.average))\n",
    "print('py/ode: {}'.format(kalman_mse_py.average/ode_mseir.average))"
   ]
  }
 ],
 "metadata": {
  "kernelspec": {
   "display_name": "Python 3",
   "language": "python",
   "name": "python3"
  },
  "language_info": {
   "codemirror_mode": {
    "name": "ipython",
    "version": 3
   },
   "file_extension": ".py",
   "mimetype": "text/x-python",
   "name": "python",
   "nbconvert_exporter": "python",
   "pygments_lexer": "ipython3",
   "version": "3.7.3"
  }
 },
 "nbformat": 4,
 "nbformat_minor": 2
}
