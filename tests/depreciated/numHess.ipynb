{
 "cells": [
  {
   "cell_type": "markdown",
   "metadata": {},
   "source": [
    "# Python converted numerical Hessian"
   ]
  },
  {
   "cell_type": "code",
   "execution_count": 16,
   "metadata": {},
   "outputs": [],
   "source": [
    "import numpy as np"
   ]
  },
  {
   "cell_type": "code",
   "execution_count": 159,
   "metadata": {},
   "outputs": [],
   "source": [
    "def quadratic(X):\n",
    "    return np.sum(X**2)\n",
    "def cubic(X):\n",
    "    return (X[0]**3)*(X[1]**2)\n",
    "def cubic_hes(X):\n",
    "    return np.array([[6*X[0]*X[1]**2, 6*X[0]**2*X[1]], [6*X[0]**2*X[1], 2*X[0]**3]])"
   ]
  },
  {
   "cell_type": "code",
   "execution_count": 160,
   "metadata": {},
   "outputs": [],
   "source": [
    "def numHess(func, x):\n",
    "    if not np.isscalar(func(x)):\n",
    "        raise ValueError('Richardson method for Hessian assumes a scalar valued function.')\n",
    "    D = genD(func, x)\n",
    "    H = np.zeros((len(x), len(x)))\n",
    "    u = len(x)-1\n",
    "    for i in range(len(x)):\n",
    "        for j in range(i+1):\n",
    "            u+=1\n",
    "            H[i, j] = D[u]\n",
    "    H = H + H.T\n",
    "    np.fill_diagonal(H, np.diag(H)/2)\n",
    "    return H"
   ]
  },
  {
   "cell_type": "code",
   "execution_count": 161,
   "metadata": {},
   "outputs": [],
   "source": [
    "def genD(func, x):\n",
    "    eps = 1e-4\n",
    "    d = 0.1\n",
    "    zeroTol = np.sqrt(eps/(7e-7))\n",
    "    r = 4\n",
    "    v = 2\n",
    "    x = x.astype(float)\n",
    "    f0 = func(x)\n",
    "    \n",
    "    n = len(x)\n",
    "    h0 = np.abs(d*x) + eps * (np.abs(x) < zeroTol)\n",
    "    D = np.zeros(int(n*(n + 3)/2))\n",
    "    Dapprox = np.zeros(r)\n",
    "    Hdiag = np.zeros(n)\n",
    "    Happrox = np.zeros(r)\n",
    "    \n",
    "    for i in range(n):\n",
    "        h = h0\n",
    "        for k in range(r):\n",
    "            x1 = x.copy()\n",
    "            x1[i] += h[i]\n",
    "            x2 = x.copy()\n",
    "            x2[i] -= h[i]\n",
    "            f1 = func(x1)\n",
    "            f2 = func(x2)\n",
    "            Dapprox[k] = (f1 - f2) / (2*h[i])\n",
    "            Happrox[k] = (f1 - 2*f0 + f2) / h[i]**2\n",
    "            h = h/v\n",
    "        for m in range(r-1):\n",
    "            for k in range(r-m-1):\n",
    "                Dapprox[k] = (Dapprox[k+1]*(4**(m+1)) - Dapprox[k])/(4**(m+1)-1)\n",
    "                Happrox[k] = (Happrox[k+1]*(4**(m+1)) - Happrox[k])/(4**(m+1)-1)\n",
    "        D[i] = Dapprox[0]\n",
    "        Hdiag[i] = Happrox[0]\n",
    "    u = n-1\n",
    "    for i in range(n):\n",
    "        for j in range(i+1):\n",
    "            u+=1\n",
    "            if i==j:\n",
    "                D[u] = Hdiag[i]\n",
    "            else:\n",
    "                h = h0\n",
    "                for k in range(r):\n",
    "                    x1 = x.copy()\n",
    "                    x1[i] += h[i]\n",
    "                    x1[j] += h[j] \n",
    "                    x2 = x.copy()\n",
    "                    x2[i] -= h[i] \n",
    "                    x2[j] -= h[j]\n",
    "                    f1 = func(x1)\n",
    "                    f2 = func(x2)\n",
    "                    Dapprox[k] = (f1 - 2*f0 + f2 - Hdiag[i]*h[i]**2 - Hdiag[j]*h[j]**2)/(2*h[i]*h[j])\n",
    "                    h = h/v\n",
    "                for m in range(r-1):\n",
    "                    for k in range(r-m-1):\n",
    "                        Dapprox[k] = (Dapprox[k+1]*(4**(m+1)) - Dapprox[k])/(4**(m+1)-1)\n",
    "                D[u] = Dapprox[0]\n",
    "    return D"
   ]
  },
  {
   "cell_type": "code",
   "execution_count": null,
   "metadata": {},
   "outputs": [],
   "source": [
    "rosen = lambda x : (1.-x[0])**2 + 105*(x[1]-x[0]**2)**2\n",
    "numHess(rosen, np.array([1, 1]))"
   ]
  }
 ],
 "metadata": {
  "kernelspec": {
   "display_name": "Python 3",
   "language": "python",
   "name": "python3"
  },
  "language_info": {
   "codemirror_mode": {
    "name": "ipython",
    "version": 3
   },
   "file_extension": ".py",
   "mimetype": "text/x-python",
   "name": "python",
   "nbconvert_exporter": "python",
   "pygments_lexer": "ipython3",
   "version": "3.7.3"
  }
 },
 "nbformat": 4,
 "nbformat_minor": 2
}
