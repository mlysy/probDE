{
 "cells": [
  {
   "cell_type": "code",
   "execution_count": 111,
   "metadata": {},
   "outputs": [],
   "source": [
    "import numpy as np\n",
    "from math import exp, sqrt\n",
    "import matplotlib.pyplot as plt\n",
    "import BayesODE.Bayesian as bo\n",
    "from BayesODE.Tests.root_gen import root_gen\n",
    "from BayesODE.utils.utils import mvCond\n",
    "from BayesODE.Kalman.kalman_initial_draw import kalman_initial_draw\n",
    "from BayesODE.Kalman.kalman_ode_higher import kalman_ode_higher\n",
    "from BayesODE.Kalman.higher_mvCond import higher_mvCond\n",
    "from BayesODE.Tests.test_exp_integrate import cov_yy_ex\n",
    "from BayesODE.Kalman.cov_car import cov_car\n",
    "from BayesODE.Kalman.Old.kalman_filter import kalman_filter\n",
    "from BayesODE.Kalman.Old.kalman_smooth import kalman_smooth\n",
    "from BayesODE.Kalman.pykalman.filter_update_full import filter_update_full\n",
    "from pykalman import standard as pks\n",
    "import scipy as sc\n",
    "from BayesODE.Kalman.KalmanTV import KalmanTV"
   ]
  },
  {
   "cell_type": "code",
   "execution_count": 112,
   "metadata": {},
   "outputs": [],
   "source": [
    "def f(x,t):\n",
    "    return [x[0]+2*x[1]+t, 3*x[0]+2*x[1]]\n",
    "x0 = [0,4]\n",
    "v0 = f(x0, 0)"
   ]
  },
  {
   "cell_type": "code",
   "execution_count": 113,
   "metadata": {},
   "outputs": [],
   "source": [
    "def f2(x,t):\n",
    "    return [x[0]+2*x[2], 3*x[0]+2*x[2]]"
   ]
  },
  {
   "cell_type": "code",
   "execution_count": 114,
   "metadata": {},
   "outputs": [],
   "source": [
    "def ss2gss(AA, bb, CC, DD, ee, FF):\n",
    "    p = bb.shape[0]\n",
    "    len_y = bb.shape[0] + ee.shape[0]\n",
    "    N = ee.shape[1] - 1\n",
    "    \n",
    "    Aa = np.zeros((len_y, len_y, N+1))\n",
    "    print(Aa.shape)\n",
    "    bB = np.zeros((len_y, N+1))\n",
    "    Cc = np.zeros((len_y, len_y, N+1))\n",
    "    for i in range(N+1):\n",
    "        #Aa\n",
    "        Aan = np.zeros((len_y, len_y))\n",
    "        Aan[0:p,0:p] = AA[:,:,i]\n",
    "        Aan[p:,0:p] = DD[:,:,i].dot(AA[:,:,i])\n",
    "        Aa[:,:,i] = Aan\n",
    "        \n",
    "        #bB\n",
    "        bBn = np.zeros(len_y)\n",
    "        bBn[0:p] = bb[:,i]\n",
    "        bBn[p:] = DD[:,:,i].dot(bb[:,i]) + ee[:,i]\n",
    "        bB[:,i]  = bBn\n",
    "        \n",
    "        #Cc\n",
    "        Ccn = np.zeros((len_y, len_y))\n",
    "        Ccn[0:p,0:p] = CC[:,:,i]\n",
    "        Ccn[p:,0:p] = DD[:,:,i].dot(CC[:,:,i])\n",
    "        Ccn[p:,p:] = FF[i]\n",
    "        Cc[:,:,i] = Ccn\n",
    "        \n",
    "    Aa[:,:,0] = np.nan\n",
    "    return Aa, bB, Cc\n"
   ]
  },
  {
   "cell_type": "code",
   "execution_count": 169,
   "metadata": {},
   "outputs": [],
   "source": [
    "def kalman_ode_higher(fun, x_0, N, wgtState, muState, varState, wgtMeas, T=1):\n",
    "   \n",
    "    n_dim_meas = wgtMeas.shape[0]\n",
    "    n_dim_state = len(muState)\n",
    "    n_timesteps = N+1\n",
    "\n",
    "    # allocate memory for observations\n",
    "    xMeass = np.zeros((n_timesteps,n_dim_meas))\n",
    "\n",
    "    # argumgents for kalman_filter and kalman_smooth\n",
    "    muMeas = np.zeros(n_dim_meas)\n",
    "    varMeass = np.zeros((n_timesteps, n_dim_meas, n_dim_meas))\n",
    "    muState_filts = np.zeros((n_timesteps, n_dim_state))\n",
    "    varState_filts = np.zeros((n_timesteps, n_dim_state, n_dim_state))\n",
    "    muState_preds = np.zeros((n_timesteps, n_dim_state))\n",
    "    varState_preds = np.zeros((n_timesteps, n_dim_state, n_dim_state))\n",
    "    muState_smooths = np.zeros((n_timesteps, n_dim_state))\n",
    "    varState_smooths = np.zeros((n_timesteps, n_dim_state, n_dim_state))\n",
    "    xStates = np.zeros((n_timesteps, n_dim_state))\n",
    "\n",
    "    # initialize things\n",
    "    muState_filts[0] = x_0\n",
    "    xMeass[0] = x_0.dot(wgtMeas.T)\n",
    "    muState_preds[0] = muState_filts[0]\n",
    "    varState_preds[0] = varState_filts[0]\n",
    "\n",
    "    # forward pass\n",
    "    # calculate mu_tt = E[X_t | y_0:t-1] and\n",
    "    # Sigma_tt = var(X_t | y_0:t-1)\n",
    "\n",
    "    KFS = KalmanTV(n_dim_meas, n_dim_state)\n",
    "    for t in range(N):\n",
    "        mu_tt = np.dot(wgtState, muState_filts[t]) + muState\n",
    "        Sigma_tt = np.linalg.multi_dot([wgtState, varState_filts[t], wgtState.T]) + varState #A*Sigma[t]*A.T + V \n",
    "        varMeass[t+1] = np.linalg.multi_dot([wgtMeas, Sigma_tt, wgtMeas.T]) # new observation_covariance\n",
    "        I_tt = np.random.multivariate_normal(np.zeros(n_dim_state), np.eye(n_dim_state))\n",
    "        D_tt = np.linalg.cholesky(Sigma_tt)\n",
    "        xState_t1 = mu_tt + D_tt.dot(I_tt) #X_{t+1} ~ N(mu_{t+1|t}, Sigma_{t+1|t})\n",
    "        xMeass[t+1] = fun(xState_t1, (t+1)/N) #new observation (y_{t+1})\n",
    "        (muState_preds[t+1], varState_preds[t+1], muState_filts[t+1], varState_filts[t+1]) = (\n",
    "            KFS.filter(muState_past = muState_filts[t],\n",
    "                    varState_past = varState_filts[t],\n",
    "                    muState = muState,\n",
    "                    wgtState = wgtState,\n",
    "                    varState = varState,\n",
    "                    xMeas = xMeass[t+1],\n",
    "                    muMeas = muMeas,\n",
    "                    wgtMeas = wgtMeas,\n",
    "                    varMeas = varMeass[t+1])\n",
    "            \n",
    "        )\n",
    "        if t<2:\n",
    "            print(\"mu: {}\".format(mu_tt))\n",
    "            print(\"xMeas: {}\".format(xMeass[t+1]))\n",
    "            print(muState_filts[t+1])\n",
    "    # backward pass\n",
    "    muState_smooths[-1] = muState_filts[-1]\n",
    "    varState_smooths[-1] = varState_filts[-1]\n",
    "    xStates[-1] = np.random.multivariate_normal(muState_smooths[-1], varState_smooths[-1])\n",
    "    for t in reversed(range(N)):\n",
    "        (muState_smooths[t], varState_smooths[t], xStates[t]) = (\n",
    "            KFS.smooth(xState_next = xStates[t+1],\n",
    "                    muState_next = muState_smooths[t+1],\n",
    "                    varState_next = varState_smooths[t+1],\n",
    "                    muState_filt = muState_filts[t],\n",
    "                    varState_filt = varState_filts[t],\n",
    "                    muState_pred = muState_preds[t+1],\n",
    "                    varState_pred = varState_preds[t+1],\n",
    "                    wgtState = wgtState)\n",
    "        )\n",
    "    \n",
    "    return xStates, muState_smooths, varState_smooths, varState_preds, xMeass, muState_filts, varState_filts\n"
   ]
  },
  {
   "cell_type": "code",
   "execution_count": 133,
   "metadata": {},
   "outputs": [],
   "source": [
    "def mvGSS(AA, bb, CC):\n",
    "    d,veclen = bb.shape\n",
    "    N = veclen-1\n",
    "    D = d*N + d\n",
    "    An_m = np.zeros((d,d,N+1,N+1))\n",
    "    for n in range(N+1):\n",
    "        for m in range(N+1):\n",
    "            if m>n:\n",
    "                An_m[:,:,n,m] = np.eye(d)\n",
    "            elif n==m:\n",
    "                An_m[:,:,n,m] = AA[:,:,n]\n",
    "            else:\n",
    "                diff = n-m\n",
    "                A_diff = AA[:,:,m]\n",
    "                for i in range(diff):\n",
    "                    A_diff = np.matmul(AA[:,:,m+i+1],A_diff)\n",
    "                An_m[:,:,n,m] = A_diff\n",
    "    L = np.zeros((D,D))\n",
    "    mean_Y = np.zeros(D)\n",
    "    for n in range(N+1):\n",
    "        for m in range(n,N+1):\n",
    "            if n == N:\n",
    "                L[m*d:m*d+d,n*d:n*d+d] = np.matmul(np.eye(d), CC[:,:,n])\n",
    "            else:\n",
    "                L[m*d:m*d+d,n*d:n*d+d] = np.matmul(An_m[:,:,m,n+1], CC[:,:,n])\n",
    "        for l in range(n):\n",
    "            mean_Y[n*d:n*d+d] = mean_Y[n*d:n*d+d] + An_m[:,:,n,l+1].dot(bb[:,l])\n",
    "    LL = L.dot(L.T)\n",
    "    var_Y = LL\n",
    "    return An_m, L, mean_Y, var_Y"
   ]
  },
  {
   "cell_type": "code",
   "execution_count": 134,
   "metadata": {},
   "outputs": [],
   "source": [
    "#Define parameters\n",
    "N = 2\n",
    "q = 2\n",
    "p = q+2\n",
    "\n",
    "delta_t = np.array([1/N])\n",
    "r0 = 0.5\n",
    "sigma = 0.001\n",
    "roots = root_gen(r0, p) #Generate roots to draw x^{(3)}_0\n",
    "a = np.array([[0,1,0,0],[0,0,0,1]])\n",
    "\n",
    "Y0 = np.array([x0[0],v0[0],x0[1],v0[1]])\n",
    "A, V = higher_mvCond(delta_t, roots, sigma) \n",
    "lam = np.zeros(p)\n",
    "b = lam - A.dot(lam)\n",
    "fun = f2"
   ]
  },
  {
   "cell_type": "code",
   "execution_count": 170,
   "metadata": {},
   "outputs": [
    {
     "name": "stdout",
     "output_type": "stream",
     "text": [
      "mu: [  4.12860411   7.45110836  -7.07489828 -15.88759291]\n",
      "xMeas: [-10.02118198  -1.7639727 ]\n",
      "[  2.60815878  -1.28503681 -33.5882823   -8.8257828 ]\n",
      "mu: [ -1.10622694 -10.46472524  -0.32607766  55.19859056]\n",
      "xMeas: [-1.75828767 -3.97073585]\n",
      "[ 0.43905835 -6.11150646  3.37610514 25.61392736]\n"
     ]
    }
   ],
   "source": [
    "Yn, Yn_mean, Yn_var, Sigma_preds, xMeass, muState_filts, varState_filts = kalman_ode_higher(f2, Y0, N, A, b, V, a)"
   ]
  },
  {
   "cell_type": "code",
   "execution_count": 137,
   "metadata": {},
   "outputs": [],
   "source": [
    "C = np.linalg.cholesky(V)\n",
    "D = a\n",
    "\n",
    "AA = np.dstack([A]*(N+1))\n",
    "bb = np.repeat(b[:,np.newaxis],N+1,axis=1)\n",
    "CC = np.dstack([C]*(N+1))\n",
    "DD = np.dstack([D]*(N+1))\n",
    "ee = np.zeros((2, N+1))\n",
    "FF = np.zeros((N+1, 2,2))\n",
    "\n",
    "AA[:,:,0] = np.nan\n",
    "bb[:,0] = Y0\n",
    "V_inf = cov_car([], roots, sigma, v_infinity=True) \n",
    "#CC[:,:,0] = np.linalg.cholesky(V_inf)\n",
    "CC[:,:,0] = np.zeros((CC.shape[0], CC.shape[0]))\n",
    "\n",
    "for i in range(1,N+1):\n",
    "    FF[i] = np.linalg.cholesky(np.linalg.multi_dot([D, Sigma_preds[i], D.T]))\n"
   ]
  },
  {
   "cell_type": "code",
   "execution_count": 138,
   "metadata": {},
   "outputs": [
    {
     "data": {
      "text/plain": [
       "array([[-0.06852673,  0.77006529,  0.26983804,  0.02640423],\n",
       "       [-0.23091345, -1.00352665, -1.57120889, -0.19681802]])"
      ]
     },
     "execution_count": 138,
     "metadata": {},
     "output_type": "execute_result"
    }
   ],
   "source": [
    "DD[:,:,i].dot(AA[:,:,i])"
   ]
  },
  {
   "cell_type": "code",
   "execution_count": 139,
   "metadata": {},
   "outputs": [
    {
     "data": {
      "text/plain": [
       "array([0., 0.])"
      ]
     },
     "execution_count": 139,
     "metadata": {},
     "output_type": "execute_result"
    }
   ],
   "source": [
    "DD[:,:,i].dot(bb[:,i])"
   ]
  },
  {
   "cell_type": "code",
   "execution_count": 140,
   "metadata": {},
   "outputs": [
    {
     "name": "stdout",
     "output_type": "stream",
     "text": [
      "(6, 6, 3)\n"
     ]
    }
   ],
   "source": [
    "Aa, bB, Cc = ss2gss(AA,bb,CC,DD,ee,FF)"
   ]
  },
  {
   "cell_type": "code",
   "execution_count": 141,
   "metadata": {},
   "outputs": [],
   "source": [
    "An_m, L, mean_Y, var_Y = mvGSS(Aa,bB,Cc)"
   ]
  },
  {
   "cell_type": "code",
   "execution_count": 142,
   "metadata": {},
   "outputs": [
    {
     "data": {
      "text/plain": [
       "True"
      ]
     },
     "execution_count": 142,
     "metadata": {},
     "output_type": "execute_result"
    }
   ],
   "source": [
    "#Check Y_1\n",
    "var_YY_1 = np.linalg.multi_dot([Aa[:,:,1], var_YY_0, Aa[:,:,1].T]) + np.matmul(Cc[:,:,1],Cc[:,:,1].T)\n",
    "np.allclose(var_Y[6:12, 6:12],var_YY_1)"
   ]
  },
  {
   "cell_type": "code",
   "execution_count": 147,
   "metadata": {},
   "outputs": [],
   "source": [
    "#Kalman Filter p(Z_2|X_{0:2})\n",
    "icond = np.array([False, False, False, False, True, True]*2 + [False, False, False, False, False, False]*(N-2))\n",
    "R,s,T = mvCond(mean_Y[6:], var_Y[6:,6:], icond)"
   ]
  },
  {
   "cell_type": "code",
   "execution_count": 167,
   "metadata": {},
   "outputs": [
    {
     "data": {
      "text/plain": [
       "True"
      ]
     },
     "execution_count": 167,
     "metadata": {},
     "output_type": "execute_result"
    }
   ],
   "source": [
    "np.allclose(R.dot(xMeass[1:3].flatten())[4:] + s[4:], muState_filts[2])"
   ]
  },
  {
   "cell_type": "code",
   "execution_count": 171,
   "metadata": {},
   "outputs": [
    {
     "data": {
      "text/plain": [
       "array([[ 3.46324872e-11,  5.66090866e-11, -5.58033775e-11,\n",
       "        -2.63090137e-10],\n",
       "       [ 5.66090866e-11,  1.58292612e-10,  1.42397880e-10,\n",
       "        -8.81490218e-10],\n",
       "       [-5.58033775e-11,  1.42397880e-10,  1.48544275e-09,\n",
       "         1.74899739e-10],\n",
       "       [-2.63090137e-10, -8.81490218e-10,  1.74899739e-10,\n",
       "         2.90825532e-08]])"
      ]
     },
     "execution_count": 171,
     "metadata": {},
     "output_type": "execute_result"
    }
   ],
   "source": [
    "T[4:8,4:8]"
   ]
  },
  {
   "cell_type": "code",
   "execution_count": 173,
   "metadata": {},
   "outputs": [
    {
     "data": {
      "text/plain": [
       "array([[ 3.46324872e-11,  5.66090866e-11, -5.58033775e-11,\n",
       "        -2.63090137e-10],\n",
       "       [ 5.66090866e-11,  1.58292612e-10,  1.42397880e-10,\n",
       "        -8.81490218e-10],\n",
       "       [-5.58033775e-11,  1.42397880e-10,  1.48544275e-09,\n",
       "         1.74899739e-10],\n",
       "       [-2.63090137e-10, -8.81490218e-10,  1.74899739e-10,\n",
       "         2.90825532e-08]])"
      ]
     },
     "execution_count": 173,
     "metadata": {},
     "output_type": "execute_result"
    }
   ],
   "source": [
    "varState_filts[2]"
   ]
  }
 ],
 "metadata": {
  "kernelspec": {
   "display_name": "Python 3",
   "language": "python",
   "name": "python3"
  },
  "language_info": {
   "codemirror_mode": {
    "name": "ipython",
    "version": 3
   },
   "file_extension": ".py",
   "mimetype": "text/x-python",
   "name": "python",
   "nbconvert_exporter": "python",
   "pygments_lexer": "ipython3",
   "version": "3.7.3"
  }
 },
 "nbformat": 4,
 "nbformat_minor": 2
}
