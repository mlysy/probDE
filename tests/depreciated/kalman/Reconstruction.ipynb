{
 "cells": [
  {
   "cell_type": "code",
   "execution_count": 1,
   "metadata": {},
   "outputs": [],
   "source": [
    "# Imports needed\n",
    "from math import sin, cos\n",
    "import pandas as pd\n",
    "import numpy as np\n",
    "import seaborn as sns\n",
    "import matplotlib.pyplot as plt # for plotting\n",
    "from scipy.integrate import odeint\n",
    "\n",
    "from probDE.utils.utils import root_gen\n",
    "from probDE.Kalman.kalman_multi_solver import kalman_multi_solver"
   ]
  },
  {
   "cell_type": "code",
   "execution_count": null,
   "metadata": {},
   "outputs": [],
   "source": [
    "# RHS of ODE\n",
    "def ode_fun(x_t, t):\n",
    "    return sin(2*t) - x_t[0]\n",
    "\n",
    "# LHS vector of ODE\n",
    "w_mat = np.array([[0.0, 0.0, 1.0]])\n",
    "\n",
    "# These parameters define the order of the ODE and the CAR(p) process\n",
    "q = 2 # ODE order\n",
    "p = q+2 # number of continuous derivatives of CAR(p) solution prior\n",
    "\n",
    "# it is assumed that the solution is sought on the interval [L,U].\n",
    "N = 100 # Number of grids points that are evaluated; in particular, the grid size delta = (U-L)*1/N\n",
    "L = 0\n",
    "U = 10 \n",
    "\n",
    "# The rest of the parameters can be tuned according to ODE\n",
    "# For this problem, we will use\n",
    "mu = np.zeros(p)\n",
    "\n",
    "# Initial value, x0, for the IVP\n",
    "a = np.array([[-1.0, 0.0, 1.0]])"
   ]
  },
  {
   "cell_type": "code",
   "execution_count": null,
   "metadata": {},
   "outputs": [],
   "source": [
    "# Exact Solution for x_t^{(0)}\n",
    "def ode_exact_x(t):\n",
    "    return (-3*cos(t) + 2*sin(t) - sin(2*t))/3\n",
    "\n",
    "# Exact Solution for x_t^{(1)}\n",
    "def ode_exact_x1(t):\n",
    "    return (-2*cos(2*t) + 3*sin(t) + 2*cos(t))/3\n",
    "\n",
    "# Get exact solutions for x^{(0)}, x^{(1)}\n",
    "tseq = np.linspace(L, U, N)\n",
    "exact_x = np.zeros(N)\n",
    "exact_x1 = np.zeros(N)\n",
    "for t in range(N):\n",
    "    exact_x[t] = ode_exact_x(tseq[t])\n",
    "    exact_x1[t] = ode_exact_x1(tseq[t])\n",
    "exact = np.array(list(zip(exact_x, exact_x1)))"
   ]
  },
  {
   "cell_type": "code",
   "execution_count": 2,
   "metadata": {},
   "outputs": [],
   "source": [
    "def fitz(X_t, t):\n",
    "    a = .2\n",
    "    b = .2\n",
    "    c = 3\n",
    "    V, R = X_t\n",
    "    return [c*(V - V**3/3 + R), -1/c*(V - a + b*R)]"
   ]
  },
  {
   "cell_type": "code",
   "execution_count": 3,
   "metadata": {},
   "outputs": [],
   "source": [
    "# RHS of ODE\n",
    "def fitz2(X_t, t):\n",
    "    p = 3\n",
    "    a = .2\n",
    "    b = .2\n",
    "    c = 3\n",
    "    V, R = X_t[p*0], X_t[p*1]\n",
    "    return [c*(V - V**3/3 + R), -1/c*(V - a + b*R)]\n",
    "\n",
    "# LHS Matrix of ODE\n",
    "w_mat = np.array([[0,1], [0,1]])\n",
    "\n",
    "# These parameters define the order of the ODE and the CAR(p) process\n",
    "n = 2 # Number of variates\n",
    "q = 1 # ODE order\n",
    "p = q+2 # number of continuous derivatives of CAR(p) solution prior\n",
    "\n",
    "# it is assumed that the solution is sought on the interval [L,U].\n",
    "Nlst = [8000, 4000, 2000, 800, 400] # Number of grids points that are evaluated; in particular, the grid size delta = (U-L)*1/N\n",
    "L = 0\n",
    "U = 40\n",
    "\n",
    "# Now we need the parameters for the solver\n",
    "# First we need to generate roots, rho, for the CAR(p) priors\n",
    "# We need a set of roots and sigma for each variate\n",
    "roots = root_gen(100, p)\n",
    "rootlst = [roots]*n\n",
    "# The rest of the parameters can be tuned according to ODE\n",
    "# For this problem, we will use\n",
    "sigma = .5\n",
    "sigmalst = [sigma]*n\n",
    "\n",
    "# Initial value, a, for the IVP\n",
    "x0 = [-1, 1]\n",
    "v0 = fitz(x0, 0)\n",
    "mu = np.zeros(n*p)\n",
    "a = np.array(list(zip(x0, v0)))\n",
    "\n",
    "# Run the solver to get an approximation\n",
    "Xn, Xn_mean, Xn_var = kalman_multi_solver(fitz2, L, U, Nlst[-2], mu, sigmalst, rootlst, w_mat, a)"
   ]
  },
  {
   "cell_type": "code",
   "execution_count": 4,
   "metadata": {},
   "outputs": [],
   "source": [
    "tseq = np.linspace(L, U, Nlst[-2])\n",
    "exact = odeint(fitz, x0, tseq)"
   ]
  },
  {
   "cell_type": "code",
   "execution_count": 5,
   "metadata": {},
   "outputs": [],
   "source": [
    "tauseq = np.linspace(100, 300, 9)\n",
    "sigmaseq = np.linspace(0.01, 0.5, 9)\n",
    "\n",
    "def recon_err(fun, L, U, N, mu, w_mat, a, tauseq, sigmaseq, exact, n, p):\n",
    "    std = np.zeros((n, len(tauseq), len(sigmaseq)))\n",
    "    tseq = np.linspace(L, U, N)\n",
    "    for i, tau in enumerate(tauseq):\n",
    "        for j, sigma in enumerate(sigmaseq):\n",
    "            roots = root_gen(tau, p)\n",
    "            rootlst = [roots]*n\n",
    "            sigmalst = [sigma]*n\n",
    "            try:\n",
    "                Xn, _,_ = kalman_multi_solver(fun, L, U, N, mu, sigmalst, rootlst, w_mat, a)\n",
    "                std[:, i, j]= np.std(exact - Xn[:, list(range(0,p*n,p))], axis=0)\n",
    "            except:\n",
    "                std[:, i, j] = np.nan\n",
    "            \n",
    "    return std\n",
    "rec_err = recon_err(fitz2, L, U, Nlst[-2], mu, w_mat, a, tauseq, sigmaseq, exact, n, p)"
   ]
  },
  {
   "cell_type": "code",
   "execution_count": 6,
   "metadata": {},
   "outputs": [],
   "source": [
    "rec_err_1 = pd.DataFrame(rec_err[0], index=tauseq, columns=sigmaseq)\n",
    "rec_err_2 = pd.DataFrame(rec_err[1], index=tauseq, columns=sigmaseq)"
   ]
  },
  {
   "cell_type": "code",
   "execution_count": 7,
   "metadata": {},
   "outputs": [
    {
     "data": {
      "image/png": "[encoded data removed]",
      "text/plain": [
       "<Figure size 432x288 with 2 Axes>"
      ]
     },
     "metadata": {
      "needs_background": "light"
     },
     "output_type": "display_data"
    }
   ],
   "source": [
    "axs = sns.heatmap(rec_err_1, cmap=\"Greens\", mask=np.isnan(rec_err[0]))\n",
    "axs.set_facecolor('black')"
   ]
  },
  {
   "cell_type": "code",
   "execution_count": 8,
   "metadata": {},
   "outputs": [
    {
     "data": {
      "image/png": "[encoded data removed]",
      "text/plain": [
       "<Figure size 432x288 with 2 Axes>"
      ]
     },
     "metadata": {
      "needs_background": "light"
     },
     "output_type": "display_data"
    }
   ],
   "source": [
    "axs = sns.heatmap(rec_err_2, cmap=\"Greens\", mask=np.isnan(rec_err[1]))\n",
    "axs.set_facecolor('black')"
   ]
  }
 ],
 "metadata": {
  "kernelspec": {
   "display_name": "Python 3",
   "language": "python",
   "name": "python3"
  },
  "language_info": {
   "codemirror_mode": {
    "name": "ipython",
    "version": 3
   },
   "file_extension": ".py",
   "mimetype": "text/x-python",
   "name": "python",
   "nbconvert_exporter": "python",
   "pygments_lexer": "ipython3",
   "version": "3.7.3"
  }
 },
 "nbformat": 4,
 "nbformat_minor": 2
}
