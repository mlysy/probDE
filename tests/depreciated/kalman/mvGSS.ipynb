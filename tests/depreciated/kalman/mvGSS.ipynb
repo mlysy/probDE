{
 "cells": [
  {
   "cell_type": "code",
   "execution_count": 6,
   "metadata": {},
   "outputs": [],
   "source": [
    "import numpy as np\n",
    "from math import exp, sqrt\n",
    "import matplotlib.pyplot as plt\n",
    "import probDE.Bayesian as bo\n",
    "#from probDE.Tests.root_gen import root_gen\n",
    "from probDE.utils.utils import mvncond\n",
    "from probDE.Kalman.kalman_initial_draw import kalman_initial_draw\n",
    "from probDE.Kalman.kalman_ode_higher import kalman_ode_higher\n",
    "from probDE.Kalman.higher_mvncond import higher_mvncond\n",
    "from probDE.Kalman.cov_car import cov_car\n",
    "from probDE.Kalman.Old.kalman_filter import kalman_filter\n",
    "from probDE.Kalman.Old.kalman_smooth import kalman_smooth\n",
    "from filter_update_full import filter_update_full\n",
    "from pykalman import standard as pks\n",
    "import scipy as sc"
   ]
  },
  {
   "cell_type": "code",
   "execution_count": 6,
   "metadata": {},
   "outputs": [],
   "source": [
    "from math import sin, cos\n",
    "def chk_F(y_t, t):\n",
    "    return sin(2*t) - y_t[0] #X^{2} = sin(2t) - X\n",
    "\n",
    "def chk_exact_x(t):\n",
    "    return (-3*cos(t) + 2*sin(t) - sin(2*t))/3\n",
    "\n",
    "def chk_exact_x1(t):\n",
    "    return (-2*cos(2*t) + 3*sin(t) + 2*cos(t))/3\n",
    "\n",
    "def chk_exact_x2(t):\n",
    "    return (4*sin(2*t) - 2*sin(t) + 3*cos(t))/3\n"
   ]
  },
  {
   "cell_type": "markdown",
   "metadata": {},
   "source": [
    "# Test Against Pykalman"
   ]
  },
  {
   "cell_type": "code",
   "execution_count": 7,
   "metadata": {},
   "outputs": [],
   "source": [
    "#Define parameters\n",
    "N = 2\n",
    "q = 2\n",
    "p = q+2\n",
    "\n",
    "delta_t = np.array([1/N])\n",
    "r0 = 0.5\n",
    "sigma = 0.001\n",
    "roots = root_gen(r0, p) #Generate roots to draw x^{(3)}_0\n",
    "a = np.array([0,0,1])\n",
    "x0 = np.array([-1,0,0])\n",
    "x0 = np.array([-1,0,chk_F(x0, 0)]) #Initial state\n",
    "\n",
    "Y0 = kalman_initial_draw(roots, sigma, x0, p)\n",
    "A, V = higher_mvCond(delta_t, roots, sigma) \n",
    "lam = np.zeros(p)\n",
    "b = lam - A.dot(lam)\n",
    "fun = chk_F"
   ]
  },
  {
   "cell_type": "code",
   "execution_count": 7,
   "metadata": {},
   "outputs": [],
   "source": [
    "import numpy as np\n",
    "from pykalman import standard as pks\n",
    "from kalmantv.cython import KalmanTV"
   ]
  },
  {
   "cell_type": "code",
   "execution_count": 9,
   "metadata": {},
   "outputs": [],
   "source": [
    "def rel_err(X1, X2):\n",
    "    \"\"\"Relative error between two numpy arrays.\"\"\"\n",
    "    return np.max(np.abs((X1.ravel() - X2.ravel())/X1.ravel()))\n",
    "\n",
    "\n",
    "def rand_vec(n):\n",
    "    \"\"\"Generate a random vector.\"\"\"\n",
    "    return np.random.randn(n)\n",
    "\n",
    "\n",
    "def rand_mat(n, p=None, pd=True):\n",
    "    \"\"\"Generate a random matrix, positive definite if `pd = True`.\"\"\"\n",
    "    if p is None:\n",
    "        p = n\n",
    "    V = np.zeros((n, p), order='F')\n",
    "    V[:] = np.random.randn(n, p)\n",
    "    if (p == n) & pd:\n",
    "        V[:] = np.matmul(V, V.T)\n",
    "    return V"
   ]
  },
  {
   "cell_type": "code",
   "execution_count": 30,
   "metadata": {},
   "outputs": [],
   "source": [
    "def test_predict():\n",
    "    n_meas = np.random.randint(5)\n",
    "    n_state = n_meas + np.random.randint(5)\n",
    "    mu_state_past = rand_vec(n_state)\n",
    "    var_state_past = rand_mat(n_state)\n",
    "    mu_state = rand_vec(n_state)\n",
    "    wgt_state = rand_mat(n_state, pd=False)\n",
    "    var_state = rand_mat(n_state)\n",
    "    mu_state_pred, var_state_pred = (\n",
    "        pks._filter_predict(\n",
    "            wgt_state, var_state,\n",
    "            mu_state, mu_state_past,\n",
    "            var_state_past\n",
    "            )\n",
    "    )\n",
    "    ktv = KalmanTV(n_meas, n_state)\n",
    "    mu_state_pred2 = np.empty(n_state)\n",
    "    var_state_pred2 = np.empty((n_state, n_state), order='F')\n",
    "    ktv.predict(mu_state_pred2, var_state_pred2,\n",
    "                mu_state_past, var_state_past,\n",
    "                mu_state, wgt_state, var_state)\n",
    "    if np.isclose(rel_err(mu_state_pred, mu_state_pred2), 0.0) and \\\n",
    "        np.isclose(rel_err(var_state_pred, var_state_pred2), 0.0):\n",
    "            return True\n",
    "    return False"
   ]
  },
  {
   "cell_type": "code",
   "execution_count": 35,
   "metadata": {},
   "outputs": [],
   "source": [
    "def test_update():\n",
    "    n_meas = np.random.randint(5) + 1\n",
    "    n_state = n_meas + np.random.randint(5)\n",
    "    mu_state_pred = rand_vec(n_state)\n",
    "    var_state_pred = rand_mat(n_state)\n",
    "    x_meas = rand_vec(n_meas)\n",
    "    mu_meas = rand_vec(n_meas)\n",
    "    wgt_meas = rand_mat(n_meas, n_state, pd=False)\n",
    "    var_meas = rand_mat(n_meas)\n",
    "    _, mu_state_filt, var_state_filt = (\n",
    "        pks._filter_correct(\n",
    "            wgt_meas, var_meas,\n",
    "            mu_meas, mu_state_pred,\n",
    "            var_state_pred, x_meas\n",
    "            )\n",
    "        )\n",
    "    ktv = KalmanTV(n_meas, n_state)\n",
    "    mu_state_filt2 = np.empty(n_state)\n",
    "    var_state_filt2 = np.empty((n_state, n_state), order='F')\n",
    "    ktv.update(mu_state_filt2, var_state_filt2,\n",
    "               mu_state_pred, var_state_pred,\n",
    "               x_meas, mu_meas, wgt_meas, var_meas)\n",
    "    if np.isclose(rel_err(mu_state_filt, mu_state_filt2), 0.0) and \\\n",
    "        np.isclose(rel_err(var_state_filt, var_state_filt2), 0.0):\n",
    "            return True\n",
    "    return False"
   ]
  },
  {
   "cell_type": "code",
   "execution_count": 47,
   "metadata": {},
   "outputs": [],
   "source": [
    "def test_smooth_mv():\n",
    "    n_meas = np.random.randint(5) + 2\n",
    "    n_state = n_meas + np.random.randint(5)\n",
    "    mu_state_next = rand_vec(n_state)\n",
    "    var_state_next = rand_mat(n_state)\n",
    "    mu_state_filt = rand_vec(n_state)\n",
    "    var_state_filt = rand_mat(n_state)\n",
    "    mu_state_pred = rand_vec(n_state)\n",
    "    var_state_pred = rand_mat(n_state)\n",
    "    wgt_state = rand_mat(n_state, pd=False)\n",
    "    mu_state_smooth, var_state_smooth, _ = (\n",
    "        pks._smooth_update(\n",
    "            wgt_state, mu_state_filt,\n",
    "            var_state_filt, mu_state_pred,\n",
    "            var_state_pred, mu_state_next,\n",
    "            var_state_next)\n",
    "    )\n",
    "    ktv = KalmanTV(n_meas, n_state)\n",
    "    mu_state_smooth2 = np.empty(n_state)\n",
    "    var_state_smooth2 = np.empty((n_state, n_state), order='F')\n",
    "    ktv.smooth_mv(mu_state_smooth2, var_state_smooth2,\n",
    "                  mu_state_next, var_state_next,\n",
    "                  mu_state_filt, var_state_filt,\n",
    "                  mu_state_pred, var_state_pred,\n",
    "                  wgt_state)\n",
    "    if np.isclose(rel_err(mu_state_smooth, mu_state_smooth2), 0.0) and \\\n",
    "        np.isclose(rel_err(var_state_smooth, var_state_smooth2), 0.0):\n",
    "            return True\n",
    "    return False"
   ]
  },
  {
   "cell_type": "code",
   "execution_count": 49,
   "metadata": {},
   "outputs": [
    {
     "name": "stdout",
     "output_type": "stream",
     "text": [
      "True\n",
      "True\n",
      "True\n"
     ]
    }
   ],
   "source": [
    "print(test_predict())\n",
    "print(test_update())\n",
    "print(test_smooth_mv())"
   ]
  },
  {
   "cell_type": "code",
   "execution_count": null,
   "metadata": {},
   "outputs": [],
   "source": [
    "def ss2gss2(wgt_state, mu_state, var_state, wgt_meas, mu_meas, var_meas):\n",
    "    n_state = len(mu_state)\n",
    "    n_meas = len(mu_meas)\n",
    "    n_gen = n_state + n_meas\n",
    "    wgt_gen = np.zeros((n_gen, n_gen))\n",
    "    mu_gen = np.zeros(n_gen)\n",
    "    var_gen = np.zeros((n_gen, n_gen))\n",
    "    \n",
    "    #AA\n",
    "    wgt_gen[0:n_state, 0:n_state] = wgt_state\n",
    "    wgt_gen[n_state:, 0:n_state] = wgt_meas.dot(wgt_state)\n",
    "    \n",
    "    #BB\n",
    "    mu_gen[0:n_state] = mu_state\n",
    "    mu_gen[n_state:] = wgt_meas.dot(mu_state) + mu_meas\n",
    "\n",
    "    #CC\n",
    "    Ccn = np.zeros((len_y, len_y))\n",
    "    Ccn[0:p,0:p] = CC[:,:,i]\n",
    "    Ccn[p,0:p] = DD[:,i].dot(CC[:,:,i])\n",
    "    Ccn[p,p] = FF[:,i]\n",
    "    Cc[:,:,i] = Ccn\n",
    "        \n",
    "    Aa[:,:,0] = np.nan\n",
    "    return Aa, bB, Cc"
   ]
  },
  {
   "cell_type": "markdown",
   "metadata": {},
   "source": [
    "# MVGSS"
   ]
  },
  {
   "cell_type": "markdown",
   "metadata": {},
   "source": [
    "To differentiate the notation used in the general model and the state-space model. I will use double letter for the general model. For example, we have\n",
    "\n",
    "$AA_n =\\begin{bmatrix} A_n & 0 \\\\ D_nA_n & 0 \\end{bmatrix}$, \n",
    "$bb_n = \\begin{bmatrix} b_n \\\\ D_nb_n + e_n \\end{bmatrix}$, and \n",
    "$CC_n = \\begin{bmatrix} C_n & 0 \\\\ D_nC_n & F_n \\end{bmatrix}$.\n",
    "\n",
    "We also have \n",
    "\n",
    "$bb_0 = \\begin{bmatrix} b_0 \\\\ D_0b_0 \\end{bmatrix}$ and \n",
    "$CC_0 = \\begin{bmatrix} C_0 & 0 \\\\ D_0C_0 & F_0 \\end{bmatrix}$\n",
    "\n",
    "where \n",
    "\n",
    "$A_n = A$, $b_0 = \\lambda$, $b_n = \\lambda - A \\lambda$, $D_n = a_\\star'$, $e_n = 0$, $F_0 = 0$ and $F_n^2 = \\sigma_n^2 = a_\\star'\\Sigma_{n|n-1}a_\\star$."
   ]
  },
  {
   "cell_type": "code",
   "execution_count": 12,
   "metadata": {},
   "outputs": [],
   "source": [
    "C = np.linalg.cholesky(V)\n",
    "D = np.pad(a, (0, p-q-1), 'constant', constant_values=(0,0)) #a_star\n",
    "\n",
    "AA = np.dstack([A]*(N+1))\n",
    "bb = np.repeat(b[:,np.newaxis],N+1,axis=1)\n",
    "CC = np.dstack([C]*(N+1))\n",
    "DD = np.repeat(D[:,np.newaxis],N+1,axis=1)\n",
    "ee = np.zeros((1, N+1))\n",
    "FF = np.zeros((1, N+1))\n",
    "\n",
    "AA[:,:,0] = np.nan\n",
    "bb[:,0] = Y0\n",
    "V_inf = cov_car([], roots, sigma, v_infinity=True) \n",
    "#CC[:,:,0] = np.linalg.cholesky(V_inf)\n",
    "CC[:,:,0] = np.zeros((CC.shape[0], CC.shape[0]))\n",
    "\n",
    "for i in range(N+1):\n",
    "    FF[:,i] = np.sqrt(np.linalg.multi_dot([D.T, Sigma_preds[i], D]))\n"
   ]
  },
  {
   "cell_type": "code",
   "execution_count": 11,
   "metadata": {},
   "outputs": [],
   "source": [
    "def ss2gss(AA, bb, CC, DD, ee, FF):\n",
    "    p = bb.shape[0]\n",
    "    len_y = bb.shape[0] + ee.shape[0]\n",
    "    N = ee.shape[1] - 1\n",
    "    \n",
    "    Aa = np.zeros((len_y, len_y, N+1))\n",
    "    bB = np.zeros((len_y, N+1))\n",
    "    Cc = np.zeros((len_y, len_y, N+1))\n",
    "    for i in range(N+1):\n",
    "        #Aa\n",
    "        Aan = np.zeros((len_y, len_y))\n",
    "        Aan[0:p,0:p] = AA[:,:,i]\n",
    "        Aan[p,0:p] = DD[:,i].dot(AA[:,:,i])\n",
    "        Aa[:,:,i] = Aan\n",
    "        \n",
    "        #bB\n",
    "        bBn = np.zeros(len_y)\n",
    "        bBn[0:p] = bb[:,i]\n",
    "        bBn[p] = DD[:,i].dot(bb[:,i]) + ee[:,i]\n",
    "        bB[:,i]  = bBn\n",
    "        \n",
    "        #Cc\n",
    "        Ccn = np.zeros((len_y, len_y))\n",
    "        Ccn[0:p,0:p] = CC[:,:,i]\n",
    "        Ccn[p,0:p] = DD[:,i].dot(CC[:,:,i])\n",
    "        Ccn[p,p] = FF[:,i]\n",
    "        Cc[:,:,i] = Ccn\n",
    "        \n",
    "    Aa[:,:,0] = np.nan\n",
    "    return Aa, bB, Cc\n"
   ]
  },
  {
   "cell_type": "code",
   "execution_count": 13,
   "metadata": {},
   "outputs": [],
   "source": [
    "def mvGSS(AA, bb, CC):\n",
    "    d,veclen = bb.shape\n",
    "    N = veclen-1\n",
    "    D = d*N + d\n",
    "    An_m = np.zeros((d,d,N+1,N+1))\n",
    "    for n in range(N+1):\n",
    "        for m in range(N+1):\n",
    "            if m>n:\n",
    "                An_m[:,:,n,m] = np.eye(d)\n",
    "            elif n==m:\n",
    "                An_m[:,:,n,m] = AA[:,:,n]\n",
    "            else:\n",
    "                diff = n-m\n",
    "                A_diff = AA[:,:,m]\n",
    "                for i in range(diff):\n",
    "                    A_diff = np.matmul(AA[:,:,m+i+1],A_diff)\n",
    "                An_m[:,:,n,m] = A_diff\n",
    "    L = np.zeros((D,D))\n",
    "    mean_Y = np.zeros(D)\n",
    "    for n in range(N+1):\n",
    "        for m in range(n,N+1):\n",
    "            if n == N:\n",
    "                L[m*d:m*d+d,n*d:n*d+d] = np.matmul(np.eye(d), CC[:,:,n])\n",
    "            else:\n",
    "                L[m*d:m*d+d,n*d:n*d+d] = np.matmul(An_m[:,:,m,n+1], CC[:,:,n])\n",
    "        for l in range(n):\n",
    "            mean_Y[n*d:n*d+d] = mean_Y[n*d:n*d+d] + An_m[:,:,n,l+1].dot(bb[:,l])\n",
    "    LL = L.dot(L.T)\n",
    "    var_Y = LL\n",
    "    return An_m, L, mean_Y, var_Y"
   ]
  },
  {
   "cell_type": "code",
   "execution_count": 14,
   "metadata": {},
   "outputs": [],
   "source": [
    "Aa, bB, Cc = ss2gss(AA,bb,CC,DD,ee,FF)"
   ]
  },
  {
   "cell_type": "code",
   "execution_count": 15,
   "metadata": {},
   "outputs": [],
   "source": [
    "An_m, L, mean_Y, var_Y = mvGSS(Aa,bB,Cc)"
   ]
  },
  {
   "cell_type": "code",
   "execution_count": 16,
   "metadata": {},
   "outputs": [
    {
     "data": {
      "text/plain": [
       "True"
      ]
     },
     "execution_count": 16,
     "metadata": {},
     "output_type": "execute_result"
    }
   ],
   "source": [
    "#Check Y_0\n",
    "var_YY_0 = np.matmul(Cc[:,:,0], Cc[:,:,0].T)\n",
    "np.allclose(var_Y[0:5, 0:5],var_YY_0)"
   ]
  },
  {
   "cell_type": "code",
   "execution_count": 17,
   "metadata": {},
   "outputs": [
    {
     "data": {
      "text/plain": [
       "True"
      ]
     },
     "execution_count": 17,
     "metadata": {},
     "output_type": "execute_result"
    }
   ],
   "source": [
    "#Check Y_1\n",
    "var_YY_1 = np.linalg.multi_dot([Aa[:,:,1], var_YY_0, Aa[:,:,1].T]) + np.matmul(Cc[:,:,1],Cc[:,:,1].T)\n",
    "np.allclose(var_Y[5:10, 5:10],var_YY_1)"
   ]
  },
  {
   "cell_type": "code",
   "execution_count": 18,
   "metadata": {},
   "outputs": [
    {
     "data": {
      "text/plain": [
       "True"
      ]
     },
     "execution_count": 18,
     "metadata": {},
     "output_type": "execute_result"
    }
   ],
   "source": [
    "#Check Y_2\n",
    "var_YY_2 = np.linalg.multi_dot([Aa[:,:,2], var_YY_1, Aa[:,:,2].T]) + np.matmul(Cc[:,:,2],Cc[:,:,2].T)\n",
    "np.allclose(var_Y[10:15, 10:15],var_YY_2)"
   ]
  },
  {
   "cell_type": "markdown",
   "metadata": {},
   "source": [
    "### Kalman Filter Sanity Check"
   ]
  },
  {
   "cell_type": "code",
   "execution_count": 19,
   "metadata": {},
   "outputs": [],
   "source": [
    "#Kalman Filter p(Z_2|X_{0:2})\n",
    "icond = np.array([False, False, False, False, True]*2 + [False, False, False, False, False]*(N-2))\n",
    "R,s,T = mvncond(mean_Y[5:], var_Y[5:,5:], icond)"
   ]
  },
  {
   "cell_type": "code",
   "execution_count": 20,
   "metadata": {},
   "outputs": [
    {
     "data": {
      "text/plain": [
       "True"
      ]
     },
     "execution_count": 20,
     "metadata": {},
     "output_type": "execute_result"
    }
   ],
   "source": [
    "np.allclose(R.dot(us[1:3]).flatten()[4:] + s[4:], mu_currs[2])"
   ]
  },
  {
   "cell_type": "code",
   "execution_count": 21,
   "metadata": {},
   "outputs": [
    {
     "data": {
      "text/plain": [
       "True"
      ]
     },
     "execution_count": 21,
     "metadata": {},
     "output_type": "execute_result"
    }
   ],
   "source": [
    "np.allclose(Sigma_currs[2], T[4:8,4:8])"
   ]
  },
  {
   "cell_type": "markdown",
   "metadata": {},
   "source": [
    "### Kalman Smoothing Sampler"
   ]
  },
  {
   "cell_type": "code",
   "execution_count": 22,
   "metadata": {},
   "outputs": [],
   "source": [
    "#Kalman Filter p(Z_1|X_{0:2}, Y_2)\n",
    "icond = np.array([False, False, False, False, True] + [True, True, True, True, True])\n",
    "R,s,T = mvncond(mean_Y[5:], var_Y[5:,5:], icond)"
   ]
  },
  {
   "cell_type": "code",
   "execution_count": 23,
   "metadata": {},
   "outputs": [],
   "source": [
    "Smooth_obvs = np.append(np.append(us[1],Y_tt[2]),us[2])"
   ]
  },
  {
   "cell_type": "code",
   "execution_count": 24,
   "metadata": {},
   "outputs": [
    {
     "data": {
      "text/plain": [
       "True"
      ]
     },
     "execution_count": 24,
     "metadata": {},
     "output_type": "execute_result"
    }
   ],
   "source": [
    "np.allclose(htt[1], R.dot(Smooth_obvs).flatten() + s)"
   ]
  },
  {
   "cell_type": "code",
   "execution_count": 25,
   "metadata": {},
   "outputs": [
    {
     "data": {
      "text/plain": [
       "True"
      ]
     },
     "execution_count": 25,
     "metadata": {},
     "output_type": "execute_result"
    }
   ],
   "source": [
    "np.allclose(Wtt[1],T)"
   ]
  }
 ],
 "metadata": {
  "kernelspec": {
   "display_name": "Python 3",
   "language": "python",
   "name": "python3"
  },
  "language_info": {
   "codemirror_mode": {
    "name": "ipython",
    "version": 3
   },
   "file_extension": ".py",
   "mimetype": "text/x-python",
   "name": "python",
   "nbconvert_exporter": "python",
   "pygments_lexer": "ipython3",
   "version": "3.7.3"
  }
 },
 "nbformat": 4,
 "nbformat_minor": 2
}
