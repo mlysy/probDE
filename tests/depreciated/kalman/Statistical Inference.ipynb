{
 "cells": [
  {
   "cell_type": "markdown",
   "metadata": {},
   "source": [
    "## FitzHugh-Nagumo\n",
    "\n",
    "We will look at a statistical inference problem using our KalmanODE solver. \n",
    "\n",
    "- The **FitzHugh-Nagumo** ODE model is\n",
    "\n",
    "    $$\n",
    "    \\frac{dV_t}{dt} = c(V_t - V_t^3/3 + R_t), \\qquad \\frac{d R_t}{dt} = -(V_t - a + b R_t)/c.\n",
    "    $$\n",
    "\n",
    "- The true parameter values are $a = .2$, $b = .2$, $c = 3$.\n",
    "\n",
    "- The initial value is $x_0=(-1,1)$. \n",
    "\n",
    "- The parameter priors are $\\theta_j \\stackrel{ind}{\\sim} \\mathrm{LogNormal}(\\theta_{\\star j}, 1)$, where $\\theta_j \\in \\{a, b, c\\}$ and $\\theta_{\\star j}$ is the corresponding true parameter value.\n",
    "\n",
    "- Data is observed at time points $t = 1, 2, \\ldots, 40$, with some error.  That is,\n",
    "\n",
    "    $$\n",
    "    y_{1n} \\stackrel{ind}{\\sim} \\mathcal N(V_n, .01^2), \\qquad y_{2n} \\stackrel{ind}{\\sim} \\mathcal N(R_n, .01^2) \n",
    "    $$\n",
    "\n",
    "- The step sizes for the discretization are $h = (.005, .01, .02, .05, .1)$."
   ]
  },
  {
   "cell_type": "code",
   "execution_count": null,
   "metadata": {},
   "outputs": [],
   "source": [
    "from probDE.car import car_init\n",
    "from probDE.cython.KalmanODE import KalmanODE\n",
    "from probDE.utils import indep_init\n",
    "import numpy as np\n",
    "from inference import inference"
   ]
  },
  {
   "cell_type": "code",
   "execution_count": null,
   "metadata": {},
   "outputs": [],
   "source": [
    "def fitz(X_t, t, theta):\n",
    "    \"FitzHugh-Nagumo ODE function.\"\n",
    "    a, b, c = theta\n",
    "    n_state1 = len(X_t)//2\n",
    "    V, R = X_t[0], X_t[n_state1] \n",
    "    return np.array([c*(V - V*V*V/3 + R), -1/c*(V - a + b*R)])"
   ]
  },
  {
   "cell_type": "markdown",
   "metadata": {},
   "source": [
    "Next we will define the usual parameters required to run our solver."
   ]
  },
  {
   "cell_type": "code",
   "execution_count": null,
   "metadata": {},
   "outputs": [],
   "source": [
    "n_state = 6 # Total state\n",
    "n_state1 = n_state2 = 3\n",
    "n_meas = 2 # Total measures\n",
    "state_ind = [0, 3]\n",
    "\n",
    "# it is assumed that the solution is sought on the interval [tmin, tmax].\n",
    "tmin = 0 \n",
    "tmax = 40\n",
    "h = 0.1 # step size\n",
    "n_eval = int((tmax-tmin)/h)\n",
    "\n",
    "# The rest of the parameters can be tuned according to ODE\n",
    "# For this problem, we will use\n",
    "n_var = 2\n",
    "tau = [100]*n_var\n",
    "sigma = [.1]*n_var\n",
    "\n",
    "# Initial value, a, for the IVP\n",
    "x0 = np.array([-1., 1.])\n",
    "v0 = np.array([1, 1/3])\n",
    "X0 = np.column_stack([x0, v0])\n",
    "w_mat = np.array([[0.0, 1.0], [0.0, 1.0]])\n",
    "\n",
    "# logprior parameters\n",
    "theta_true = np.array([0.2, 0.2, 3]) # True theta\n",
    "n_theta = len(theta_true)\n",
    "phi_sd = np.ones(n_theta)\n",
    "\n",
    "# Observation noise\n",
    "gamma = 0.2\n",
    "\n",
    "# Number of samples to draw from posterior\n",
    "n_samples = 100000"
   ]
  },
  {
   "cell_type": "markdown",
   "metadata": {},
   "source": [
    "First we need some data to do parameter inference. We will simulate the data using the deterministic solver **odeint**."
   ]
  },
  {
   "cell_type": "code",
   "execution_count": null,
   "metadata": {},
   "outputs": [],
   "source": [
    "# Initialize fitz_plot class and simulate observed data\n",
    "inf = inference(state_ind, tmin, tmax, fitz)\n",
    "Y_t = inf.simulate(x0, theta_true, gamma)"
   ]
  },
  {
   "cell_type": "markdown",
   "metadata": {},
   "source": [
    "For a comparison, we will use the Euler's approximation method to demonstrate the effectiveness of our solver."
   ]
  },
  {
   "cell_type": "code",
   "execution_count": null,
   "metadata": {},
   "outputs": [],
   "source": [
    "# Euler simulation\n",
    "hlst = np.array([0.1, 0.05, 0.02, 0.01, 0.005])\n",
    "theta_euler = np.zeros((len(hlst), n_samples, n_theta))\n",
    "for i in range(len(hlst)):\n",
    "    phi_hat, phi_var = inf.phi_fit(Y_t, x0, hlst[i], theta_true, phi_sd, gamma, False)\n",
    "    theta_euler[i] = inf.theta_sample(phi_hat, phi_var, n_samples)"
   ]
  },
  {
   "cell_type": "markdown",
   "metadata": {},
   "source": [
    "Finally, we will our solver to do parameter inference."
   ]
  },
  {
   "cell_type": "code",
   "execution_count": null,
   "metadata": {},
   "outputs": [],
   "source": [
    "# Kalman simulation\n",
    "theta_kalman = np.zeros((len(hlst), n_samples, n_theta))\n",
    "for i in range(len(hlst)):\n",
    "    kinit, x0_state = indep_init([car_init(n_state1, tau[0], sigma[0], hlst[i], w_mat[0], X0[0]),\n",
    "                                  car_init(n_state2, tau[1], sigma[1], hlst[i], w_mat[1], X0[1])],\n",
    "                                  n_state)\n",
    "    n_eval = int((tmax-tmin)/hlst[i])\n",
    "    kode = KalmanODE(n_state, n_meas, tmin, tmax, n_eval, fitz, **kinit)\n",
    "    inf.kode = kode\n",
    "    phi_hat, phi_var = inf.phi_fit(Y_t, x0_state, hlst[i], theta_true, phi_sd, gamma, True)\n",
    "    theta_kalman[i] = inf.theta_sample(phi_hat, phi_var, n_samples)"
   ]
  },
  {
   "cell_type": "markdown",
   "metadata": {},
   "source": [
    "In the plot below, we can see that the step size needs to be a lot smaller, $h=0.02$ for Euler's method to cover the true $\\theta_2$, while our solver only requires $h=0.1$."
   ]
  },
  {
   "cell_type": "code",
   "execution_count": null,
   "metadata": {},
   "outputs": [],
   "source": [
    "# Euler, Kalman plots\n",
    "inf.theta_plot(theta_euler, theta_kalman, theta_true, hlst)"
   ]
  },
  {
   "cell_type": "markdown",
   "metadata": {},
   "source": [
    "## MSEIR"
   ]
  },
  {
   "cell_type": "markdown",
   "metadata": {},
   "source": [
    "We will look at a multivariate ODE system called **MSEIR model**. This model is used in epidemiology where<br/>\n",
    "M = Maternally-derived Immunity<br/>\n",
    "S = Susceptible<br/>\n",
    "E = Exposed<br/>\n",
    "I = Infectious<br/>\n",
    "R = Recovered<br/>\n",
    "\n",
    "\\begin{equation}\n",
    "  \\begin{aligned}\n",
    "    \\frac{dM}{dt} &= \\Lambda - \\delta M - \\mu M \\\\\n",
    "    \\frac{dS}{dt} &= \\delta M- \\frac{\\beta SI}{N} - \\mu S \\\\\n",
    "    \\frac{dE}{dt} &= \\frac{\\beta SI}{N} - (\\epsilon + \\mu)E \\\\\n",
    "    \\frac{dI}{dt} &= \\epsilon E - (\\gamma + \\mu)I \\\\\n",
    "    \\frac{dR}{dt} &= \\gamma I - \\mu R\n",
    "  \\end{aligned}\n",
    "\\end{equation}\n"
   ]
  },
  {
   "cell_type": "code",
   "execution_count": null,
   "metadata": {},
   "outputs": [],
   "source": [
    "def mseir(X_t, t, theta):\n",
    "    p = len(X_t)//5\n",
    "    M, S, E, I, R = X_t[::p]\n",
    "    N = M+S+E+I+R\n",
    "    Lambda, delta, beta, mu, epsilon, gamma = theta\n",
    "    dM = Lambda - delta*M - mu*M\n",
    "    dS = delta*M - beta*S*I/N - mu*S\n",
    "    dE = beta*S*I/N - (epsilon + mu)*E\n",
    "    dI = epsilon*E - (gamma + mu)*I\n",
    "    dR = gamma*I - mu*R\n",
    "    return np.array([dM, dS, dE, dI, dR])"
   ]
  },
  {
   "cell_type": "code",
   "execution_count": null,
   "metadata": {},
   "outputs": [],
   "source": [
    "# LHS Matrix of ODE\n",
    "w_mat = np.array([[0.0, 1.0], [0.0, 1.0], [0.0, 1.0], [0.0, 1.0], [0.0, 1.0]])\n",
    "\n",
    "# These parameters define the order of the ODE and the CAR(p) process\n",
    "n_meas = 5\n",
    "n_state = 15 # number of continuous derivatives of CAR(p) solution prior\n",
    "n_state1 = n_state2 = n_state3 = n_state4 = n_state5 = 3\n",
    "state_ind = [0, 3, 6, 9, 12]\n",
    "\n",
    "# it is assumed that the solution is sought on the interval [tmin, tmax].\n",
    "tmin = 0\n",
    "tmax = 40\n",
    "h = 0.1 # step size\n",
    "n_eval = int((tmax-tmin)/h)\n",
    "\n",
    "# The rest of the parameters can be tuned according to ODE\n",
    "# For this problem, we will use\n",
    "tau = np.array([100, 100, 100, 100, 100])\n",
    "sigma = np.array([.1, .1, .1, .1, .1])\n",
    "\n",
    "# Initial value, x0, for the IVP\n",
    "theta_true = (1.1, 0.7, 0.4, 0.005, 0.02, 0.03) # True theta\n",
    "x0 = np.array([1000, 100, 50, 3, 3])\n",
    "v0 = mseir(x0, 0, theta_true)\n",
    "X0 = np.column_stack([x0, v0])\n",
    "\n",
    "# logprior parameters\n",
    "n_theta = len(theta_true)\n",
    "phi_sd = np.ones(n_theta)\n",
    "\n",
    "# Observation noise\n",
    "gamma = 0.2\n",
    "\n",
    "# Number of samples to draw from posterior\n",
    "n_samples = 100000"
   ]
  },
  {
   "cell_type": "code",
   "execution_count": null,
   "metadata": {},
   "outputs": [],
   "source": [
    "inf = inference(state_ind, tmin, tmax, fitz)\n",
    "Y_t = inf.simulate(x0, theta_true, gamma)"
   ]
  },
  {
   "cell_type": "code",
   "execution_count": null,
   "metadata": {},
   "outputs": [],
   "source": [
    "hlst = np.array([0.1, 0.05, 0.02, 0.01, 0.005])\n",
    "theta_euler2 = np.zeros((len(hlst), n_samples, n_theta))\n",
    "for i in range(len(hlst)):\n",
    "    phi_hat, phi_var = inf.phi_fit(Y_t, x0, hlst[i], theta_true, phi_sd, gamma, False)\n",
    "    theta_euler2[i] = inf.theta_sample(phi_hat, phi_var, n_samples)"
   ]
  },
  {
   "cell_type": "code",
   "execution_count": null,
   "metadata": {},
   "outputs": [],
   "source": [
    "theta_kalman2 = np.zeros((len(hlst), n_samples, n_theta))\n",
    "for i in range(len(hlst)):\n",
    "    print(hlst[i])\n",
    "    kinit, x0_state = indep_init([car_init(n_state1, tau[0], sigma[0], hlst[i], w_mat[0], X0[0]),\n",
    "                                  car_init(n_state2, tau[1], sigma[1], hlst[i], w_mat[1], X0[1]),\n",
    "                                  car_init(n_state3, tau[2], sigma[2], hlst[i], w_mat[2], X0[2]),\n",
    "                                  car_init(n_state4, tau[3], sigma[3], hlst[i], w_mat[3], X0[3]),\n",
    "                                  car_init(n_state5, tau[4], sigma[4], hlst[i], w_mat[4], X0[4])], n_state)\n",
    "    n_eval = int((tmax-tmin)/hlst[i])\n",
    "    kode = KalmanODE(n_state, n_meas, tmin, tmax, n_eval, mseir, **kinit)\n",
    "    inf.kode = kode\n",
    "    phi_hat, phi_var = inf.phi_fit(Y_t, x0_state, hlst[i], theta_true, phi_sd, gamma, True)\n",
    "    theta_kalman2[i] = inf.theta_sample(phi_hat, phi_var, n_samples)"
   ]
  },
  {
   "cell_type": "code",
   "execution_count": null,
   "metadata": {},
   "outputs": [],
   "source": [
    "inf.theta_plot(theta_euler2, theta_kalman2, theta_true, hlst)"
   ]
  }
 ],
 "metadata": {
  "kernelspec": {
   "display_name": "Python 3",
   "language": "python",
   "name": "python3"
  },
  "language_info": {
   "codemirror_mode": {
    "name": "ipython",
    "version": 3
   },
   "file_extension": ".py",
   "mimetype": "text/x-python",
   "name": "python",
   "nbconvert_exporter": "python",
   "pygments_lexer": "ipython3",
   "version": "3.7.3"
  }
 },
 "nbformat": 4,
 "nbformat_minor": 2
}
