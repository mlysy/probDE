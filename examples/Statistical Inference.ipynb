{
 "cells": [
  {
   "cell_type": "markdown",
   "metadata": {},
   "source": [
    "## FitzHugh-Nagumo\n",
    "\n",
    "We will look at a statistical inference problem using our KalmanODE solver. \n",
    "\n",
    "- The **FitzHugh-Nagumo** ODE model is\n",
    "\n",
    "    $$\n",
    "    \\frac{dV_t}{dt} = c(V_t - V_t^3/3 + R_t), \\qquad \\frac{d R_t}{dt} = -(V_t - a + b R_t)/c.\n",
    "    $$\n",
    "\n",
    "- The true parameter values are $a = .2$, $b = .2$, $c = 3$.\n",
    "\n",
    "- The initial value is $x_0=(-1,1)$. \n",
    "\n",
    "- The parameter priors are $\\theta_j \\stackrel{ind}{\\sim} \\mathrm{LogNormal}(\\theta_{\\star j}, 1)$, where $\\theta_j \\in \\{a, b, c\\}$ and $\\theta_{\\star j}$ is the corresponding true parameter value.\n",
    "\n",
    "- Data is observed at time points $t = 1, 2, \\ldots, 40$, with some error.  That is,\n",
    "\n",
    "    $$\n",
    "    y_{1n} \\stackrel{ind}{\\sim} \\mathcal N(V_n, .01^2), \\qquad y_{2n} \\stackrel{ind}{\\sim} \\mathcal N(R_n, .01^2) \n",
    "    $$\n",
    "\n",
    "- The step sizes for the discretization are $h = (.005, .01, .02, .05, .1)$."
   ]
  },
  {
   "cell_type": "code",
   "execution_count": 1,
   "metadata": {},
   "outputs": [],
   "source": [
    "import numpy as np\n",
    "from fitz.fitz_plot import fitz_plot\n",
    "from probDE.car import car_init\n",
    "from probDE.cython.KalmanODE import KalmanODE\n",
    "from probDE.utils import indep_init"
   ]
  },
  {
   "cell_type": "code",
   "execution_count": 2,
   "metadata": {},
   "outputs": [],
   "source": [
    "def fitz(X_t, t, theta):\n",
    "    \"FitzHugh-Nagumo ODE function.\"\n",
    "    a, b, c = theta\n",
    "    n_state1 = len(X_t)//2\n",
    "    V, R = X_t[0], X_t[n_state1] \n",
    "    return np.array([c*(V - V*V*V/3 + R), -1/c*(V - a + b*R)])"
   ]
  },
  {
   "cell_type": "markdown",
   "metadata": {},
   "source": [
    "Next we will define the usual parameters required to run our solver."
   ]
  },
  {
   "cell_type": "code",
   "execution_count": 3,
   "metadata": {},
   "outputs": [],
   "source": [
    "# These parameters define the order of the ODE and the CAR(p) process\n",
    "n_state1 = 3 # State dimension of V_n\n",
    "n_state2 = 3 # State dimension of R_n\n",
    "n_state = 6 # Total state\n",
    "n_meas = 2 # Total measures\n",
    "\n",
    "# it is assumed that the solution is sought on the interval [tmin, tmax].\n",
    "tmin = 0 \n",
    "tmax = 40\n",
    "h = 0.1 # step size\n",
    "n_eval = int((tmax-tmin)/h)\n",
    "\n",
    "# The rest of the parameters can be tuned according to ODE\n",
    "# For this problem, we will use\n",
    "n_var = 2\n",
    "tau = [100]*n_var\n",
    "sigma = [.1]*n_var\n",
    "\n",
    "# Initial value, a, for the IVP\n",
    "x0 = [-1, 1]\n",
    "v0 = [1, 1/3]\n",
    "X0 = np.column_stack([x0, v0])\n",
    "w_mat = np.array([[0.0, 1.0], [0.0, 1.0]])\n",
    "\n",
    "# logprior parameters\n",
    "theta_true = np.array([0.2, 0.2, 3]) # True theta\n",
    "n_theta = len(theta_true)\n",
    "phi_sd = np.ones(n_theta) \n",
    "\n",
    "# Observation noise\n",
    "gamma = 0.2\n",
    "\n",
    "# Number of samples to draw from posterior\n",
    "n_samples = 100000"
   ]
  },
  {
   "cell_type": "markdown",
   "metadata": {},
   "source": [
    "First we need some data to do parameter inference. We will simulate the data using the deterministic solver **odeint**."
   ]
  },
  {
   "cell_type": "code",
   "execution_count": 4,
   "metadata": {},
   "outputs": [],
   "source": [
    "# Initialize fitz_plot class and simulate observed data\n",
    "fplot = fitz_plot(n_state1, tmin, tmax)\n",
    "Y_t, X_t = fplot.simulate(x0, theta_true, gamma)"
   ]
  },
  {
   "cell_type": "markdown",
   "metadata": {},
   "source": [
    "For a comparison, we will use the Euler's approximation method to demonstrate the effectiveness of our solver."
   ]
  },
  {
   "cell_type": "code",
   "execution_count": 7,
   "metadata": {},
   "outputs": [],
   "source": [
    "# Euler simulation\n",
    "hlst = np.array([0.1, 0.05, 0.02, 0.01, 0.005])\n",
    "Theta_euler = np.zeros((len(hlst), n_samples, n_theta))\n",
    "for i in range(len(hlst)):\n",
    "    phi_hat, phi_var = fplot.phi_fit(fplot.euler_nlpost, Y_t, x0, hlst[i], theta_true, phi_sd, gamma)\n",
    "    Theta_euler[i] = fplot.Theta_sample(phi_hat, phi_var, n_samples)"
   ]
  },
  {
   "cell_type": "markdown",
   "metadata": {},
   "source": [
    "Finally, we will our solver to do parameter inference."
   ]
  },
  {
   "cell_type": "code",
   "execution_count": 6,
   "metadata": {},
   "outputs": [],
   "source": [
    "# Kalman simulation\n",
    "Theta_kalman = np.zeros((len(hlst), n_samples, n_theta))\n",
    "for i in range(len(hlst)):\n",
    "    kinit, x0_state = indep_init([car_init(n_state1, tau[0], sigma[0], hlst[i], w_mat[0], X0[0]),\n",
    "                                  car_init(n_state2, tau[1], sigma[1], hlst[i], w_mat[1], X0[1])],\n",
    "                                  n_state)\n",
    "    n_eval = int((tmax-tmin)/hlst[i])\n",
    "    kode = KalmanODE(n_state, n_meas, tmin, tmax, n_eval, fitz, **kinit)\n",
    "    fplot.kode = kode\n",
    "    phi_hat, phi_var = fplot.phi_fit(fplot.kalman_nlpost, Y_t, x0_state, hlst[i], theta_true, phi_sd, gamma)\n",
    "    Theta_kalman[i] = fplot.Theta_sample(phi_hat, phi_var, n_samples)"
   ]
  },
  {
   "cell_type": "markdown",
   "metadata": {},
   "source": [
    "In the plot below, we can see that the step size needs to be a lot smaller, $h=0.02$ for Euler's method to cover the true $\\theta_2$, while our solver only requires $h=0.1$."
   ]
  },
  {
   "cell_type": "code",
   "execution_count": null,
   "metadata": {},
   "outputs": [],
   "source": [
    "# Euler, Kalman plots\n",
    "fplot.theta_plot(Theta_euler, Theta_kalman, theta_true, hlst)"
   ]
  }
 ],
 "metadata": {
  "kernelspec": {
   "display_name": "Python 3",
   "language": "python",
   "name": "python3"
  },
  "language_info": {
   "codemirror_mode": {
    "name": "ipython",
    "version": 3
   },
   "file_extension": ".py",
   "mimetype": "text/x-python",
   "name": "python",
   "nbconvert_exporter": "python",
   "pygments_lexer": "ipython3",
   "version": "3.7.3"
  }
 },
 "nbformat": 4,
 "nbformat_minor": 2
}
