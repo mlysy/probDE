{
 "cells": [
  {
   "cell_type": "markdown",
   "metadata": {},
   "source": [
    "## KalmanODE & KalmanODE_py"
   ]
  },
  {
   "cell_type": "code",
   "execution_count": 43,
   "metadata": {},
   "outputs": [
    {
     "name": "stdout",
     "output_type": "stream",
     "text": [
      "The cython extension is already loaded. To reload it, use:\n",
      "  %reload_ext cython\n"
     ]
    }
   ],
   "source": [
    "import numpy as np\n",
    "import matplotlib.pyplot as plt\n",
    "from KalmanTest.KalmanODE_py import KalmanODE_py\n",
    "from probDE.Kalman.ode_init import car_init, indep_ode_init\n",
    "from probDE.cython.KalmanTest.KalmanODE import KalmanODE\n",
    "from probDE.utils.utils import rand_mat\n",
    "from scipy.integrate import odeint\n",
    "\n",
    "%load_ext cython"
   ]
  },
  {
   "cell_type": "code",
   "execution_count": 68,
   "metadata": {},
   "outputs": [],
   "source": [
    "from math import sin\n",
    "from scipy import integrate\n",
    "def ode_py(x_t, t, theta=None):\n",
    "    return sin(2*t) - x_t[0]\n",
    "\n",
    "def f(x_t, t):\n",
    "    return [x_t[1], sin(2*t) - x_t[0]]"
   ]
  },
  {
   "cell_type": "code",
   "execution_count": 164,
   "metadata": {},
   "outputs": [],
   "source": [
    "# LHS vector of ODE\n",
    "w_vec = np.array([0.0, 0.0, 1.0])\n",
    "\n",
    "# These parameters define the order of the ODE and the CAR(p) process\n",
    "n_meas = 1\n",
    "n_state = 4\n",
    "\n",
    "# it is assumed that the solution is sought on the interval [tmin, tmax].\n",
    "n_eval = 100\n",
    "tmin = 0\n",
    "tmax = 10\n",
    "\n",
    "# The rest of the parameters can be tuned according to ODE\n",
    "# For this problem, we will use\n",
    "tau = 50\n",
    "sigma = .5\n",
    "\n",
    "# Initial value, x0, for the IVP\n",
    "x0 = np.array([-1., 0., 1.])"
   ]
  },
  {
   "cell_type": "code",
   "execution_count": 165,
   "metadata": {},
   "outputs": [],
   "source": [
    "# Get parameters needed to run the solver\n",
    "dt = (tmax-tmin)/n_eval\n",
    "kinit = indep_ode_init([car_init(n_state, tau, sigma, dt, w_vec, x0)], n_state)\n",
    "x0_state = kinit[-1]\n",
    "\n",
    "# Initialize the Kalman class\n",
    "kalmanode = KalmanODE.initialize(kinit, n_state, n_meas, tmin, tmax, n_eval, ode_py)\n",
    "# Run the solver to get an approximation\n",
    "kalman_sim = kalmanode.solve(x0_state, mv=False, sim=True)"
   ]
  },
  {
   "cell_type": "code",
   "execution_count": 166,
   "metadata": {},
   "outputs": [
    {
     "name": "stdout",
     "output_type": "stream",
     "text": [
      "366 µs ± 12.7 µs per loop (mean ± std. dev. of 7 runs, 100 loops each)\n"
     ]
    }
   ],
   "source": [
    "kalmanode = KalmanODE.initialize(kinit, n_state, n_meas, tmin, tmax, n_eval, ode_py) # Initialize the class\n",
    "kalman_cy = %timeit -o -n 100 _ = kalmanode.solve(x0_state, mv=False, sim=True)"
   ]
  },
  {
   "cell_type": "code",
   "execution_count": 167,
   "metadata": {},
   "outputs": [
    {
     "name": "stdout",
     "output_type": "stream",
     "text": [
      "18.2 ms ± 740 µs per loop (mean ± std. dev. of 7 runs, 100 loops each)\n"
     ]
    }
   ],
   "source": [
    "kalmanode_py = KalmanODE_py.initialize(kinit, n_state, n_meas, tmin, tmax, n_eval, ode_py) # Initialize the class\n",
    "kalman_py = %timeit -o -n 100 _ = kalmanode_py.solve(x0_state, mv=False, sim=True)\n",
    "#ode = %timeit -o ode = integrate.odeint(f, [-1, 0], tseq)"
   ]
  },
  {
   "cell_type": "code",
   "execution_count": 168,
   "metadata": {},
   "outputs": [
    {
     "name": "stdout",
     "output_type": "stream",
     "text": [
      "py/cy: 49.592655256284054\n"
     ]
    }
   ],
   "source": [
    "print('py/cy: {}'.format(kalman_py.average/kalman_cy.average))"
   ]
  },
  {
   "cell_type": "code",
   "execution_count": 143,
   "metadata": {},
   "outputs": [
    {
     "name": "stdout",
     "output_type": "stream",
     "text": [
      "ode/cy: 3.134937407243128\n"
     ]
    }
   ],
   "source": [
    "print('ode/cy: {}'.format(ode.average/kalman_cy.average))"
   ]
  },
  {
   "cell_type": "code",
   "execution_count": null,
   "metadata": {},
   "outputs": [],
   "source": [
    "from probDE.Examples.readme_graph import readme_graph\n",
    "draws = 100\n",
    "XXn = readme_graph(ode_py, n_state, n_meas, tmin, tmax, w_vec, x0, draws)"
   ]
  },
  {
   "cell_type": "markdown",
   "metadata": {},
   "source": [
    "## Lorenz63"
   ]
  },
  {
   "cell_type": "code",
   "execution_count": 82,
   "metadata": {},
   "outputs": [],
   "source": [
    "def lorenz0(X_t, t, theta=(28, 10, 8/3)):\n",
    "    rho, sigma, beta = theta\n",
    "    p = 3\n",
    "    x, y, z = X_t[0], X_t[1], X_t[2]\n",
    "    return np.array([-sigma*x + sigma*y, rho*x - y -x*z, -beta*z + x*y]) "
   ]
  },
  {
   "cell_type": "code",
   "execution_count": 133,
   "metadata": {},
   "outputs": [],
   "source": [
    "# RHS of ODE\n",
    "def lorenz(X_t, t, theta=(28, 10, 8/3)):\n",
    "    rho, sigma, beta = theta\n",
    "    p = 2\n",
    "    x, y, z = X_t[p*0], X_t[p*1], X_t[p*2]\n",
    "    return np.array([-sigma*x + sigma*y, rho*x - y -x*z, -beta*z + x*y])\n",
    "\n",
    "# LHS Matrix of ODE\n",
    "w_mat = np.array([[0.0, 1.0], [0.0, 1.0], [0.0, 1.0]])\n",
    "\n",
    "# These parameters define the order of the ODE and the CAR(p) process\n",
    "n_meas = 3\n",
    "n_state = 6 # number of continuous derivatives of CAR(p) solution prior\n",
    "n_state1 = n_state2 = n_state3 = 2\n",
    "n_var_states = np.array([n_state1, n_state2, n_state3])\n",
    "\n",
    "# it is assumed that the solution is sought on the interval [tmin, tmax].\n",
    "n_eval = 5000\n",
    "tmin = 0\n",
    "tmax = 20\n",
    "theta=(28, 10, 8/3)\n",
    "\n",
    "# The rest of the parameters can be tuned according to ODE\n",
    "# For this problem, we will use\n",
    "tau = np.array([1.3, 1.3, 1.3])\n",
    "sigma = np.array([.5, .5, .5])\n",
    "scale = 10 # Scaling factor for root generation\n",
    "\n",
    "# Initial value, x0, for the IVP\n",
    "x0 = [-12, -5, 38]\n",
    "v0 = [70, 125, -124/3]\n",
    "x0 = np.column_stack([x0, v0])"
   ]
  },
  {
   "cell_type": "code",
   "execution_count": 134,
   "metadata": {},
   "outputs": [],
   "source": [
    "# Get parameters needed to run the solver\n",
    "dt = (tmax-tmin)/n_eval\n",
    "kinit = indep_ode_init([car_init(n_state1, tau[0], sigma[0], dt, w_mat[0], x0[0], scale),\n",
    "                        car_init(n_state2, tau[1], sigma[1], dt, w_mat[1], x0[1], scale),\n",
    "                        car_init(n_state3, tau[2], sigma[2], dt, w_mat[2], x0[2], scale)], n_state)\n",
    "x0_state = kinit[-1]\n",
    "\n",
    "# Initialize the Kalman class\n",
    "kalmanode = KalmanODE.initialize(kinit, n_state, n_meas, tmin, tmax, n_eval, lorenz)\n",
    "# Run the solver to get an approximation\n",
    "kalman_lor_sim = kalmanode.solve(x0_state, theta, mv=False, sim=True)"
   ]
  },
  {
   "cell_type": "code",
   "execution_count": 135,
   "metadata": {},
   "outputs": [
    {
     "name": "stdout",
     "output_type": "stream",
     "text": [
      "52.7 ms ± 869 µs per loop (mean ± std. dev. of 7 runs, 10 loops each)\n"
     ]
    }
   ],
   "source": [
    "kalmanode = KalmanODE.initialize(kinit, n_state, n_meas, tmin, tmax, n_eval, lorenz) # Initialize the class\n",
    "kalman_lor_cy = %timeit -o _ = kalmanode.solve(x0_state, theta, mv=False, sim=True)"
   ]
  },
  {
   "cell_type": "code",
   "execution_count": 136,
   "metadata": {},
   "outputs": [
    {
     "name": "stdout",
     "output_type": "stream",
     "text": [
      "941 ms ± 7.92 ms per loop (mean ± std. dev. of 7 runs, 1 loop each)\n"
     ]
    }
   ],
   "source": [
    "kalmanode_py = KalmanODE_py.initialize(kinit, n_state, n_meas, tmin, tmax, n_eval, lorenz) # Initialize the class\n",
    "kalman_lor_py = %timeit -o _ = kalmanode_py.solve(x0_state, theta, mv=False, sim=True)"
   ]
  },
  {
   "cell_type": "code",
   "execution_count": 137,
   "metadata": {},
   "outputs": [
    {
     "data": {
      "text/plain": [
       "17.83358566046712"
      ]
     },
     "execution_count": 137,
     "metadata": {},
     "output_type": "execute_result"
    }
   ],
   "source": [
    "kalman_lor_py.average/kalman_lor_cy.average"
   ]
  },
  {
   "cell_type": "code",
   "execution_count": 90,
   "metadata": {},
   "outputs": [
    {
     "name": "stdout",
     "output_type": "stream",
     "text": [
      "27.3 ms ± 1.05 ms per loop (mean ± std. dev. of 7 runs, 10 loops each)\n"
     ]
    }
   ],
   "source": [
    "tseq = np.linspace(tmin, tmax, n_eval+1)\n",
    "ode = %timeit -o _ = odeint(lorenz0, x0[:, 0], tseq)"
   ]
  },
  {
   "cell_type": "code",
   "execution_count": 91,
   "metadata": {},
   "outputs": [
    {
     "data": {
      "text/plain": [
       "0.3516289350011044"
      ]
     },
     "execution_count": 91,
     "metadata": {},
     "output_type": "execute_result"
    }
   ],
   "source": [
    "ode.average/kalman_lor_cy.average"
   ]
  },
  {
   "cell_type": "code",
   "execution_count": null,
   "metadata": {},
   "outputs": [],
   "source": [
    "from probDE.Examples.lorenz_graph import lorenz_graph\n",
    "tau = np.array([1.3, 1.3, 1.3])\n",
    "sigma = np.array([.5, .5, .5])\n",
    "draws = 1000\n",
    "lorenz_graph(lorenz, n_state, n_meas, tmin, tmax, n_eval, w_mat, n_var_states, tau, sigma, x0, theta, scale, draws)"
   ]
  },
  {
   "cell_type": "markdown",
   "metadata": {},
   "source": [
    "## Lane-Emden"
   ]
  },
  {
   "cell_type": "code",
   "execution_count": null,
   "metadata": {},
   "outputs": [],
   "source": [
    "def lane(x_t, t, theta=None):\n",
    "    return np.array([-2/t*x_t[1] - x_t[0]**5])\n",
    "\n",
    "# LHS vector of ODE\n",
    "w_vec = np.array([0., 0., 1.])\n",
    "\n",
    "# These parameters define the order of the ODE and the CAR(p) process\n",
    "n_meas = 1\n",
    "n_state = 3\n",
    "\n",
    "# it is assumed that the solution is sought on the interval [tmin, tmax].\n",
    "n_eval = 200\n",
    "tmin = 0\n",
    "tmax = 10\n",
    "\n",
    "# The rest of the parameters can be tuned according to ODE\n",
    "# For this problem, we will use\n",
    "tau = 10\n",
    "sigma = .001\n",
    "\n",
    "# Initial value, x0, for the IVP\n",
    "x0 = np.array([1., 0., -1.]) #Initial State"
   ]
  },
  {
   "cell_type": "code",
   "execution_count": null,
   "metadata": {},
   "outputs": [],
   "source": [
    "# Get parameters needed to run the solver\n",
    "dt = (tmax-tmin)/n_eval\n",
    "kinit = indep_ode_init([car_init(n_state, tau, sigma, dt, w_vec, x0)], n_state)\n",
    "x0_state = kinit[-1]\n",
    "\n",
    "# Cython\n",
    "kalmanode = KalmanODE.initialize(kinit, n_state, n_meas, tmin, tmax, n_eval, lane) # Initialize the class\n",
    "kalman_lane_sim = kalmanode.solve(x0_state, mv=False, sim=True)"
   ]
  },
  {
   "cell_type": "code",
   "execution_count": null,
   "metadata": {},
   "outputs": [],
   "source": [
    "kalman_lane_cy = %timeit -o _ = kalmanode.solve(x0_state, mv=True, sim=True)"
   ]
  },
  {
   "cell_type": "code",
   "execution_count": null,
   "metadata": {},
   "outputs": [],
   "source": [
    "kalmanode_py = KalmanODE_py.initialize(kinit, n_state, n_meas, tmin, tmax, n_eval, lane) # Initialize the class\n",
    "kalman_lane_py = %timeit -o _, _, _ = kalmanode_py.solve(x0_state, mv=True, sim=True)"
   ]
  },
  {
   "cell_type": "code",
   "execution_count": null,
   "metadata": {},
   "outputs": [],
   "source": [
    "kalman_lane_py.average/kalman_lane_cy.average"
   ]
  },
  {
   "cell_type": "code",
   "execution_count": null,
   "metadata": {},
   "outputs": [],
   "source": [
    "from probDE.Examples.lane_graph import lane_graph\n",
    "draws  = 100\n",
    "lane_graph(lane, n_state, n_meas, tmin, tmax, n_eval, w_vec, tau, sigma, x0, draws)"
   ]
  },
  {
   "cell_type": "markdown",
   "metadata": {},
   "source": [
    "## FitzHugh-Nagumo\n",
    "\n",
    "- The ODE model is\n",
    "\n",
    "    $$\n",
    "    \\frac{dV_t}{dt} = c(V_t - V_t^3/3 + R_t), \\qquad \\frac{d R_t}{dt} = -(V_t - a + b R_t)/c.\n",
    "    $$\n",
    "\n",
    "- The true parameter values are $a = .2$, $b = .2$, $c = 3$.\n",
    "\n",
    "- The parameter priors are $\\theta_j \\stackrel{ind}{\\sim} \\mathrm{LogNormal}(\\theta_{\\star j}, 1)$, where $\\theta_j \\in \\{a, b, c\\}$ and $\\theta_{\\star j}$ is the corresponding true parameter value.\n",
    "\n",
    "- Data is observed at time points $t = 1, 2, \\ldots, 40$, with some error.  That is,\n",
    "\n",
    "    $$\n",
    "    y_{1n} \\stackrel{ind}{\\sim} \\mathcal N(V_n, .01^2), \\qquad y_{2n} \\stackrel{ind}{\\sim} \\mathcal N(R_n, .01^2) \n",
    "    $$\n",
    "\n",
    "- The step sizes for the discretization are $h = (.005, .01, .02, .05, .1)$."
   ]
  },
  {
   "cell_type": "code",
   "execution_count": 2,
   "metadata": {},
   "outputs": [],
   "source": [
    "from probDE.Examples.fitz_plot import fitz_plot\n",
    "def fitz(X_t, t, theta):\n",
    "    \"FitzHugh-Nagumo ODE function.\"\n",
    "    a, b, c = theta\n",
    "    V, R = X_t[0], X_t[n_state1]\n",
    "    return np.array([c*(V - V**3/3 + R), -1/c*(V - a + b*R)])"
   ]
  },
  {
   "cell_type": "code",
   "execution_count": 220,
   "metadata": {},
   "outputs": [],
   "source": [
    "# These parameters define the order of the ODE and the CAR(p) process\n",
    "n_state1 = 3 # State dimension of V_n\n",
    "n_state2 = 3 # State dimension of R_n\n",
    "n_state = 6 # Total state\n",
    "n_meas = 2 # Total measures\n",
    "\n",
    "# it is assumed that the solution is sought on the interval [tmin, tmax].\n",
    "tmin = 0 \n",
    "tmax = 40\n",
    "h = 0.1 # step size\n",
    "n_eval = int((tmax-tmin)/h)\n",
    "\n",
    "# The rest of the parameters can be tuned according to ODE\n",
    "# For this problem, we will use\n",
    "n_var = 2\n",
    "tau = [100]*n_var\n",
    "sigma = [.1]*n_var\n",
    "\n",
    "# Initial value, a, for the IVP\n",
    "theta_true = np.array([0.2, 0.2, 3]) # True theta\n",
    "x0 = [-1, 1]\n",
    "v0 = [1, 1/3]\n",
    "X0 = np.column_stack([x0, v0])\n",
    "w_mat = np.array([[0.0, 1.0], [0.0, 1.0]])\n",
    "\n",
    "# logprior parameters\n",
    "n_theta = len(theta_true)\n",
    "phi_sd = np.ones(n_theta) \n",
    "\n",
    "# Observation noise\n",
    "gamma = 0.2\n",
    "\n",
    "# Number of samples to draw from posterior\n",
    "n_samples = 100000"
   ]
  },
  {
   "cell_type": "code",
   "execution_count": null,
   "metadata": {},
   "outputs": [],
   "source": [
    "# initialize fitz_plot class and simulate date via odeint\n",
    "fplot = fitz_plot(n_state1, tmin, tmax)\n",
    "Y_t, X_t = fplot.simulate(x0, theta_true, gamma)"
   ]
  },
  {
   "cell_type": "code",
   "execution_count": null,
   "metadata": {},
   "outputs": [],
   "source": [
    "# Euler simulation\n",
    "hlst = np.array([0.1, 0.05, 0.02, 0.01, 0.005])\n",
    "Theta_euler = np.zeros((len(hlst), n_samples, n_theta))\n",
    "for i in range(len(hlst)):\n",
    "    phi_hat, phi_var = fplot.phi_fit(fplot.euler_nlpost, Y_t, x0, hlst[i], theta_true, phi_sd, gamma)\n",
    "    Theta_euler[i] = fplot.Theta_sample(phi_hat, phi_var, n_samples)"
   ]
  },
  {
   "cell_type": "code",
   "execution_count": null,
   "metadata": {},
   "outputs": [],
   "source": [
    "# Kalman simulation\n",
    "hlst = np.array([0.1, 0.05, 0.02, 0.01, 0.005])\n",
    "Theta_kalman = np.zeros((len(hlst), n_samples, n_theta))\n",
    "for i in range(len(hlst)):\n",
    "    kinit = indep_ode_init([car_init(n_state1, tau[0], sigma[0], hlst[i], w_mat[0], X0[0]),\n",
    "                            car_init(n_state2, tau[1], sigma[1], hlst[i], w_mat[1], X0[1])],\n",
    "                            n_state)\n",
    "    x0_state = kinit[-1]\n",
    "    n_eval = int((tmax-tmin)/hlst[i])\n",
    "    kode = KalmanODE.initialize(kinit, n_state, n_meas, tmin, tmax, n_eval, fitz)\n",
    "    fplot.kode = kode\n",
    "    phi_hat, phi_var = fplot.phi_fit(fplot.kalman_nlpost, Y_t, x0_state, hlst[i], theta_true, phi_sd, gamma)\n",
    "    Theta_kalman[i] = fplot.Theta_sample(phi_hat, phi_var, n_samples)"
   ]
  }
 ],
 "metadata": {
  "kernelspec": {
   "display_name": "Python 3",
   "language": "python",
   "name": "python3"
  },
  "language_info": {
   "codemirror_mode": {
    "name": "ipython",
    "version": 3
   },
   "file_extension": ".py",
   "mimetype": "text/x-python",
   "name": "python",
   "nbconvert_exporter": "python",
   "pygments_lexer": "ipython3",
   "version": "3.7.3"
  }
 },
 "nbformat": 4,
 "nbformat_minor": 2
}
