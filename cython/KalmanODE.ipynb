{
 "cells": [
  {
   "cell_type": "markdown",
   "metadata": {},
   "source": [
    "## cdef class callback vs cython ode vs python ode"
   ]
  },
  {
   "cell_type": "code",
   "execution_count": 1,
   "metadata": {},
   "outputs": [],
   "source": [
    "import numpy as np\n",
    "import matplotlib.pyplot as plt\n",
    "from probDE.utils.utils import rand_mat\n",
    "from scipy.integrate import odeint\n",
    "%load_ext cython"
   ]
  },
  {
   "cell_type": "code",
   "execution_count": null,
   "metadata": {},
   "outputs": [],
   "source": [
    "from math import sin\n",
    "def ode_py(x_t, t, theta=None):\n",
    "    return np.array([sin(2*t) - x_t[0]])"
   ]
  },
  {
   "cell_type": "code",
   "execution_count": null,
   "metadata": {},
   "outputs": [],
   "source": [
    "%%cython\n",
    "from libc.math cimport sin\n",
    "import numpy as np\n",
    "cimport numpy as np\n",
    "\n",
    "DTYPE = np.double\n",
    "ctypedef np.double_t DTYPE_t\n",
    "\n",
    "cpdef np.ndarray[DTYPE_t, ndim=1] ode_cp(double[::1] x_t, double t, theta=None):\n",
    "    return np.array([sin(2*t) - x_t[0]])"
   ]
  },
  {
   "cell_type": "markdown",
   "metadata": {},
   "source": [
    "## KalmanODE & KalmanODE_py"
   ]
  },
  {
   "cell_type": "code",
   "execution_count": 2,
   "metadata": {},
   "outputs": [],
   "source": [
    "from KalmanTest.KalmanODE_py import KalmanODE_py\n",
    "from probDE.cython.KalmanTest.KalmanODE import KalmanODE"
   ]
  },
  {
   "cell_type": "code",
   "execution_count": null,
   "metadata": {},
   "outputs": [],
   "source": [
    "# These parameters define the order of the ODE and the CAR(p) process\n",
    "n_meas = 1\n",
    "n_state = 4\n",
    "\n",
    "# it is assumed that the solution is sought on the interval [tmin, tmax].\n",
    "n_steps = 50\n",
    "n_eval = n_steps-1\n",
    "tmin = 0\n",
    "tmax = 10\n",
    "\n",
    "# The rest of the parameters can be tuned according to ODE\n",
    "# For this problem, we will use\n",
    "tau = 50\n",
    "sigma = .001\n",
    "\n",
    "# Initial value, a, for the IVP\n",
    "w = np.array([0., 0., 1.])\n",
    "x0 = np.array([-1., 0., 1.]) #Initial State\n",
    "z_states = rand_mat(2*n_steps, n_state) #Random matrix"
   ]
  },
  {
   "cell_type": "code",
   "execution_count": null,
   "metadata": {},
   "outputs": [],
   "source": [
    "# Python\n",
    "kalmanode_py = KalmanODE_py(n_state, n_meas, tmin, tmax, n_eval, ode_py) # Initialize the class\n",
    "x0_state = kalmanode_py.initialize(w, tau, sigma, x0) # Get the initial x0_state using initialize method\n",
    "kalmanode_py.z_states = z_states # Set class z_states property as random matrix defined (can be omitted)\n",
    "kalman_py_sim, kalman_py_mu, kalman_py_var = kalmanode_py.solve(x0_state, mv=True, sim=True) # Run the solver\n",
    "\n",
    "# Cython\n",
    "kalmanode = KalmanODE(n_state, n_meas, tmin, tmax, n_eval, ode_py) # Initialize the class\n",
    "x0_state = kalmanode.initialize(w, tau, sigma, x0) # Get the initial x0_state using initialize method\n",
    "kalmanode.z_states = z_states # Set class z_states property as random matrix defined (can be omitted)\n",
    "kalman_sim, kalman_mu, kalman_var = kalmanode.solve(x0_state, mv=True, sim=True)"
   ]
  },
  {
   "cell_type": "code",
   "execution_count": null,
   "metadata": {},
   "outputs": [],
   "source": [
    "tseq = np.linspace(tmin, tmax, n_steps)\n",
    "plt.plot(tseq, kalman_py_sim[:, 0], label = 'Python mean')\n",
    "plt.plot(tseq, kalman_sim[:, 0], label = 'C mean')\n",
    "plt.legend(loc='upper left')"
   ]
  },
  {
   "cell_type": "code",
   "execution_count": null,
   "metadata": {},
   "outputs": [],
   "source": [
    "kalman_cy = %timeit -o -n 100 _, _, _ = kalmanode.solve(x0_state, mv=True, sim=True)"
   ]
  },
  {
   "cell_type": "code",
   "execution_count": null,
   "metadata": {},
   "outputs": [],
   "source": [
    "kalman_py = %timeit -o -n 100 _, _, _ = kalmanode_py.solve(x0_state, mv=True, sim=True)"
   ]
  },
  {
   "cell_type": "code",
   "execution_count": null,
   "metadata": {},
   "outputs": [],
   "source": [
    "kalman_py.average/kalman_cy.average"
   ]
  },
  {
   "cell_type": "markdown",
   "metadata": {},
   "source": [
    "## Lorenz63"
   ]
  },
  {
   "cell_type": "code",
   "execution_count": null,
   "metadata": {},
   "outputs": [],
   "source": [
    "def lorenz0(state, t):\n",
    "    rho = 28.0\n",
    "    sigma = 10.0\n",
    "    beta = 8.0 / 3.0\n",
    "    x, y, z = state  # Unpack the state vector\n",
    "    return -sigma*x + sigma*y, rho*x - y -x*z, -beta*z + x*y"
   ]
  },
  {
   "cell_type": "code",
   "execution_count": null,
   "metadata": {},
   "outputs": [],
   "source": [
    "# RHS of ODE\n",
    "def lorenz(X_t, t, theta=None):\n",
    "    rho = 28.0\n",
    "    sigma = 10.0\n",
    "    beta = 8.0 / 3.0\n",
    "    p = 3\n",
    "    x, y, z = X_t[p*0], X_t[p*1], X_t[p*2]\n",
    "    return np.array([-sigma*x + sigma*y, rho*x - y -x*z, -beta*z + x*y]) \n",
    "\n",
    "# LHS Matrix of ODE\n",
    "w_mat = np.array([[0.0, 1.0], [0.0, 1.0], [0.0, 1.0]])\n",
    "\n",
    "# These parameters define the order of the ODE and the CAR(p) process\n",
    "n_var = 3 # Number of variates\n",
    "n_meas = 1\n",
    "n_state = 3 # number of continuous derivatives of CAR(p) solution prior\n",
    "\n",
    "# it is assumed that the solution is sought on the interval [tmin, tmax].\n",
    "n_steps = 5000 \n",
    "n_eval = n_steps -1\n",
    "tmin = 0\n",
    "tmax = 20\n",
    "\n",
    "# The rest of the parameters can be tuned according to ODE\n",
    "# For this problem, we will use\n",
    "tau = 1\n",
    "sigma = .001\n",
    "sigmalst = [sigma]*n_var\n",
    "scale = 10 # Scaling factor for root generation\n",
    "\n",
    "# Initial value, a, for the IVP\n",
    "x0 = [-12, -5, 38]\n",
    "v0 = lorenz0(x0, 0)\n",
    "a = np.column_stack([x0, v0])\n",
    "z_states = rand_mat(2*n_steps, n_var*n_state)\n",
    "\n"
   ]
  },
  {
   "cell_type": "code",
   "execution_count": null,
   "metadata": {},
   "outputs": [],
   "source": [
    "# Python\n",
    "kalmanode_py = KalmanODE_py(n_state, n_meas, tmin, tmax, n_eval, lorenz) # Initialize the class\n",
    "x0_state = kalmanode_py.multi_initialize(w_mat, tau, sigmalst, a, scale) # Get the initial x0_state using initialize method\n",
    "kalmanode_py.z_states = z_states # Set class z_states property as random matrix defined (can be omitted)\n",
    "kalman_py_lor_sim, kalman_py_lor_mu, kalman_py_lor_var = kalmanode_py.solve(x0_state, mv=True, sim=True) \n",
    "\n",
    "# Cython\n",
    "kalmanode = KalmanODE(n_state, n_meas, tmin, tmax, n_eval, lorenz) # Initialize the class\n",
    "x0_state = kalmanode.multi_initialize(w_mat, tau, sigmalst, a, scale) # Get the initial x0_state using initialize method\n",
    "kalmanode.z_states = z_states # Set class z_states property as random matrix defined (can be omitted)\n",
    "kalman_lor_sim, kalman_lor_mu, kalman_lor_var = kalmanode.solve(x0_state, mv=True, sim=True)"
   ]
  },
  {
   "cell_type": "code",
   "execution_count": null,
   "metadata": {},
   "outputs": [],
   "source": [
    "tseq = np.linspace(tmin, tmax, n_steps)\n",
    "_, axs = plt.subplots(n_var, 1, figsize=(20, 7))\n",
    "ylabel = ['x', 'y', 'z']\n",
    "for i in range(n_var):\n",
    "    axs[i].plot(tseq, kalman_py_lor_sim[:, n_state*i], label=\"Python\")\n",
    "    axs[i].plot(tseq, kalman_lor_sim[:, n_state*i], label=\"C\")\n",
    "    axs[i].set_ylabel(ylabel[i])\n",
    "    axs[i].legend(loc='upper left')"
   ]
  },
  {
   "cell_type": "code",
   "execution_count": null,
   "metadata": {},
   "outputs": [],
   "source": [
    "kalman_lor_cy = %timeit -o _ = kalmanode.solve(x0_state, mv=True, sim=True)"
   ]
  },
  {
   "cell_type": "code",
   "execution_count": null,
   "metadata": {},
   "outputs": [],
   "source": [
    "kalman_lor_py = %timeit -o _, _, _ = kalmanode_py.solve(x0_state, mv=True, sim=True)"
   ]
  },
  {
   "cell_type": "code",
   "execution_count": null,
   "metadata": {},
   "outputs": [],
   "source": [
    "kalman_lor_py.average/kalman_lor_cy.average"
   ]
  },
  {
   "cell_type": "markdown",
   "metadata": {},
   "source": [
    "## Lane-Emden"
   ]
  },
  {
   "cell_type": "code",
   "execution_count": 3,
   "metadata": {},
   "outputs": [],
   "source": [
    "def lane0(x_t, t):\n",
    "    return [x_t[1], -2/t*x_t[1] - x_t[0]]"
   ]
  },
  {
   "cell_type": "code",
   "execution_count": 4,
   "metadata": {},
   "outputs": [],
   "source": [
    "def lane(x_t, t, theta=None):\n",
    "    return np.array([-2/t*x_t[1] - x_t[0]])\n",
    "\n",
    "# These parameters define the order of the ODE and the CAR(p) process\n",
    "n_meas = 1\n",
    "n_state = 3\n",
    "\n",
    "# it is assumed that the solution is sought on the interval [tmin, tmax].\n",
    "n_steps = 500\n",
    "n_eval = n_steps-1 \n",
    "tmin = 1\n",
    "tmax = 10\n",
    "\n",
    "# The rest of the parameters can be tuned according to ODE\n",
    "# For this problem, we will use\n",
    "tau = 50\n",
    "sigma = .001\n",
    "\n",
    "# Initial value, a, for the IVP\n",
    "w = np.array([0., 0., 1.])\n",
    "x0 = np.array([1., 0., -1.]) #Initial State\n",
    "z_states = rand_mat(2*n_steps, n_state) #Random matrix"
   ]
  },
  {
   "cell_type": "code",
   "execution_count": null,
   "metadata": {},
   "outputs": [],
   "source": [
    "# Python\n",
    "kalmanode_py = KalmanODE_py(n_state, n_meas, tmin, tmax, n_eval, lane) # Initialize the class\n",
    "x0_state = kalmanode_py.initialize(w, tau, sigma, x0) # Get the initial x0_state using initialize method\n",
    "kalmanode_py.z_states = z_states # Set class z_states property as random matrix defined (can be omitted)\n",
    "kalman_py_lane_sim, kalman_py_lane_mu, kalman_py_lane_var = kalmanode_py.solve(x0_state, mv=True, sim=True)\n",
    "\n",
    "# Cython\n",
    "kalmanode = KalmanODE(n_state, n_meas, tmin, tmax, n_eval, lane) # Initialize the class\n",
    "x0_state = kalmanode.initialize(w, tau, sigma, x0) # Get the initial x0_state using initialize method\n",
    "kalmanode.z_states = z_states # Set class z_states property as random matrix defined (can be omitted)\n",
    "kalman_lane_sim, kalman_lane_mu, kalman_lane_var = kalmanode.solve(x0_state, mv=True, sim=True)"
   ]
  },
  {
   "cell_type": "code",
   "execution_count": null,
   "metadata": {},
   "outputs": [],
   "source": [
    "tseq = np.linspace(tmin, tmax, n_steps)\n",
    "lane_odeint = odeint(lane0, [1, 0], tseq)\n",
    "plt.plot(tseq, kalman_py_lane_sim[:, 1], label = 'Python mean')\n",
    "plt.plot(tseq, kalman_lane_sim[:, 1], label = 'C++ mean')\n",
    "plt.plot(tseq, lane_odeint[:, 1], label = 'Odeint mean')\n",
    "plt.legend(loc='upper left')"
   ]
  },
  {
   "cell_type": "code",
   "execution_count": null,
   "metadata": {},
   "outputs": [],
   "source": [
    "kalman_lane_cy = %timeit -o _ = kalmanode.solve(x0_state, mv=True, sim=True)"
   ]
  },
  {
   "cell_type": "code",
   "execution_count": null,
   "metadata": {},
   "outputs": [],
   "source": [
    "kalman_lane_py = %timeit -o _, _, _ = kalmanode_py.solve(x0_state, mv=True, sim=True)"
   ]
  },
  {
   "cell_type": "code",
   "execution_count": null,
   "metadata": {},
   "outputs": [],
   "source": [
    "kalman_lane_py.average/kalman_lane_cy.average"
   ]
  },
  {
   "cell_type": "markdown",
   "metadata": {},
   "source": [
    "## FitzHugh-Nagumo\n",
    "\n",
    "- The ODE model is\n",
    "\n",
    "    $$\n",
    "    \\frac{dV_t}{dt} = c(V_t - V_t^3/3 + R_t), \\qquad \\frac{d R_t}{dt} = -(V_t - a + b R_t)/c.\n",
    "    $$\n",
    "\n",
    "- The true parameter values are $a = .2$, $b = .2$, $c = 3$.\n",
    "\n",
    "- The parameter priors are $\\theta_j \\stackrel{ind}{\\sim} \\mathrm{LogNormal}(\\theta_{0j}, 1)$, where $\\theta_j \\in \\{a, b, c\\}$ and $\\theta_{0j}$ is the corresponding true parameter value.\n",
    "\n",
    "- Data is observed at time points $t = 1, 2, \\ldots, 40$, with some error.  That is,\n",
    "\n",
    "    $$\n",
    "    y_{1n} \\stackrel{ind}{\\sim} \\mathcal N(V_n, .01^2), \\qquad y_{2n} \\stackrel{ind}{\\sim} \\mathcal N(R_n, .01^2) \n",
    "    $$\n",
    "\n",
    "- The step sizes for the discretization are $h = (.005, .01, .02, .05, .1)$.\n",
    "\n",
    "### API"
   ]
  },
  {
   "cell_type": "code",
   "execution_count": null,
   "metadata": {},
   "outputs": [],
   "source": [
    "# bare-bones\n",
    "kode = KalmanODE(n_state, n_meas, tmin, tmax, n_eval, ode_fun)\n",
    "# update these any time, because no memory allocation / computations involved.\n",
    "kode.wgt_state = wgt_state\n",
    "kode.mu_state = mu_state # etc\n",
    "\n",
    "# more convenient initializer\n",
    "kinit = indep_ode_init([car_init(p1, tau1, sigma1),\n",
    "                        car_init(p2, tau2, sigma2)])\n",
    "# use @classmethod like here: https://stackoverflow.com/questions/141545/how-to-overload-init-method-based-on-argument-type\n",
    "kode = KalmanODE.initialize(kinit)\n",
    "\n",
    "# solve\n",
    "kode.solve(x0_state, theta, mv, sim)\n"
   ]
  },
  {
   "cell_type": "code",
   "execution_count": 5,
   "metadata": {},
   "outputs": [],
   "source": [
    "def fitz0(X_t, t, theta):\n",
    "    \"FitzHugh-Nagumo ODE function.\"\n",
    "    a, b, c = theta\n",
    "    V, R = X_t\n",
    "    return [c*(V - V**3/3 + R), -1/c*(V - a + b*R)]"
   ]
  },
  {
   "cell_type": "code",
   "execution_count": 6,
   "metadata": {},
   "outputs": [],
   "source": [
    "# Bayesian inference class for the FitzHugh-Nagumo model\n",
    "# public methods:\n",
    "# - An ODE solver.\n",
    "# - A simulator.\n",
    "# - An MCMC sampler.\n",
    "class Fitz:\n",
    "    # private members\n",
    "    def _ode_init(self, n_state, n_meas, n_eval):\n",
    "        # just memory allocation!\n",
    "        if p < 3: \n",
    "            raise ValueError(\"p must be greater than 2.\")\n",
    "        # new method initialize\n",
    "        return KalmanODE(n_state = 2 * p, ...)\n",
    "    \n",
    "    def _fitz(X_t, t, theta):\n",
    "        \"FitzHugh-Nagumo ODE function.\"\n",
    "        p = self._p\n",
    "        a, b, c = theta\n",
    "        V, R = X_t[p*0], X_t[p*1]\n",
    "        return [c*(V - V**3/3 + R), -1/c*(V - a + b*R)]\n",
    "    \n",
    "    def _logprior(Y_t, X_t, theta, theta0, theta_sd, gamma):\n",
    "        n_obs = length(Y_t)\n",
    "        n_eval = length(X_t)\n",
    "        n_skip = n_eval/n_obs\n",
    "        lpi = 0.\n",
    "        for ii=range(n_obs):\n",
    "            # would actually need to do for each component of Y_t\n",
    "            lpi += np.random.normal_lpdf(Y_t[ii], mean = X_t[ii*n_skip], std = gamma)\n",
    "        for ii=range(n_theta):\n",
    "            lpi += np.random.lognormal_lpdf(theta[ii], theta0[ii], theta_sd[ii])\n",
    "        return lpi\n",
    "    \n",
    "    def simulate(p, tmin, tmax, n_eval, theta, gamma, tau, sigma):\n",
    "        # let's make gamma = sqrt(Gamma)\n",
    "        # initialize using old method\n",
    "        kode = KalmanODE(...)\n",
    "        X_t = kode.solve(..., self._fitz) # ODE no noise\n",
    "        Y_t = X_t + np.random.normal(...) # include noise\n",
    "        return Y_t, X_t\n",
    "    \n",
    "    def mwg(n_samples, Y_t, tmin, dt, theta0, gamma, p, n_skip, tau, sigma, rwsd, accept = False):\n",
    "        \"\"\"\n",
    "        Y_t: equally spaced observations starting at tmin with timestep dt.  tmax is then tmin + dt * length(Y_t).\n",
    "        \"\"\"\n",
    "        \n",
    "        # Get problem dimensions and initialization\n",
    "        n_theta = len(theta0)\n",
    "        theta_curr = theta0.copy()\n",
    "        theta_prop = theta0.copy() \n",
    "        paccept = np.zeros(n_theta, dtype=int)\n",
    "        Theta = np.zeros((n_samples, n_theta))\n",
    "    \n",
    "        # MCMC process\n",
    "        kalmanode, x0_state = fitz_initialize(n_steps, theta_curr)\n",
    "        X_curr = kalmanode.solve(x0_state, theta=theta_curr, mv=False, sim=True)\n",
    "        lp_curr = self._logpost(Y_t, X_curr, gamma)\n",
    "        for i in range(n_samples):\n",
    "            for j in range(n_theta):\n",
    "                # theta_prop[i*n_theta+j] = theta_curr\n",
    "                # theta_prop[i*n_theta+j, j] += rwsd[j]*np.random.randn()\n",
    "                theta_prop[j] += rwsd[j]*np.random.randn()\n",
    "                if theta_prop[j]>0:\n",
    "                    v0 = fitz0(x0, 0, theta_prop)\n",
    "                    x0_state[[1, 4]] = v0\n",
    "                    X_prop = kalmanode.solve(x0_state, theta=theta_prop, mv=False, sim=True)\n",
    "                    lp_prop = self._logp(Y_t, X_prop, gamma)\n",
    "                lacc = lp_prop - lp_curr\n",
    "                if lacc > 0 or np.random.uniform() < np.exp(lacc):\n",
    "                    theta_curr[j] = theta_prop[j]\n",
    "                    lp_curr = lp_prop\n",
    "                    paccept[j] = paccept[j] + 1\n",
    "\t\t\t\telse:\n",
    "\t\t\t\t    theta_prop[j] = theta_curr[j]\n",
    "\t    # storage\n",
    "\t    Theta[i] = theta_curr\n",
    "\t# output\n",
    "    if not accept:\n",
    "        return Theta\n",
    "    else:\n",
    "        paccept = paccept/n_samples\n",
    "        return Theta, paccept\n",
    "# RHS of ODE\n",
    "def fitz(X_t, t, theta):\n",
    "    \"FitzHugh-Nagumo ODE function.\"\n",
    "    p = 3\n",
    "    a, b, c = theta\n",
    "    V, R = X_t[p*0], X_t[p*1]\n",
    "    return [c*(V - V**3/3 + R), -1/c*(V - a + b*R)]\n",
    "\n",
    "def fitz_initialize(n_steps, theta):\n",
    "    # LHS Matrix of ODE\n",
    "    w_mat = np.array([[0.0, 1.0], [0.0, 1.0]])\n",
    "\n",
    "    # These parameters define the order of the ODE and the CAR(p) process\n",
    "    n_var = 2 # Number of variates\n",
    "    n_meas = 1 \n",
    "    n_state = 3 # number of continuous derivatives of CAR(p) solution prior\n",
    "\n",
    "    # it is assumed that the solution is sought on the interval [tmin, tmax].\n",
    "    n_eval = n_steps -1\n",
    "    tmin = 0\n",
    "    tmax = 20\n",
    "\n",
    "    # The rest of the parameters can be tuned according to ODE\n",
    "    # For this problem, we will use\n",
    "    tau = 100\n",
    "    sigma = .001\n",
    "    sigmalst = [sigma]*n_var\n",
    "\n",
    "    # Initial value, a, for the IVP\n",
    "    x0 = [-1, 1]\n",
    "    v0 = fitz0(x0, 0, theta)\n",
    "    a = np.column_stack([x0, v0])\n",
    "    z_states = rand_mat(2*n_steps, n_var*n_state)\n",
    "    \n",
    "    # Initialize the class\n",
    "    kalmanode = KalmanODE(n_state, n_meas, tmin, tmax, n_eval, fitz)\n",
    "    x0_state = kalmanode.multi_initialize(w_mat, tau, sigmalst, a) # Get the initial x0_state using initialize method\n",
    "    kalmanode.z_states = z_states # Set class z_states property as random matrix defined (can be omitted)\n",
    "    return kalmanode, x0_state\n",
    "\n",
    "def fitz_simulate(n_steps, theta):\n",
    "    kalmanode, x0_state = fitz_initialize(n_steps, theta)\n",
    "    kalman_fitz_mu, kalman_fitz_var = kalmanode.solve(x0_state, theta=theta, mv=True, sim=False)\n",
    "    return kalman_fitz_mu, kalman_fitz_var"
   ]
  },
  {
   "cell_type": "code",
   "execution_count": 7,
   "metadata": {},
   "outputs": [],
   "source": [
    "def normal_loglik(mu, sigma, y):\n",
    "    n_steps = len(y) \n",
    "    loglik =-n_steps/2*(np.log(2*np.pi)- np.sum(np.log(sigma*sigma))) - \\\n",
    "        0.5*np.sum((y - mu)**2/(sigma*sigma))\n",
    "    return loglik"
   ]
  },
  {
   "cell_type": "code",
   "execution_count": 8,
   "metadata": {},
   "outputs": [],
   "source": [
    "def fitz_mwg(n_samples, y, theta0, rwsd, accept=False):\n",
    "    # Get problem dimensions and initialization\n",
    "    n_theta = len(theta0)\n",
    "    n_steps = len(y)\n",
    "    x0 = [-1, 1]\n",
    "    theta_prop = np.zeros((n_samples*n_theta, n_theta)) \n",
    "    theta_curr = theta0\n",
    "    paccept = np.zeros(n_theta, dtype=int)\n",
    "    \n",
    "    # MCMC process\n",
    "    kalmanode, x0_state = fitz_initialize(n_steps, theta_curr)\n",
    "    mu_curr, var_curr = kalmanode.solve(x0_state, theta=theta_curr, mv=True, sim=False)\n",
    "    lp_curr = normal_loglik(mu_curr[1:, 0], var_curr[1:, 0, 0], y[1:, 0])\n",
    "    for i in range(n_samples):\n",
    "        for j in range(n_theta):\n",
    "            theta_prop[i*n_theta+j] = theta_curr\n",
    "            theta_prop[i*n_theta+j, j] += rwsd[j]*np.random.randn()\n",
    "            if theta_prop[i*n_theta+j, 2]>0:\n",
    "                v0 = fitz0(x0, 0, theta_prop[i*n_theta+j])\n",
    "                x0_state[[1, 4]] = v0\n",
    "                mu_prop, var_prop = kalmanode.solve(x0_state, theta=theta_prop[i*n_theta+j], mv=True, sim=False)\n",
    "                lp_prop = normal_loglik(mu_prop[1:, 0], var_prop[1:, 0, 0], y[1:, 0])\n",
    "                lacc = lp_prop - lp_curr\n",
    "                if lacc > 0 or np.random.uniform() < np.exp(lacc):\n",
    "                    theta_curr = theta_prop[i*n_theta+j]\n",
    "                    lp_curr = lp_prop\n",
    "                    paccept[j] = paccept[j] + 1\n",
    "    if not accept:\n",
    "        return theta_curr, theta_prop\n",
    "    else:\n",
    "        paccept = paccept/n_samples\n",
    "        return theta_curr, theta_prop, paccept"
   ]
  },
  {
   "cell_type": "code",
   "execution_count": 9,
   "metadata": {},
   "outputs": [],
   "source": [
    "theta0 = np.array([0, 0, 1])\n",
    "theta = np.array([.2, .2, 3])\n",
    "rwsd = np.array([.01, .05, .1])\n",
    "n_samples = 1000\n",
    "n_steps = 400\n",
    "kalman_fitz_mu, _ = fitz_simulate(n_steps, theta)\n",
    "fitz_theta, fitz_prop = fitz_mwg(n_samples, kalman_fitz_mu, theta0, rwsd)"
   ]
  },
  {
   "cell_type": "code",
   "execution_count": null,
   "metadata": {},
   "outputs": [],
   "source": [
    "n_samples = 3333\n",
    "kalman_fitz_cy = %timeit -o -n1 -r1 _, _ =  fitz_mwg(n_samples, kalman_fitz_mu, theta, rwsd)"
   ]
  },
  {
   "cell_type": "code",
   "execution_count": null,
   "metadata": {},
   "outputs": [],
   "source": [
    "n_samples = 10000\n",
    "kalman_fitz_cy2 = %timeit -o -n1 -r1 _, _ =  fitz_mwg(n_samples, kalman_fitz_mu, theta, rwsd)"
   ]
  },
  {
   "cell_type": "markdown",
   "metadata": {},
   "source": [
    "## Fitz Contour Plots"
   ]
  },
  {
   "cell_type": "code",
   "execution_count": 12,
   "metadata": {},
   "outputs": [],
   "source": [
    "import seaborn as sns"
   ]
  },
  {
   "cell_type": "code",
   "execution_count": 63,
   "metadata": {},
   "outputs": [],
   "source": [
    "theta0 = np.array([.1, .1, 2.6])\n",
    "theta = np.array([.2, .2, 3])\n",
    "rwsd = np.array([.01, .05, .1])\n",
    "n_samples = 1000\n",
    "n_theta = len(theta)\n",
    "h = np.array([.1, .05, .02, .01, .005])\n",
    "n_h = len(h)\n",
    "h_steps = 20/h\n",
    "h_steps = h_steps.astype(int)\n",
    "fitz_proph = np.zeros(n_h, n_samples*n_theta, n_theta))\n",
    "for i in range(n_h):\n",
    "    kalman_fitz_mu, _ = fitz_simulate(h_steps[i], theta)\n",
    "    _, fitz_prop = fitz_mwg(n_samples, kalman_fitz_mu, theta0, rwsd)\n",
    "    fitz_proph[i] = fitz_prop"
   ]
  },
  {
   "cell_type": "code",
   "execution_count": 95,
   "metadata": {},
   "outputs": [
    {
     "data": {
      "image/png": "[encoded data removed]",
      "text/plain": [
       "<Figure size 1440x360 with 9 Axes>"
      ]
     },
     "metadata": {
      "needs_background": "light"
     },
     "output_type": "display_data"
    }
   ],
   "source": [
    "import matplotlib.patches as mpatches\n",
    "fig, axs = plt.subplots(n_theta, n_theta, sharex='col', figsize=(20, 5))\n",
    "patches = [None]*n_h\n",
    "for i in range(n_h):\n",
    "    patches[i] = mpatches.Patch(color='C{}'.format(i), label='h={}'.format(h[i]))\n",
    "    for row in range(n_theta):\n",
    "        sns.kdeplot(fitz_proph[i, :, row], bw=.1, ax=axs[row, row])\n",
    "        for col in range(row):\n",
    "            sns.kdeplot(fitz_proph[i, :, col], fitz_proph[i, :, row], bw=.1, ax=axs[row, col])\n",
    "            \n",
    "axs[0,1].set_axis_off()\n",
    "axs[0,2].set_axis_off()\n",
    "axs[1,2].set_axis_off()\n",
    "axs[0,2].legend(handles=patches, loc='center')\n",
    "plt.show()"
   ]
  }
 ],
 "metadata": {
  "kernelspec": {
   "display_name": "Python 3",
   "language": "python",
   "name": "python3"
  },
  "language_info": {
   "codemirror_mode": {
    "name": "ipython",
    "version": 3
   },
   "file_extension": ".py",
   "mimetype": "text/x-python",
   "name": "python",
   "nbconvert_exporter": "python",
   "pygments_lexer": "ipython3",
   "version": "3.7.4"
  }
 },
 "nbformat": 4,
 "nbformat_minor": 2
}
