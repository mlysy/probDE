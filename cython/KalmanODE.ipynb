{
 "cells": [
  {
   "cell_type": "markdown",
   "metadata": {},
   "source": [
    "## cdef class callback vs cython ode vs python ode"
   ]
  },
  {
   "cell_type": "code",
   "execution_count": null,
   "metadata": {},
   "outputs": [],
   "source": [
    "import numpy as np\n",
    "import matplotlib.pyplot as plt\n",
    "from probDE.utils.utils import zero_pad\n",
    "from probDE.utils.utils import root_gen\n",
    "from probDE.Kalman.kalman_initial_draw import kalman_initial_draw\n",
    "from probDE.Kalman import kalman_ode_higher\n",
    "from probDE.Kalman.higher_mvncond import higher_mvncond\n",
    "%load_ext cython"
   ]
  },
  {
   "cell_type": "code",
   "execution_count": 2,
   "metadata": {},
   "outputs": [],
   "source": [
    "from math import sin\n",
    "def ode_py(x_t, t):\n",
    "    return np.array([sin(2*t) - x_t[0]])"
   ]
  },
  {
   "cell_type": "code",
   "execution_count": 3,
   "metadata": {},
   "outputs": [],
   "source": [
    "%%cython\n",
    "from libc.math cimport sin\n",
    "import numpy as np\n",
    "cimport numpy as np\n",
    "\n",
    "DTYPE = np.double\n",
    "ctypedef np.double_t DTYPE_t\n",
    "\n",
    "cpdef np.ndarray[DTYPE_t, ndim=1] ode_fun(double[::1] x_t, double t):\n",
    "    return np.array([sin(2*t) - x_t[0]])\n",
    "\n",
    "cpdef rand_mat(int n, int p, bint pd=True):\n",
    "    cdef np.ndarray[np.double_t, ndim=2] V = np.zeros((p, n), order='F')\n",
    "    V[:] = np.random.randn(p, n)\n",
    "    if (p == n) and pd:\n",
    "        V[:] = np.matmul(V, V.T)\n",
    "    return V"
   ]
  },
  {
   "cell_type": "code",
   "execution_count": 4,
   "metadata": {},
   "outputs": [],
   "source": [
    "%%cython\n",
    "from libc.math cimport sin\n",
    "import numpy as np\n",
    "cimport numpy as np\n",
    "\n",
    "DTYPE = np.double\n",
    "ctypedef np.double_t DTYPE_t\n",
    "\n",
    "cdef class fun:\n",
    "    cpdef ode_fun(self, double[::1] x_t, double t):\n",
    "        return np.array([0])\n",
    "\n",
    "cdef class odefun(fun):\n",
    "    cpdef odefun(self, double[::1] x_t, double t):\n",
    "        return np.array([sin(2*t) - x_t[0]])"
   ]
  },
  {
   "cell_type": "code",
   "execution_count": 5,
   "metadata": {},
   "outputs": [],
   "source": [
    "x0_state = np.random.rand(4)\n",
    "f = odefun()"
   ]
  },
  {
   "cell_type": "code",
   "execution_count": null,
   "metadata": {},
   "outputs": [],
   "source": [
    "%timeit -o -n 1000000 ode_py(x0_state, 0)"
   ]
  },
  {
   "cell_type": "code",
   "execution_count": null,
   "metadata": {},
   "outputs": [],
   "source": [
    "%timeit -o -n 1000000 ode_fun(x0_state, 0)"
   ]
  },
  {
   "cell_type": "code",
   "execution_count": null,
   "metadata": {},
   "outputs": [],
   "source": [
    "%timeit -o -n 1000000 f.odefun(x0_state, 0)"
   ]
  },
  {
   "cell_type": "markdown",
   "metadata": {},
   "source": [
    "## KalmanODE Class"
   ]
  },
  {
   "cell_type": "code",
   "execution_count": 6,
   "metadata": {},
   "outputs": [],
   "source": [
    "from probDE.cython.KalmanTest.KalmanODE import KalmanODE"
   ]
  },
  {
   "cell_type": "code",
   "execution_count": null,
   "metadata": {},
   "outputs": [],
   "source": [
    "%%cython\n",
    "import numpy as np\n",
    "cimport numpy as np\n",
    "from probDE.cython.KalmanTest.kalman_ode import kalman_ode\n",
    "cdef class KalmanODE:\n",
    "    cdef int n_state, n_meas, n_eval\n",
    "    cdef double tmin, tmax\n",
    "    cdef object fun\n",
    "    cdef public:\n",
    "        object wgt_state\n",
    "        object mu_state\n",
    "        object var_state\n",
    "        object wgt_meas\n",
    "        object z_states\n",
    "        \n",
    "    def __cinit__(self, n_state, n_meas, tmin, tmax, n_eval, fun):\n",
    "        self.n_state = n_state\n",
    "        self.n_meas = n_meas\n",
    "        self.tmin = tmin\n",
    "        self.tmax = tmax\n",
    "        self.n_eval = n_eval\n",
    "        self.fun = fun.odefun\n",
    "        self.wgt_state = None\n",
    "        self.mu_state = None\n",
    "        self.var_state = None\n",
    "        self.wgt_meas = None\n",
    "        self.z_states = None\n",
    "    \n",
    "    cpdef rand_mat(self, int n, int p, bint pd=True):\n",
    "        cdef np.ndarray[np.double_t, ndim=2] V = np.zeros((p, n), order='F')\n",
    "        V[:] = np.random.randn(p, n)\n",
    "        if (p == n) and pd:\n",
    "            V[:] = np.matmul(V, V.T)\n",
    "        return V\n",
    "        \n",
    "    cpdef solve(self, double[::1] x0_state, theta=None, bint mv=False, bint sim=True):\n",
    "        if (self.wgt_state is None or self.mu_state is None or \n",
    "           self.var_state is None or self.wgt_meas is None):\n",
    "            raise ValueError(\"wgt_state, mu_state, var_state, wgt_meas is not set.\")\n",
    "        \n",
    "        if self.z_states is None:\n",
    "            self.z_states = self.rand_mat(2*self.n_eval, self.n_state)\n",
    "        \n",
    "        if mv and sim:\n",
    "            kalman_sim, kalman_mu, kalman_var = \\\n",
    "                kalman_ode(self.fun, x0_state, self.tmin, self.tmax, self.n_eval,\n",
    "                          self.wgt_state, self.mu_state, self.var_state,\n",
    "                          self.wgt_meas, self.z_states, None, mv, sim)\n",
    "            kalman_sim = np.ascontiguousarray(kalman_sim.T)\n",
    "            kalman_mu = np.ascontiguousarray(kalman_mu.T)\n",
    "            kalman_var = np.ascontiguousarray(kalman_var.T)\n",
    "            return kalman_sim, kalman_mu, kalman_var\n",
    "        elif mv:\n",
    "            kalman_mu, kalman_var = \\\n",
    "                kalman_ode(self.fun, x0_state, self.tmin, self.tmax, self.n_eval,\n",
    "                          self.wgt_state, self.mu_state, self.var_state,\n",
    "                          self.wgt_meas, self.z_states, None, mv, sim)\n",
    "            kalman_mu = np.ascontiguousarray(kalman_mu.T)\n",
    "            kalman_var = np.ascontiguousarray(kalman_var.T)\n",
    "            return kalman_mu, kalman_var\n",
    "        elif sim:\n",
    "            kalman_sim = \\\n",
    "                kalman_ode(self.fun, x0_state, self.tmin, self.tmax, self.n_eval,\n",
    "                          self.wgt_state, self.mu_state, self.var_state,\n",
    "                          self.wgt_meas, self.z_states, None, mv, sim)\n",
    "            kalman_sim = np.ascontiguousarray(kalman_sim.T)\n",
    "            return kalman_sim"
   ]
  },
  {
   "cell_type": "code",
   "execution_count": 7,
   "metadata": {},
   "outputs": [],
   "source": [
    "n_steps = 50\n",
    "n_eval = n_steps-1\n",
    "n_meas = 1\n",
    "n_state = 4\n",
    "tmin = 0\n",
    "tmax = 10\n",
    "delta_t = np.array([(tmax-tmin)*1/n_steps])\n",
    "w = np.array([0., 0., 1.])\n",
    "wgt_meas = zero_pad(w, n_state)\n",
    "x0 = np.array([-1., 0., 0.])\n",
    "x0 = np.array([-1.0, 0.0, ode_fun(x0, 0)[0]]) #Initial state\n",
    "r0 = 500\n",
    "sigma = 0.5\n",
    "roots = root_gen(r0,n_state) #Generate roots to draw x^{(3)}_0\n",
    "x0_state = kalman_initial_draw(roots, sigma, x0, n_state)\n",
    "wgt_state, var_state = higher_mvncond(delta_t, roots, sigma) \n",
    "mu_state = np.zeros(n_state)\n",
    "z_states = rand_mat(2*n_steps, n_state)\n",
    "python_mu, python_var = kalman_ode_higher(ode_fun, x0_state, tmin, tmax, n_eval, \n",
    "                                          wgt_state, mu_state, var_state, wgt_meas, z_states)"
   ]
  },
  {
   "cell_type": "code",
   "execution_count": 8,
   "metadata": {},
   "outputs": [],
   "source": [
    "kalmanode = KalmanODE(n_state, n_meas, tmin, tmax, n_eval, f)\n",
    "kalmanode.mu_state = mu_state\n",
    "kalmanode.wgt_state = wgt_state\n",
    "kalmanode.var_state = var_state\n",
    "kalmanode.wgt_meas = wgt_meas\n",
    "kalmanode.z_states = z_states\n",
    "kalman_sim, kalman_mu, kalman_var, = kalmanode.solve(x0_state, mv=True, sim=True)"
   ]
  },
  {
   "cell_type": "code",
   "execution_count": 9,
   "metadata": {},
   "outputs": [
    {
     "data": {
      "text/plain": [
       "<matplotlib.legend.Legend at 0x1b595c68978>"
      ]
     },
     "execution_count": 9,
     "metadata": {},
     "output_type": "execute_result"
    },
    {
     "data": {
      "image/png": "[encoded data removed]",
      "text/plain": [
       "<Figure size 432x288 with 1 Axes>"
      ]
     },
     "metadata": {
      "needs_background": "light"
     },
     "output_type": "display_data"
    }
   ],
   "source": [
    "tseq = np.linspace(tmin, tmax, n_steps)\n",
    "plt.plot(tseq, python_mu[:, 1], label = 'Python mean')\n",
    "plt.plot(tseq, kalman_mu[:, 1], label = 'C mean')\n",
    "plt.legend(loc='upper left')"
   ]
  },
  {
   "cell_type": "code",
   "execution_count": 10,
   "metadata": {},
   "outputs": [
    {
     "name": "stdout",
     "output_type": "stream",
     "text": [
      "350 µs ± 28.1 µs per loop (mean ± std. dev. of 7 runs, 100 loops each)\n"
     ]
    }
   ],
   "source": [
    "kalman_cy = %timeit -o -n 100 _, _, _ = kalmanode.solve(x0_state, mv=True, sim=True)"
   ]
  },
  {
   "cell_type": "markdown",
   "metadata": {},
   "source": [
    "## KalmanODE_py"
   ]
  }
 ],
 "metadata": {
  "kernelspec": {
   "display_name": "Python 3",
   "language": "python",
   "name": "python3"
  },
  "language_info": {
   "codemirror_mode": {
    "name": "ipython",
    "version": 3
   },
   "file_extension": ".py",
   "mimetype": "text/x-python",
   "name": "python",
   "nbconvert_exporter": "python",
   "pygments_lexer": "ipython3",
   "version": "3.7.3"
  }
 },
 "nbformat": 4,
 "nbformat_minor": 2
}
