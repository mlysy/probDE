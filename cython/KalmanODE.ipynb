{
 "cells": [
  {
   "cell_type": "markdown",
   "metadata": {},
   "source": [
    "## cdef class callback vs cython ode vs python ode"
   ]
  },
  {
   "cell_type": "code",
   "execution_count": 1,
   "metadata": {},
   "outputs": [],
   "source": [
    "import numpy as np\n",
    "import matplotlib.pyplot as plt\n",
    "from probDE.utils.utils import rand_mat\n",
    "from scipy.integrate import odeint\n",
    "%load_ext cython"
   ]
  },
  {
   "cell_type": "code",
   "execution_count": null,
   "metadata": {},
   "outputs": [],
   "source": [
    "%%cython\n",
    "from libc.math cimport sin\n",
    "import numpy as np\n",
    "cimport numpy as np\n",
    "\n",
    "DTYPE = np.double\n",
    "ctypedef np.double_t DTYPE_t\n",
    "\n",
    "cdef class fun:\n",
    "    cpdef np.ndarray[DTYPE_t, ndim=1] ode_fun(self, double[::1] x_t, double t, theta=None):\n",
    "        return np.array([0])\n",
    "\n",
    "cdef class odefun(fun):\n",
    "    cpdef np.ndarray[DTYPE_t, ndim=1] odefun(self, double[::1] x_t, double t, theta=None):\n",
    "        return np.array([sin(2*t) - x_t[0]])"
   ]
  },
  {
   "cell_type": "code",
   "execution_count": null,
   "metadata": {},
   "outputs": [],
   "source": [
    "from math import sin\n",
    "def ode_py(x_t, t, theta=None):\n",
    "    return np.array([sin(2*t) - x_t[0]])"
   ]
  },
  {
   "cell_type": "code",
   "execution_count": null,
   "metadata": {},
   "outputs": [],
   "source": [
    "%%cython\n",
    "from libc.math cimport sin\n",
    "import numpy as np\n",
    "cimport numpy as np\n",
    "\n",
    "DTYPE = np.double\n",
    "ctypedef np.double_t DTYPE_t\n",
    "\n",
    "cpdef np.ndarray[DTYPE_t, ndim=1] ode_cp(double[::1] x_t, double t, theta=None):\n",
    "    return np.array([sin(2*t) - x_t[0]])"
   ]
  },
  {
   "cell_type": "code",
   "execution_count": null,
   "metadata": {},
   "outputs": [],
   "source": [
    "x0_state = np.random.rand(4)\n",
    "f = odefun()"
   ]
  },
  {
   "cell_type": "code",
   "execution_count": null,
   "metadata": {},
   "outputs": [],
   "source": [
    "%timeit -o -n 100000 ode_py(x0_state, 0)"
   ]
  },
  {
   "cell_type": "code",
   "execution_count": null,
   "metadata": {},
   "outputs": [],
   "source": [
    "%timeit -o -n 100000 ode_cp(x0_state, 0)"
   ]
  },
  {
   "cell_type": "code",
   "execution_count": null,
   "metadata": {},
   "outputs": [],
   "source": [
    "%timeit -o -n 100000 f.odefun(x0_state, 0)"
   ]
  },
  {
   "cell_type": "markdown",
   "metadata": {},
   "source": [
    "## KalmanODE & KalmanODE_py"
   ]
  },
  {
   "cell_type": "code",
   "execution_count": 2,
   "metadata": {},
   "outputs": [],
   "source": [
    "from KalmanTest.KalmanODE_py import KalmanODE_py\n",
    "from probDE.cython.KalmanTest.KalmanODE import KalmanODE"
   ]
  },
  {
   "cell_type": "code",
   "execution_count": null,
   "metadata": {},
   "outputs": [],
   "source": [
    "# These parameters define the order of the ODE and the CAR(p) process\n",
    "n_meas = 1\n",
    "n_state = 3\n",
    "\n",
    "# it is assumed that the solution is sought on the interval [tmin, tmax].\n",
    "n_steps = 50\n",
    "n_eval = n_steps-1\n",
    "tmin = 0\n",
    "tmax = 10\n",
    "\n",
    "# The rest of the parameters can be tuned according to ODE\n",
    "# For this problem, we will use\n",
    "tau = 50\n",
    "sigma = .001\n",
    "\n",
    "# Initial value, a, for the IVP\n",
    "w = np.array([0., 0., 1.])\n",
    "x0 = np.array([-1., 0., 1.]) #Initial State\n",
    "z_states = rand_mat(2*n_steps, n_state) #Random matrix\n",
    "\n",
    "# Run the solver to get an approximation\n",
    "kalmanode_py = KalmanODE_py(n_state, n_meas, tmin, tmax, n_eval, ode_py) # Initialize the class\n",
    "x0_state = kalmanode_py.initialize(w, tau, sigma, x0) # Get the initial x0_state using initialize method\n",
    "kalmanode_py.z_states = z_states # Set class z_states property as random matrix defined (can be omitted)\n",
    "kalman_py_sim, kalman_py_mu, kalman_py_var = kalmanode_py.solve(x0_state, mv=True, sim=True) # Run the solver"
   ]
  },
  {
   "cell_type": "code",
   "execution_count": null,
   "metadata": {},
   "outputs": [],
   "source": [
    "kalmanode = KalmanODE(n_state, n_meas, tmin, tmax, n_eval, ode_py) # Initialize the class\n",
    "x0_state = kalmanode.initialize(w, tau, sigma, x0) # Get the initial x0_state using initialize method\n",
    "kalmanode.z_states = z_states # Set class z_states property as random matrix defined (can be omitted)\n",
    "kalman_sim, kalman_mu, kalman_var = kalmanode.solve(x0_state, mv=True, sim=True)"
   ]
  },
  {
   "cell_type": "code",
   "execution_count": null,
   "metadata": {},
   "outputs": [],
   "source": [
    "tseq = np.linspace(tmin, tmax, n_steps)\n",
    "plt.plot(tseq, kalman_py_sim[:, 1], label = 'Python mean')\n",
    "plt.plot(tseq, kalman_sim[:, 1], label = 'C mean')\n",
    "plt.legend(loc='upper left')"
   ]
  },
  {
   "cell_type": "code",
   "execution_count": null,
   "metadata": {},
   "outputs": [],
   "source": [
    "kalman_cy = %timeit -o -n 100 _, _, _ = kalmanode.solve(x0_state, mv=True, sim=True)"
   ]
  },
  {
   "cell_type": "code",
   "execution_count": null,
   "metadata": {},
   "outputs": [],
   "source": [
    "kalman_py = %timeit -o -n 100 _, _, _ = kalmanode_py.solve(x0_state, mv=True, sim=True)"
   ]
  },
  {
   "cell_type": "code",
   "execution_count": null,
   "metadata": {},
   "outputs": [],
   "source": [
    "kalman_py.average/kalman_cy.average"
   ]
  },
  {
   "cell_type": "markdown",
   "metadata": {},
   "source": [
    "## Lorenz63"
   ]
  },
  {
   "cell_type": "code",
   "execution_count": null,
   "metadata": {},
   "outputs": [],
   "source": [
    "def lorenz0(state, t):\n",
    "    rho = 28.0\n",
    "    sigma = 10.0\n",
    "    beta = 8.0 / 3.0\n",
    "    x, y, z = state  # Unpack the state vector\n",
    "    return -sigma*x + sigma*y, rho*x - y -x*z, -beta*z + x*y"
   ]
  },
  {
   "cell_type": "code",
   "execution_count": null,
   "metadata": {},
   "outputs": [],
   "source": [
    "# RHS of ODE\n",
    "def lorenz(X_t, t, theta=None):\n",
    "    rho = 28.0\n",
    "    sigma = 10.0\n",
    "    beta = 8.0 / 3.0\n",
    "    p = 3\n",
    "    x, y, z = X_t[p*0], X_t[p*1], X_t[p*2]\n",
    "    return np.array([-sigma*x + sigma*y, rho*x - y -x*z, -beta*z + x*y]) \n",
    "\n",
    "# LHS Matrix of ODE\n",
    "w_mat = np.array([[0.0, 1.0], [0.0, 1.0], [0.0, 1.0]])\n",
    "\n",
    "# These parameters define the order of the ODE and the CAR(p) process\n",
    "n_var = 3 # Number of variates\n",
    "n_meas = 1 # ODE order\n",
    "n_state = 3 # number of continuous derivatives of CAR(p) solution prior\n",
    "\n",
    "# it is assumed that the solution is sought on the interval [tmin, tmax].\n",
    "n_steps = 5000 \n",
    "n_eval = n_steps -1\n",
    "tmin = 0\n",
    "tmax = 20\n",
    "\n",
    "# The rest of the parameters can be tuned according to ODE\n",
    "# For this problem, we will use\n",
    "tau = 1\n",
    "sigma = .001\n",
    "sigmalst = [sigma]*n_var\n",
    "scale = 10 # Scaling factor for root generation\n",
    "\n",
    "# Initial value, a, for the IVP\n",
    "x0 = [-12, -5, 38]\n",
    "v0 = lorenz0(x0, 0)\n",
    "a = np.array(list(zip(x0, v0)), dtype=np.double)\n",
    "z_states = rand_mat(2*n_steps, n_var*n_state)\n",
    "\n",
    "# Run the solver to get an approximation\n",
    "kalmanode_py = KalmanODE_py(n_state, n_meas, tmin, tmax, n_eval, lorenz) # Initialize the class\n",
    "x0_state = kalmanode_py.multi_initialize(w_mat, tau, sigmalst, a, scale) # Get the initial x0_state using initialize method\n",
    "kalmanode_py.z_states = z_states # Set class z_states property as random matrix defined (can be omitted)\n",
    "kalman_py_lor_sim, kalman_py_lor_mu, kalman_py_lor_var = kalmanode_py.solve(x0_state, mv=True, sim=True) # Run the solver"
   ]
  },
  {
   "cell_type": "code",
   "execution_count": null,
   "metadata": {},
   "outputs": [],
   "source": [
    "kalmanode = KalmanODE(n_state, n_meas, tmin, tmax, n_eval, lorenz) # Initialize the class\n",
    "x0_state = kalmanode.multi_initialize(w_mat, tau, sigmalst, a, scale) # Get the initial x0_state using initialize method\n",
    "kalmanode.z_states = z_states # Set class z_states property as random matrix defined (can be omitted)\n",
    "kalman_lor_sim, kalman_lor_mu, kalman_lor_var = kalmanode.solve(x0_state, mv=True, sim=True)"
   ]
  },
  {
   "cell_type": "code",
   "execution_count": null,
   "metadata": {},
   "outputs": [],
   "source": [
    "tseq = np.linspace(tmin, tmax, n_steps)\n",
    "_, axs = plt.subplots(n_var, 1, figsize=(20, 7))\n",
    "ylabel = ['x', 'y', 'z']\n",
    "for i in range(n_var):\n",
    "    axs[i].plot(tseq, kalman_py_lor_sim[:, n_state*i], label=\"Python\")\n",
    "    axs[i].plot(tseq, kalman_lor_sim[:, n_state*i], label=\"C\")\n",
    "    axs[i].set_ylabel(ylabel[i])\n",
    "    axs[i].legend(loc='upper left')"
   ]
  },
  {
   "cell_type": "code",
   "execution_count": null,
   "metadata": {},
   "outputs": [],
   "source": [
    "kalman_lor_cy = %timeit -o _ = kalmanode.solve(x0_state, mv=True, sim=True)"
   ]
  },
  {
   "cell_type": "code",
   "execution_count": null,
   "metadata": {},
   "outputs": [],
   "source": [
    "kalman_lor_py = %timeit -o _, _, _ = kalmanode_py.solve(x0_state, mv=True, sim=True)"
   ]
  },
  {
   "cell_type": "code",
   "execution_count": null,
   "metadata": {},
   "outputs": [],
   "source": [
    "kalman_lor_py.average/kalman_lor_cy.average"
   ]
  },
  {
   "cell_type": "markdown",
   "metadata": {},
   "source": [
    "## Lane-Emden"
   ]
  },
  {
   "cell_type": "code",
   "execution_count": null,
   "metadata": {},
   "outputs": [],
   "source": [
    "from scipy.integrate import odeint\n",
    "def lane0(x_t, t):\n",
    "    return [x_t[1], -2/t*x_t[1] - x_t[0]]"
   ]
  },
  {
   "cell_type": "code",
   "execution_count": null,
   "metadata": {},
   "outputs": [],
   "source": [
    "def lane(x_t, t, theta=None):\n",
    "    return np.array([-2/t*x_t[1] - x_t[0]])\n",
    "\n",
    "# These parameters define the order of the ODE and the CAR(p) process\n",
    "n_meas = 1\n",
    "n_state = 3\n",
    "\n",
    "# it is assumed that the solution is sought on the interval [tmin, tmax].\n",
    "n_steps = 500\n",
    "n_eval = n_steps-1 \n",
    "tmin = 1\n",
    "tmax = 10\n",
    "\n",
    "# The rest of the parameters can be tuned according to ODE\n",
    "# For this problem, we will use\n",
    "tau = 50\n",
    "sigma = .001\n",
    "\n",
    "# Initial value, a, for the IVP\n",
    "w = np.array([0., 0., 1.])\n",
    "x0 = np.array([1., 0., -1.]) #Initial State\n",
    "z_states = rand_mat(2*n_steps, n_state) #Random matrix\n",
    "\n",
    "# Run the solver to get an approximation\n",
    "kalmanode_py = KalmanODE_py(n_state, n_meas, tmin, tmax, n_eval, lane) # Initialize the class\n",
    "x0_state = kalmanode_py.initialize(w, tau, sigma, x0) # Get the initial x0_state using initialize method\n",
    "kalmanode_py.z_states = z_states # Set class z_states property as random matrix defined (can be omitted)\n",
    "kalman_py_lane_sim, kalman_py_lane_mu, kalman_py_lane_var = kalmanode_py.solve(x0_state, mv=True, sim=True) # Run the solver"
   ]
  },
  {
   "cell_type": "code",
   "execution_count": null,
   "metadata": {},
   "outputs": [],
   "source": [
    "kalmanode = KalmanODE(n_state, n_meas, tmin, tmax, n_eval, lane) # Initialize the class\n",
    "x0_state = kalmanode.initialize(w, tau, sigma, x0) # Get the initial x0_state using initialize method\n",
    "kalmanode.z_states = z_states # Set class z_states property as random matrix defined (can be omitted)\n",
    "kalman_lane_sim, kalman_lane_mu, kalman_lane_var = kalmanode.solve(x0_state, mv=True, sim=True)"
   ]
  },
  {
   "cell_type": "code",
   "execution_count": null,
   "metadata": {},
   "outputs": [],
   "source": [
    "tseq = np.linspace(tmin, tmax, n_steps)\n",
    "lane_odeint = odeint(lane0, [1, 0], tseq)\n",
    "plt.plot(tseq, kalman_py_lane_sim[:, 1], label = 'Python mean')\n",
    "plt.plot(tseq, kalman_lane_sim[:, 1], label = 'C++ mean')\n",
    "plt.plot(tseq, lane_odeint[:, 1], label = 'Odeint mean')\n",
    "plt.legend(loc='upper left')"
   ]
  },
  {
   "cell_type": "code",
   "execution_count": null,
   "metadata": {},
   "outputs": [],
   "source": [
    "kalman_lane_cy = %timeit -o _ = kalmanode.solve(x0_state, mv=True, sim=True)"
   ]
  },
  {
   "cell_type": "code",
   "execution_count": null,
   "metadata": {},
   "outputs": [],
   "source": [
    "kalman_lane_py = %timeit -o _, _, _ = kalmanode_py.solve(x0_state, mv=True, sim=True)"
   ]
  },
  {
   "cell_type": "code",
   "execution_count": null,
   "metadata": {},
   "outputs": [],
   "source": [
    "kalman_lane_py.average/kalman_lane_cy.average"
   ]
  },
  {
   "cell_type": "markdown",
   "metadata": {},
   "source": [
    "## FitzHugh-Nagumo"
   ]
  },
  {
   "cell_type": "code",
   "execution_count": 3,
   "metadata": {},
   "outputs": [],
   "source": [
    "def fitz0(X_t, t, theta):\n",
    "    a, b, c = theta\n",
    "    V, R = X_t\n",
    "    return [c*(V - V**3/3 + R), -1/c*(V - a + b*R)]"
   ]
  },
  {
   "cell_type": "code",
   "execution_count": 4,
   "metadata": {},
   "outputs": [
    {
     "data": {
      "text/plain": [
       "\"\\nn_sim = 100\\nfitz_data = np.zeros((n_sim, n_steps))\\nfor i in range(n_sim):\\n    fitz_data[i] = fitz_ode[:, 0] + 0.1*np.random.randn()    \\n    plt.plot(tseq, fitz_data[i], 'lightblue', alpha=0.4)\\nplt.ylabel('V')\\nplt.show()\\n\""
      ]
     },
     "execution_count": 4,
     "metadata": {},
     "output_type": "execute_result"
    }
   ],
   "source": [
    "tmin = 0\n",
    "tmax = 20\n",
    "n_steps = 400\n",
    "theta = [.2, .2, 3]\n",
    "x0 = [-1, 1]\n",
    "sigma = 0.1\n",
    "tseq = np.linspace(tmin, tmax, n_steps)\n",
    "fitz_ode = odeint(fitz0, x0, tseq, args=(theta,))\n",
    "\n",
    "\"\"\"\n",
    "n_sim = 100\n",
    "fitz_data = np.zeros((n_sim, n_steps))\n",
    "for i in range(n_sim):\n",
    "    fitz_data[i] = fitz_ode[:, 0] + 0.1*np.random.randn()    \n",
    "    plt.plot(tseq, fitz_data[i], 'lightblue', alpha=0.4)\n",
    "plt.ylabel('V')\n",
    "plt.show()\n",
    "\"\"\""
   ]
  },
  {
   "cell_type": "code",
   "execution_count": 5,
   "metadata": {},
   "outputs": [],
   "source": [
    "# RHS of ODE\n",
    "def fitz(X_t, t, theta):\n",
    "    p = 3\n",
    "    a, b, c = theta\n",
    "    V, R = X_t[p*0], X_t[p*1]\n",
    "    return [c*(V - V**3/3 + R), -1/c*(V - a + b*R)]\n",
    "\n",
    "# LHS Matrix of ODE\n",
    "w_mat = np.array([[0.0, 1.0], [0.0, 1.0]])\n",
    "\n",
    "# These parameters define the order of the ODE and the CAR(p) process\n",
    "n_var = 2 # Number of variates\n",
    "n_meas = 1 # ODE order\n",
    "n_state = 3 # number of continuous derivatives of CAR(p) solution prior\n",
    "\n",
    "# it is assumed that the solution is sought on the interval [tmin, tmax].\n",
    "n_steps = 400\n",
    "n_eval = n_steps -1\n",
    "tmin = 0\n",
    "tmax = 20\n",
    "theta = [.2, .2, 3]\n",
    "\n",
    "# The rest of the parameters can be tuned according to ODE\n",
    "# For this problem, we will use\n",
    "tau = 100\n",
    "sigma = .001\n",
    "sigmalst = [sigma]*n_var\n",
    "\n",
    "# Initial value, a, for the IVP\n",
    "x0 = [-1, 1]\n",
    "v0 = fitz0(x0, 0, theta)\n",
    "a = np.array(list(zip(x0, v0)), dtype=np.double)\n",
    "z_states = rand_mat(2*n_steps, n_var*n_state)"
   ]
  },
  {
   "cell_type": "code",
   "execution_count": 6,
   "metadata": {},
   "outputs": [],
   "source": [
    "# Run the solver to get an approximation\n",
    "kalmanode_py = KalmanODE_py(n_state, n_meas, tmin, tmax, n_eval, fitz) # Initialize the class\n",
    "x0_state = kalmanode_py.multi_initialize(w_mat, tau, sigmalst, a) # Get the initial x0_state using initialize method\n",
    "kalmanode_py.z_states = z_states # Set class z_states property as random matrix defined (can be omitted)\n",
    "kalman_py_fitz_sim, kalman_py_fitz_mu, kalman_py_fitz_var = kalmanode_py.solve(x0_state, theta=theta, mv=True, sim=True) \n",
    "\n",
    "# Run the solver to get an approximation\n",
    "kalmanode = KalmanODE(n_state, n_meas, tmin, tmax, n_eval, fitz) # Initialize the class\n",
    "x0_state = kalmanode.multi_initialize(w_mat, tau, sigmalst, a) # Get the initial x0_state using initialize method\n",
    "kalmanode.z_states = z_states # Set class z_states property as random matrix defined (can be omitted)\n",
    "kalman_fitz_sim, kalman_fitz_mu, kalman_fitz_var = kalmanode.solve(x0_state, theta=theta, mv=True, sim=True) "
   ]
  },
  {
   "cell_type": "code",
   "execution_count": 7,
   "metadata": {},
   "outputs": [
    {
     "data": {
      "image/png": "[encoded data removed]",
      "text/plain": [
       "<Figure size 1440x504 with 2 Axes>"
      ]
     },
     "metadata": {
      "needs_background": "light"
     },
     "output_type": "display_data"
    }
   ],
   "source": [
    "_, axs = plt.subplots(n_var, 1, figsize=(20, 7))\n",
    "ylabel = ['V', 'R']\n",
    "for i in range(n_var):\n",
    "    axs[i].plot(tseq, kalman_py_fitz_sim[:, n_state*i], label=\"Python\")\n",
    "    axs[i].plot(tseq, kalman_fitz_mu[:, n_state*i], label=\"C++\")\n",
    "    axs[i].set_ylabel(ylabel[i])\n",
    "    axs[i].plot(tseq, fitz_ode[:, i], label='Exact')\n",
    "    axs[i].legend(loc='upper left')"
   ]
  },
  {
   "cell_type": "code",
   "execution_count": 8,
   "metadata": {},
   "outputs": [],
   "source": [
    "def normal_loglik(mu, sigma, y):\n",
    "    n_steps = len(y) \n",
    "    loglik =-n_steps/2*(np.log(2*np.pi)- np.sum(np.log(sigma*sigma))) - \\\n",
    "        0.5*np.sum((y - mu)**2/(sigma*sigma))\n",
    "    return loglik"
   ]
  },
  {
   "cell_type": "code",
   "execution_count": 13,
   "metadata": {},
   "outputs": [],
   "source": [
    "def fitz_mwg(n_samples, y, theta0, rwsd):\n",
    "    ntheta = len(theta0)\n",
    "    theta_curr = theta0\n",
    "    theta_prop = []\n",
    "    paccept = np.zeros(ntheta)\n",
    "    # Parameters for running the solver\n",
    "    w_mat = np.array([[0.0, 1.0], [0.0, 1.0]])\n",
    "\n",
    "    # These parameters define the order of the ODE and the CAR(p) process\n",
    "    n_var = 2 # Number of variates\n",
    "    n_meas = 1 # ODE order\n",
    "    n_state = 3 # number of continuous derivatives of CAR(p) solution prior\n",
    "\n",
    "    # it is assumed that the solution is sought on the interval [tmin, tmax].\n",
    "    n_steps = 400\n",
    "    n_eval = n_steps -1\n",
    "    tmin = 0\n",
    "    tmax = 20\n",
    "\n",
    "    # The rest of the parameters can be tuned according to ODE\n",
    "    # For this problem, we will use\n",
    "    tau = 100\n",
    "    sigma = .001\n",
    "    sigmalst = [sigma]*n_var\n",
    "\n",
    "    # Initial value, a, for the IVP\n",
    "    x0 = [-1, 1]\n",
    "    v0 = fitz0(x0, 0, theta_curr)\n",
    "    a = np.array(list(zip(x0, v0)), dtype=np.double)\n",
    "    z_states = rand_mat(2*n_steps, n_var*n_state)\n",
    "    \n",
    "    kalmanode = KalmanODE(n_state, n_meas, tmin, tmax, n_eval, fitz) # Initialize the class\n",
    "    x0_state = kalmanode.multi_initialize(w_mat, tau, sigmalst, a) # Get the initial x0_state using initialize method\n",
    "    kalmanode.z_states = z_states # Set class z_states property as random matrix defined (can be omitted)\n",
    "    mu_curr, var_curr = kalmanode.solve(x0_state, theta=theta_curr, mv=True, sim=False)\n",
    "    lp_curr = normal_loglik(mu_curr[1:, 0], var_curr[1:, 0, 0], y[1:, 0])\n",
    "    for i in range(n_samples):\n",
    "        for j in range(ntheta):\n",
    "            theta_prop = theta_curr[:]\n",
    "            theta_prop[j] = theta_prop[j] + rwsd[j]*np.random.randn()\n",
    "            if j!=2 or theta_prop[j]>0:\n",
    "                v0 = fitz0(x0, 0, theta_prop)\n",
    "                x0_state[[1, 4]] = v0\n",
    "                mu_prop, var_prop = kalmanode.solve(x0_state, theta=theta_prop, mv=True, sim=False)\n",
    "                lp_prop = normal_loglik(mu_prop[1:, 0], var_prop[1:, 0, 0], y[1:, 0])\n",
    "                lacc = lp_prop - lp_curr     \n",
    "                if lacc > 0 or np.random.uniform() < np.exp(lacc):\n",
    "                    theta_curr = theta_prop\n",
    "                    lp_curr = lp_prop\n",
    "                    paccept[j] = paccept[j] + 1\n",
    "    paccept = paccept/n_samples\n",
    "    return theta_curr, paccept"
   ]
  },
  {
   "cell_type": "code",
   "execution_count": 71,
   "metadata": {},
   "outputs": [],
   "source": [
    "theta = [0, 0, 1]\n",
    "rwsd = [.001, .001, .01]\n",
    "n_samples = 3000"
   ]
  },
  {
   "cell_type": "code",
   "execution_count": 72,
   "metadata": {},
   "outputs": [],
   "source": [
    "test, paccept = fitz_mwg(n_samples, kalman_fitz_mu, theta, rwsd)"
   ]
  },
  {
   "cell_type": "code",
   "execution_count": 74,
   "metadata": {},
   "outputs": [
    {
     "data": {
      "text/plain": [
       "[0.2002113648586333, 0.19881465745173266, 2.9999339544949537]"
      ]
     },
     "execution_count": 74,
     "metadata": {},
     "output_type": "execute_result"
    }
   ],
   "source": [
    "test"
   ]
  },
  {
   "cell_type": "code",
   "execution_count": 17,
   "metadata": {},
   "outputs": [
    {
     "name": "stdout",
     "output_type": "stream",
     "text": [
      "34.1 s ± 0 ns per loop (mean ± std. dev. of 1 run, 1 loop each)\n"
     ]
    }
   ],
   "source": [
    "n_samples = 3333\n",
    "kalman_fitz_cy = %timeit -o -n1 -r1 _, _ =  fitz_mwg(n_samples, fitz_ode, theta, rwsd)"
   ]
  },
  {
   "cell_type": "code",
   "execution_count": 18,
   "metadata": {},
   "outputs": [
    {
     "name": "stdout",
     "output_type": "stream",
     "text": [
      "1min 43s ± 0 ns per loop (mean ± std. dev. of 1 run, 1 loop each)\n"
     ]
    }
   ],
   "source": [
    "n_samples = 10000\n",
    "kalman_fitz_cy2 = %timeit -o -n1 -r1 _, _ =  fitz_mwg(n_samples, fitz_ode, theta, rwsd)"
   ]
  }
 ],
 "metadata": {
  "kernelspec": {
   "display_name": "Python 3",
   "language": "python",
   "name": "python3"
  },
  "language_info": {
   "codemirror_mode": {
    "name": "ipython",
    "version": 3
   },
   "file_extension": ".py",
   "mimetype": "text/x-python",
   "name": "python",
   "nbconvert_exporter": "python",
   "pygments_lexer": "ipython3",
   "version": "3.7.3"
  }
 },
 "nbformat": 4,
 "nbformat_minor": 2
}
