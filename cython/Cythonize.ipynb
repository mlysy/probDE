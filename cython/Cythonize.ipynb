{
 "cells": [
  {
   "cell_type": "code",
   "execution_count": 1,
   "metadata": {},
   "outputs": [],
   "source": [
    "import numpy as np\n",
    "import matplotlib.pyplot as plt\n",
    "from probDE.utils.utils import zero_pad\n",
    "from probDE.utils.utils import root_gen\n",
    "from probDE.Kalman.kalman_initial_draw import kalman_initial_draw\n",
    "from probDE.Kalman import kalman_ode_higher\n",
    "from probDE.Kalman.higher_mvncond import higher_mvncond\n",
    "from probDE.cython.kalman_ode_higher import kalman_ode_higher as kalman_ode_higher_cy\n",
    "#from linalg.mat_mult import mat_mult, mat_vec_mult"
   ]
  },
  {
   "cell_type": "code",
   "execution_count": 2,
   "metadata": {},
   "outputs": [],
   "source": [
    "%load_ext Cython"
   ]
  },
  {
   "cell_type": "code",
   "execution_count": 3,
   "metadata": {},
   "outputs": [],
   "source": [
    "%%cython\n",
    "from libc.math cimport sin\n",
    "import numpy as np\n",
    "cimport numpy as np\n",
    "\n",
    "cpdef ode_fun(double[::1] x_t, double t):\n",
    "    return sin(2*t) - x_t[0]\n",
    "\n",
    "cpdef rand_mat(int n, int p, bint pd=True):\n",
    "    cdef np.ndarray[np.double_t, ndim=2] V = np.zeros((p, n), order='F')\n",
    "    V[:] = np.random.randn(p, n)\n",
    "    if (p == n) and pd:\n",
    "        V[:] = np.matmul(V, V.T)\n",
    "    return V"
   ]
  },
  {
   "cell_type": "code",
   "execution_count": 4,
   "metadata": {},
   "outputs": [],
   "source": [
    "def chk_exact_x(t):\n",
    "    return (-3*cos(t) + 2*sin(t) - sin(2*t))/3\n",
    "\n",
    "def chk_exact_x1(t):\n",
    "    return (-2*cos(2*t) + 3*sin(t) + 2*cos(t))/3"
   ]
  },
  {
   "cell_type": "code",
   "execution_count": 5,
   "metadata": {},
   "outputs": [],
   "source": [
    "N = 50\n",
    "q = 2\n",
    "p = q+2\n",
    "tmin = 0\n",
    "tmax = 10\n",
    "delta_t = np.array([(tmax-tmin)*1/N])\n",
    "w = np.array([0. , 0., 1.])\n",
    "wgt_meas = zero_pad(w, p)\n",
    "x0 = np.array([-1., 0., 0.])\n",
    "x0 = np.array([-1.0, 0.0, ode_fun(x0, 0)]) #Initial state\n",
    "r0 = 500\n",
    "sigma = 0.5\n",
    "roots = root_gen(r0, p) #Generate roots to draw x^{(3)}_0\n",
    "x_0 = kalman_initial_draw(roots, sigma, x0, p)\n",
    "wgt_state, var_state = higher_mvncond(delta_t, roots, sigma) \n",
    "mu_state = np.zeros(p)\n",
    "z_state_sim = rand_mat(2*N, p)\n",
    "\n",
    "Yn_chk_mean, Yn_chk_var = kalman_ode_higher(ode_fun, x_0, tmin, tmax, N-1, \n",
    "                                            wgt_state, mu_state, var_state, wgt_meas, z_state_sim)"
   ]
  },
  {
   "cell_type": "code",
   "execution_count": 6,
   "metadata": {},
   "outputs": [],
   "source": [
    "Yn_chk_mean2, Yn_chk_var2 = kalman_ode_higher_cy(ode_fun, x_0, tmin, tmax, N-1, \n",
    "                                               wgt_state, mu_state, var_state, \n",
    "                                               wgt_meas, z_state_sim)"
   ]
  },
  {
   "cell_type": "code",
   "execution_count": 7,
   "metadata": {},
   "outputs": [
    {
     "data": {
      "text/plain": [
       "<matplotlib.legend.Legend at 0x1cba5b23550>"
      ]
     },
     "execution_count": 7,
     "metadata": {},
     "output_type": "execute_result"
    },
    {
     "data": {
      "image/png": "[encoded data removed]",
      "text/plain": [
       "<Figure size 432x288 with 1 Axes>"
      ]
     },
     "metadata": {
      "needs_background": "light"
     },
     "output_type": "display_data"
    }
   ],
   "source": [
    "tseq = np.linspace(tmin, tmax, N)\n",
    "plt.plot(tseq, Yn_chk_mean[:, 1], label = 'Python mean')\n",
    "#plt.plot(tseq, Yn[:, 1], label = 'Python sample')\n",
    "plt.plot(tseq, Yn_chk_mean2[1], label = 'C mean')\n",
    "#plt.plot(tseq, Yn2[1], label = 'C sample')\n",
    "plt.legend(loc='upper left')"
   ]
  },
  {
   "cell_type": "markdown",
   "metadata": {},
   "source": [
    "## Python, Cython, Odeint Timings"
   ]
  },
  {
   "cell_type": "code",
   "execution_count": null,
   "metadata": {},
   "outputs": [],
   "source": [
    "py = %timeit -o -n 100 Yn, Yn_chk_mean, Yn_chk_var = \\\n",
    "    kalman_ode_higher(ode_fun, x_0, tmin, tmax, N-1, wgt_state, mu_state, var_state, wgt_meas)"
   ]
  },
  {
   "cell_type": "code",
   "execution_count": null,
   "metadata": {},
   "outputs": [],
   "source": [
    "cy = %timeit -o -n 100 Yn2, Yn_chk_mean2, Yn_chk_var2 = \\\n",
    "    kalman_ode_higher_cy(ode_fun, x_0, tmin, tmax, N-1, wgt_state, mu_state, var_state, wgt_meas, z_state_sim)"
   ]
  },
  {
   "cell_type": "code",
   "execution_count": null,
   "metadata": {},
   "outputs": [],
   "source": [
    "py.average/cy.average"
   ]
  },
  {
   "cell_type": "code",
   "execution_count": null,
   "metadata": {},
   "outputs": [],
   "source": [
    "from scipy import integrate\n",
    "from math import sin\n",
    "def f(x_t, t):\n",
    "    return [x_t[1], sin(2*t) - x_t[0]]"
   ]
  },
  {
   "cell_type": "code",
   "execution_count": null,
   "metadata": {},
   "outputs": [],
   "source": [
    "ode = %timeit -o ode = integrate.odeint(f, [-1, 0], tseq)\n",
    "cy.average/ode.average"
   ]
  },
  {
   "cell_type": "markdown",
   "metadata": {},
   "source": [
    "## Python to Cython Comparisons of `fun` and `rand_mat`"
   ]
  },
  {
   "cell_type": "code",
   "execution_count": null,
   "metadata": {},
   "outputs": [],
   "source": [
    "def rand_mat_py(n, p=None, pd=True):\n",
    "    \"\"\"Generate a random matrix, positive definite if `pd = True`.\"\"\"\n",
    "    if p is None:\n",
    "        p = n\n",
    "    V = np.zeros((p, n), order='F')\n",
    "    V[:] = np.random.randn(p, n)\n",
    "    if (p == n) & pd:\n",
    "        V[:] = np.matmul(V, V.T)\n",
    "    return V"
   ]
  },
  {
   "cell_type": "code",
   "execution_count": null,
   "metadata": {},
   "outputs": [],
   "source": [
    "%timeit rand_mat(2*N, p)"
   ]
  },
  {
   "cell_type": "code",
   "execution_count": null,
   "metadata": {},
   "outputs": [],
   "source": [
    "%timeit rand_mat_py(2*N, p)"
   ]
  },
  {
   "cell_type": "code",
   "execution_count": null,
   "metadata": {},
   "outputs": [],
   "source": [
    "def ode_fun_py(x_t, t):\n",
    "    return sin(2*t) - x_t[0]"
   ]
  },
  {
   "cell_type": "code",
   "execution_count": null,
   "metadata": {},
   "outputs": [],
   "source": [
    "%timeit ode_fun(x_0, 0)"
   ]
  },
  {
   "cell_type": "code",
   "execution_count": null,
   "metadata": {},
   "outputs": [],
   "source": [
    "%timeit ode_fun_py(x_0, 0)"
   ]
  },
  {
   "cell_type": "markdown",
   "metadata": {},
   "source": [
    "## Blas/Lapack"
   ]
  },
  {
   "cell_type": "code",
   "execution_count": null,
   "metadata": {},
   "outputs": [],
   "source": [
    "def rel_err(X1, X2):\n",
    "    \"\"\"Relative error between two numpy arrays.\"\"\"\n",
    "    return np.max(np.abs((X1.ravel() - X2.ravel())/X1.ravel()))"
   ]
  },
  {
   "cell_type": "code",
   "execution_count": null,
   "metadata": {},
   "outputs": [],
   "source": [
    "m = np.random.randint(2,10)\n",
    "n = np.random.randint(2,10)\n",
    "A = np.array(np.random.rand(m,n), order='F')\n",
    "x = np.random.rand(n)\n",
    "y = np.zeros(m, order='F')"
   ]
  },
  {
   "cell_type": "code",
   "execution_count": null,
   "metadata": {},
   "outputs": [],
   "source": [
    "mat_vec_mult(A, x, y)\n",
    "np.testing.assert_almost_equal(rel_err(A.dot(x), y), 0.0)"
   ]
  },
  {
   "cell_type": "code",
   "execution_count": null,
   "metadata": {},
   "outputs": [],
   "source": [
    "m = np.random.randint(2,10)\n",
    "k = np.random.randint(2,10)\n",
    "n = np.random.randint(2,10)\n",
    "A = np.array(np.random.rand(m,k), order='F')\n",
    "B = np.array(np.random.rand(k,n), order='F')\n",
    "C = np.zeros((m,n), order='F')"
   ]
  },
  {
   "cell_type": "code",
   "execution_count": null,
   "metadata": {},
   "outputs": [],
   "source": [
    "mat_mult(A, B, C)\n",
    "np.testing.assert_almost_equal(rel_err(np.matmul(A, B), C), 0.0)"
   ]
  },
  {
   "cell_type": "markdown",
   "metadata": {},
   "source": [
    "## Numpy vs Blas Timings"
   ]
  },
  {
   "cell_type": "code",
   "execution_count": null,
   "metadata": {},
   "outputs": [],
   "source": [
    "m = np.random.randint(2,10)\n",
    "n = np.random.randint(2,10)\n",
    "A = np.array(np.random.rand(m,n), order='F')\n",
    "x = np.random.rand(n)\n",
    "y = np.zeros(m, order='F')"
   ]
  },
  {
   "cell_type": "code",
   "execution_count": null,
   "metadata": {},
   "outputs": [],
   "source": [
    "%timeit np.dot(A, x)"
   ]
  },
  {
   "cell_type": "code",
   "execution_count": null,
   "metadata": {},
   "outputs": [],
   "source": [
    "%timeit mat_vec_mult(A, x, y)"
   ]
  },
  {
   "cell_type": "code",
   "execution_count": null,
   "metadata": {},
   "outputs": [],
   "source": [
    "m = np.random.randint(2,10)\n",
    "k = np.random.randint(2,10)\n",
    "n = np.random.randint(2,10)\n",
    "A = np.array(np.random.rand(m,k), order='F')\n",
    "B = np.array(np.random.rand(k,n), order='F')\n",
    "C = np.zeros((m,n), order='F')"
   ]
  },
  {
   "cell_type": "code",
   "execution_count": null,
   "metadata": {},
   "outputs": [],
   "source": [
    "%timeit np.matmul(A, B)"
   ]
  },
  {
   "cell_type": "code",
   "execution_count": null,
   "metadata": {},
   "outputs": [],
   "source": [
    "%timeit mat_mult(A, B, C)"
   ]
  },
  {
   "cell_type": "markdown",
   "metadata": {},
   "source": [
    "## Scratch"
   ]
  },
  {
   "cell_type": "code",
   "execution_count": null,
   "metadata": {},
   "outputs": [],
   "source": [
    "%%cython -a\n",
    "cimport cython\n",
    "import numpy as np\n",
    "cimport numpy as np\n",
    "from kalmantv.cython import KalmanTV\n",
    "from linalg.mat_mult import mat_mult, mat_vec_mult\n",
    "\n",
    "DTYPE = np.double\n",
    "ctypedef np.double_t DTYPE_t\n",
    "\n",
    "# FIXME: where should we be using memory views?  most likely in the inputs,\n",
    "# but is there a risk of overwriting things?\n",
    "# anywhere else?\n",
    "# FIXME: need to replace all calls to np.linalg with low-level C calls.\n",
    "# I can think of two ways to do this:\n",
    "# 1.  Use BLAS/LAPACK numpy interface.  see `cython-linalg.ipynb`.\n",
    "# 2.  Write a C++ class in Eigen to handle the remaining linalg operations.  For example:\n",
    "#\n",
    "#    ```\n",
    "#    class LinalgUtils {\n",
    "#    }\n",
    "#    ```\n",
    "#\n",
    "#    The main issue here is that you should malloc everything at object instantiation time, so you'll need to specify the dimensions of all relevant operations.\n",
    "\n",
    "@cython.boundscheck(False)\n",
    "@cython.wraparound(False)\n",
    "@cython.nonecheck(False)\n",
    "cpdef kalman_ode_higher_cy(fun,\n",
    "                          double[::1] x0_state,\n",
    "                          double tmin,\n",
    "                          double tmax,\n",
    "                          int n_eval, \n",
    "                          double[::1, :] wgt_state,\n",
    "                          double[::1] mu_state, \n",
    "                          double[::1, :] var_state,\n",
    "                          double[::1, :] wgt_meas, \n",
    "                          double[::1, :] z_state_sim,\n",
    "                          bint smooth_mv=True,\n",
    "                          bint smooth_sim=False):\n",
    "    # Input checks\n",
    "    if (not smooth_mv) and (not smooth_sim):  \n",
    "        raise ValueError(\"At least one of smooth_mv or smooth_sim must be True.\")\n",
    "        \n",
    "    # Dimensions of state and measure variables\n",
    "    cdef int n_dim_meas = wgt_meas.shape[0]\n",
    "    cdef int n_dim_state = mu_state.shape[0]\n",
    "    cdef int n_steps = n_eval + 1\n",
    "\n",
    "    # argumgents for kalman_filter and kalman_smooth\n",
    "    cdef np.ndarray[DTYPE_t, ndim=1] mu_meas = np.zeros(n_dim_meas,\n",
    "                                                        dtype=DTYPE, order='F')\n",
    "    cdef np.ndarray[DTYPE_t, ndim=3] var_meass = np.zeros((n_dim_meas, n_dim_meas, n_steps),\n",
    "                                                          dtype=DTYPE, order='F')\n",
    "    cdef np.ndarray[DTYPE_t, ndim=2] x_meass = np.zeros((n_dim_meas, n_steps),\n",
    "                                                        dtype=DTYPE, order='F')\n",
    "    cdef np.ndarray[DTYPE_t, ndim=2] mu_state_filts = np.zeros((n_dim_state, n_steps),\n",
    "                                                               dtype=DTYPE, order='F')\n",
    "    cdef np.ndarray[DTYPE_t, ndim=3] var_state_filts = np.zeros((n_dim_state, n_dim_state, n_steps),\n",
    "                                                                dtype=DTYPE, order='F')\n",
    "    cdef np.ndarray[DTYPE_t, ndim=2] mu_state_preds = np.zeros((n_dim_state, n_steps),\n",
    "                                                               dtype=DTYPE, order='F')\n",
    "    cdef np.ndarray[DTYPE_t, ndim=3] var_state_preds = np.zeros((n_dim_state, n_dim_state, n_steps),\n",
    "                                                                dtype=DTYPE, order='F')\n",
    "    cdef np.ndarray[DTYPE_t, ndim=2] mu_state_smooths = np.zeros((n_dim_state, n_steps),\n",
    "                                                                 dtype=DTYPE, order='F')\n",
    "    cdef np.ndarray[DTYPE_t, ndim=3] var_state_smooths = np.zeros((n_dim_state, n_dim_state, n_steps),\n",
    "                                                                  dtype=DTYPE, order='F')\n",
    "    cdef np.ndarray[DTYPE_t, ndim=2] x_state_smooths = np.zeros((n_dim_state, n_steps),\n",
    "                                                                dtype=DTYPE, order='F')\n",
    "    cdef np.ndarray[DTYPE_t, ndim=1] x_state_tt = np.zeros(n_dim_state, \n",
    "                                                           dtype=DTYPE, order='F') #Temporary state simulation for interrogation\n",
    "    cdef np.ndarray[DTYPE_t, ndim=2] var_state_meas = np.zeros((n_dim_meas, n_dim_state),\n",
    "                                                           dtype=DTYPE, order='F') #Temporary matrix for multi_dot\n",
    "    cdef int t\n",
    "\n",
    "    \n",
    "    # initialize things\n",
    "    mu_state_filts[:, 0] = x0_state\n",
    "    mat_vec_mult(wgt_meas, x0_state, x_meass[:, 0].T)\n",
    "    mu_state_preds[:, 0] = mu_state_filts[:, 0]\n",
    "    var_state_preds[:, :, 0] = var_state_filts[:, :, 0]\n",
    "    # forward pass\n",
    "    ktv = KalmanTV(n_dim_meas, n_dim_state)\n",
    "    for t in range(n_eval):\n",
    "        # kalman filter:\n",
    "        # 1. predict\n",
    "        ktv.predict(mu_state_pred = mu_state_preds[:, t+1],\n",
    "                    var_state_pred = var_state_preds[:, :, t+1],\n",
    "                    mu_state_past = mu_state_filts[:, t],\n",
    "                    var_state_past = var_state_filts[:, :, t],\n",
    "                    mu_state = mu_state,\n",
    "                    wgt_state = wgt_state,\n",
    "                    var_state = var_state)\n",
    "        # 2. chkrebtii interrogation\n",
    "        mat_mult(wgt_meas, var_state_preds[:, :, t+1], var_state_meas)\n",
    "        mat_mult(var_state_meas, wgt_meas.T, var_meass[:, :, t+1])\n",
    "        ktv.state_sim(x_state_tt, \n",
    "                      mu_state_preds[:, t+1], \n",
    "                      var_state_preds[:, :, t+1], \n",
    "                      z_state_sim[:, t])\n",
    "        x_meass[:, t+1] = fun(x_state_tt, tmin + (tmax-tmin)*(t+1)/n_eval)\n",
    "        # 3. update\n",
    "        ktv.update(mu_state_filt = mu_state_filts[:, t+1],\n",
    "                   var_state_filt = var_state_filts[:, :, t+1],\n",
    "                   mu_state_pred = mu_state_preds[:, t+1],\n",
    "                   var_state_pred = var_state_preds[:, :, t+1],\n",
    "                   x_meas = x_meass[:, t+1],\n",
    "                   mu_meas = mu_meas,\n",
    "                   wgt_meas = wgt_meas,\n",
    "                   var_meas = var_meass[:, :, t+1])\n",
    "\n",
    "    # backward pass\n",
    "    mu_state_smooths[:, n_eval] = mu_state_filts[:, n_eval]\n",
    "    var_state_smooths[:, :, n_eval] = var_state_filts[:, :, n_eval]\n",
    "    ktv.state_sim(x_state_smooths[:, n_eval], \n",
    "                  mu_state_smooths[:, n_eval], \n",
    "                  var_state_smooths[:, :, n_eval],\n",
    "                  z_state_sim[:, 2*n_eval+1])\n",
    "\n",
    "    for t in reversed(range(n_eval)):\n",
    "        if smooth_mv and smooth_sim:\n",
    "            ktv.smooth(x_state_smooth = x_state_smooths[:, t],\n",
    "                       mu_state_smooth = mu_state_smooths[:, t],\n",
    "                       var_state_smooth = var_state_smooths[:, :, t], \n",
    "                       x_state_next = x_state_smooths[:, t+1],\n",
    "                       mu_state_next = mu_state_smooths[:, t+1],\n",
    "                       var_state_next = var_state_smooths[:, :, t+1],\n",
    "                       mu_state_filt = mu_state_filts[:, t],\n",
    "                       var_state_filt = var_state_filts[:, :, t],\n",
    "                       mu_state_pred = mu_state_preds[:, t+1],\n",
    "                       var_state_pred = var_state_preds[:, :, t+1],\n",
    "                       wgt_state = wgt_state,\n",
    "                       z_state = z_state_sim[:, n_eval+t])\n",
    "        elif smooth_mv:\n",
    "            ktv.smooth_mv(mu_state_smooth = mu_state_smooths[:, t],\n",
    "                          var_state_smooth = var_state_smooths[:, :, t],\n",
    "                          mu_state_next = mu_state_smooths[:, t+1],\n",
    "                          var_state_next = var_state_smooths[:, :, t+1],\n",
    "                          mu_state_filt = mu_state_filts[:, t],\n",
    "                          var_state_filt = var_state_filts[:, :, t],\n",
    "                          mu_state_pred = mu_state_preds[:, t+1],\n",
    "                          var_state_pred = var_state_preds[:, :, t+1],\n",
    "                          wgt_state = wgt_state)\n",
    "        elif smooth_sim:\n",
    "            ktv.smooth_sim(x_state_smooth = x_state_smooths[:, t],\n",
    "                           x_state_next = x_state_smooths[:, t+1],\n",
    "                           mu_state_filt = mu_state_filts[:, t],\n",
    "                           var_state_filt = var_state_filts[:, :, t],\n",
    "                           mu_state_pred = mu_state_preds[:, t+1],\n",
    "                           var_state_pred = var_state_preds[:, :, t+1],\n",
    "                           wgt_state = wgt_state,\n",
    "                           z_state = z_state_sim[:, n_eval+t])\n",
    "            \n",
    "    if smooth_mv and smooth_sim:\n",
    "        return x_state_smooths, mu_state_smooths, var_state_smooths\n",
    "    elif smooth_mv:\n",
    "        return mu_state_smooths, var_state_smooths\n",
    "    else:\n",
    "        return x_state_smooths\n"
   ]
  }
 ],
 "metadata": {
  "kernelspec": {
   "display_name": "Python 3",
   "language": "python",
   "name": "python3"
  },
  "language_info": {
   "codemirror_mode": {
    "name": "ipython",
    "version": 3
   },
   "file_extension": ".py",
   "mimetype": "text/x-python",
   "name": "python",
   "nbconvert_exporter": "python",
   "pygments_lexer": "ipython3",
   "version": "3.7.3"
  }
 },
 "nbformat": 4,
 "nbformat_minor": 2
}
