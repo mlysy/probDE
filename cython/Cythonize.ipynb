{
 "cells": [
  {
   "cell_type": "code",
   "execution_count": 1,
   "metadata": {},
   "outputs": [],
   "source": [
    "import numpy as np\n",
    "import matplotlib.pyplot as plt\n",
    "from probDE.utils.utils import zero_pad\n",
    "from probDE.utils.utils import root_gen\n",
    "from probDE.Kalman.kalman_initial_draw import kalman_initial_draw\n",
    "from probDE.Kalman import kalman_ode_higher\n",
    "from probDE.Kalman.higher_mvncond import higher_mvncond\n",
    "from probDE.cython.kalman_ode_higher import kalman_ode_higher as kalman_ode_higher_cy\n",
    "#from linalg.mat_mult import mat_mult, mat_vec_mult"
   ]
  },
  {
   "cell_type": "code",
   "execution_count": 2,
   "metadata": {},
   "outputs": [],
   "source": [
    "%load_ext Cython"
   ]
  },
  {
   "cell_type": "code",
   "execution_count": 3,
   "metadata": {},
   "outputs": [],
   "source": [
    "%%cython\n",
    "from libc.math cimport sin\n",
    "import numpy as np\n",
    "cimport numpy as np\n",
    "\n",
    "cpdef ode_fun(double[::1] x_t, double t):\n",
    "    return sin(2*t) - x_t[0]\n",
    "\n",
    "cpdef rand_mat(int n, int p, bint pd=True):\n",
    "    cdef np.ndarray[np.double_t, ndim=2] V = np.zeros((p, n), order='F')\n",
    "    V[:] = np.random.randn(p, n)\n",
    "    if (p == n) and pd:\n",
    "        V[:] = np.matmul(V, V.T)\n",
    "    return V"
   ]
  },
  {
   "cell_type": "code",
   "execution_count": 4,
   "metadata": {},
   "outputs": [],
   "source": [
    "def chk_exact_x(t):\n",
    "    return (-3*cos(t) + 2*sin(t) - sin(2*t))/3\n",
    "\n",
    "def chk_exact_x1(t):\n",
    "    return (-2*cos(2*t) + 3*sin(t) + 2*cos(t))/3"
   ]
  },
  {
   "cell_type": "code",
   "execution_count": 5,
   "metadata": {},
   "outputs": [],
   "source": [
    "n_steps = 50\n",
    "n_eval = n_steps-1\n",
    "q = 2\n",
    "p = q+2\n",
    "tmin = 0\n",
    "tmax = 10\n",
    "delta_t = np.array([(tmax-tmin)*1/n_steps])\n",
    "w = np.array([0. , 0., 1.])\n",
    "wgt_meas = zero_pad(w, p)\n",
    "x0 = np.array([-1., 0., 0.])\n",
    "x0 = np.array([-1.0, 0.0, ode_fun(x0, 0)]) #Initial state\n",
    "r0 = 500\n",
    "sigma = 0.5\n",
    "roots = root_gen(r0, p) #Generate roots to draw x^{(3)}_0\n",
    "x0_state = kalman_initial_draw(roots, sigma, x0, p)\n",
    "wgt_state, var_state = higher_mvncond(delta_t, roots, sigma) \n",
    "mu_state = np.zeros(p)\n",
    "z_state_sim = rand_mat(2*n_steps, p)\n",
    "\n",
    "Yn_chk_mean, Yn_chk_var = kalman_ode_higher(ode_fun, x0_state, tmin, tmax, n_eval, \n",
    "                                            wgt_state, mu_state, var_state, wgt_meas, z_state_sim)"
   ]
  },
  {
   "cell_type": "code",
   "execution_count": 6,
   "metadata": {},
   "outputs": [],
   "source": [
    "Yn_chk_mean2, Yn_chk_var2 = kalman_ode_higher_cy(ode_fun, x0_state, tmin, tmax, n_eval, \n",
    "                                               wgt_state, mu_state, var_state, \n",
    "                                               wgt_meas, z_state_sim)"
   ]
  },
  {
   "cell_type": "code",
   "execution_count": 7,
   "metadata": {},
   "outputs": [
    {
     "data": {
      "text/plain": [
       "<matplotlib.legend.Legend at 0x267ce93ec18>"
      ]
     },
     "execution_count": 7,
     "metadata": {},
     "output_type": "execute_result"
    },
    {
     "data": {
      "image/png": "[encoded data removed]",
      "text/plain": [
       "<Figure size 432x288 with 1 Axes>"
      ]
     },
     "metadata": {
      "needs_background": "light"
     },
     "output_type": "display_data"
    }
   ],
   "source": [
    "tseq = np.linspace(tmin, tmax, n_steps)\n",
    "plt.plot(tseq, Yn_chk_mean[:, 1], label = 'Python mean')\n",
    "#plt.plot(tseq, Yn[:, 1], label = 'Python sample')\n",
    "plt.plot(tseq, Yn_chk_mean2[1], label = 'C mean')\n",
    "#plt.plot(tseq, Yn2[1], label = 'C sample')\n",
    "plt.legend(loc='upper left')"
   ]
  },
  {
   "cell_type": "markdown",
   "metadata": {},
   "source": [
    "## Python, Cython, Odeint Timings"
   ]
  },
  {
   "cell_type": "code",
   "execution_count": 8,
   "metadata": {},
   "outputs": [
    {
     "name": "stdout",
     "output_type": "stream",
     "text": [
      "8.53 ms ± 197 µs per loop (mean ± std. dev. of 7 runs, 100 loops each)\n"
     ]
    }
   ],
   "source": [
    "py = %timeit -o -n 100 Yn_chk_mean, Yn_chk_var = \\\n",
    "    kalman_ode_higher(ode_fun, x0_state, tmin, tmax, n_eval, wgt_state, mu_state, var_state, wgt_meas, z_state_sim)"
   ]
  },
  {
   "cell_type": "code",
   "execution_count": 9,
   "metadata": {},
   "outputs": [
    {
     "name": "stdout",
     "output_type": "stream",
     "text": [
      "2.1 ms ± 55.2 µs per loop (mean ± std. dev. of 7 runs, 100 loops each)\n"
     ]
    }
   ],
   "source": [
    "cy = %timeit -o -n 100 Yn_chk_mean2, Yn_chk_var2 = \\\n",
    "    kalman_ode_higher_cy(ode_fun, x0_state, tmin, tmax, n_eval, wgt_state, mu_state, var_state, wgt_meas, z_state_sim)"
   ]
  },
  {
   "cell_type": "code",
   "execution_count": 10,
   "metadata": {},
   "outputs": [
    {
     "data": {
      "text/plain": [
       "4.070640538052699"
      ]
     },
     "execution_count": 10,
     "metadata": {},
     "output_type": "execute_result"
    }
   ],
   "source": [
    "py.average/cy.average"
   ]
  },
  {
   "cell_type": "code",
   "execution_count": 11,
   "metadata": {},
   "outputs": [],
   "source": [
    "from scipy import integrate\n",
    "from math import sin\n",
    "def f(x_t, t):\n",
    "    return [x_t[1], sin(2*t) - x_t[0]]"
   ]
  },
  {
   "cell_type": "code",
   "execution_count": 12,
   "metadata": {},
   "outputs": [
    {
     "name": "stdout",
     "output_type": "stream",
     "text": [
      "528 µs ± 2.46 µs per loop (mean ± std. dev. of 7 runs, 1000 loops each)\n"
     ]
    }
   ],
   "source": [
    "ode = %timeit -o ode = integrate.odeint(f, [-1, 0], tseq)\n",
    "#cy.average/ode.average"
   ]
  },
  {
   "cell_type": "markdown",
   "metadata": {},
   "source": [
    "## Pre-allocated Memorization"
   ]
  },
  {
   "cell_type": "code",
   "execution_count": 13,
   "metadata": {},
   "outputs": [],
   "source": [
    "from kalman_ode_solve_py import kalman_ode_solve_py\n",
    "from probDE.cython.kalman_ode_solve_cy import kalman_ode_solve_cy"
   ]
  },
  {
   "cell_type": "code",
   "execution_count": 14,
   "metadata": {},
   "outputs": [],
   "source": [
    "# argumgents for kalman_filter and kalman_smooth\n",
    "dim_meas = 1\n",
    "dim_state = p\n",
    "DTYPE = np.double\n",
    "mu_meas = np.zeros(dim_meas, dtype=DTYPE, order='F')\n",
    "var_meass = np.zeros((dim_meas, dim_meas, n_steps),dtype=DTYPE, order='F')\n",
    "x_meass = np.zeros((dim_meas, n_steps),dtype=DTYPE)\n",
    "mu_state_filts = np.zeros((dim_state, n_steps),dtype=DTYPE, order='F')\n",
    "var_state_filts = np.zeros((dim_state, dim_state, n_steps),dtype=DTYPE, order='F')\n",
    "mu_state_preds = np.zeros((dim_state, n_steps), dtype=DTYPE, order='F')\n",
    "var_state_preds = np.zeros((dim_state, dim_state, n_steps), dtype=DTYPE, order='F')\n",
    "mu_state_smooths = np.zeros((dim_state, n_steps), dtype=DTYPE, order='F')\n",
    "var_state_smooths = np.zeros((dim_state, dim_state, n_steps),dtype=DTYPE, order='F')\n",
    "x_state_smooths = np.zeros((dim_state, n_steps),dtype=DTYPE, order='F')\n",
    "x_state_tt = np.zeros(dim_state, dtype=DTYPE, order='F') #Temporary state simulation for interrogation\n",
    "var_state_meas = np.zeros((dim_meas, dim_state),dtype=DTYPE, order='F') #Temporary matrix for multi_dot\n",
    "x_meas_ = np.zeros(dim_meas, dtype=DTYPE, order='F') #Temporary for matrix vector multi"
   ]
  },
  {
   "cell_type": "code",
   "execution_count": 15,
   "metadata": {},
   "outputs": [
    {
     "name": "stdout",
     "output_type": "stream",
     "text": [
      "8.81 ms ± 110 µs per loop (mean ± std. dev. of 7 runs, 100 loops each)\n"
     ]
    }
   ],
   "source": [
    "solve_py = %timeit -o -n 100 _, _ = \\\n",
    "    kalman_ode_solve_py(ode_fun, x0_state, tmin, tmax, n_eval, wgt_state, mu_state, var_state, wgt_meas, z_state_sim, \\\n",
    "                       mu_meas, var_meass, x_meass, mu_state_filts, var_state_filts, mu_state_preds, \\\n",
    "                       var_state_preds, mu_state_smooths, var_state_smooths, x_state_smooths, x_state_tt)"
   ]
  },
  {
   "cell_type": "code",
   "execution_count": 16,
   "metadata": {},
   "outputs": [
    {
     "name": "stdout",
     "output_type": "stream",
     "text": [
      "4.8 ms ± 57.7 µs per loop (mean ± std. dev. of 7 runs, 100 loops each)\n"
     ]
    }
   ],
   "source": [
    "solve_cy = %timeit -o -n 100 _, _ = \\\n",
    "    kalman_ode_solve_cy(ode_fun, x0_state, tmin, tmax, n_eval, wgt_state, mu_state, var_state, wgt_meas, z_state_sim, mu_meas, \\\n",
    "                        var_meass, x_meass, mu_state_filts, var_state_filts, mu_state_preds, var_state_preds, \\\n",
    "                        mu_state_smooths, var_state_smooths, x_state_smooths, x_state_tt, var_state_meas, x_meas_)"
   ]
  },
  {
   "cell_type": "markdown",
   "metadata": {},
   "source": [
    "## Offline"
   ]
  },
  {
   "cell_type": "code",
   "execution_count": 17,
   "metadata": {},
   "outputs": [],
   "source": [
    "from kalman_ode_offline_py import kalman_ode_offline_py\n",
    "from probDE.cython.kalman_ode_offline_cy import kalman_ode_offline_cy"
   ]
  },
  {
   "cell_type": "code",
   "execution_count": 18,
   "metadata": {},
   "outputs": [
    {
     "name": "stdout",
     "output_type": "stream",
     "text": [
      "2.22 ms ± 222 µs per loop (mean ± std. dev. of 7 runs, 100 loops each)\n"
     ]
    }
   ],
   "source": [
    "offline_cy = %timeit -o -n 100 _, _ = \\\n",
    "    kalman_ode_offline_cy(ode_fun, x0_state, tmin, tmax, n_eval, wgt_state, mu_state, var_state, wgt_meas, z_state_sim, \\\n",
    "                          x_meass, offline=True)"
   ]
  },
  {
   "cell_type": "code",
   "execution_count": 19,
   "metadata": {},
   "outputs": [
    {
     "name": "stdout",
     "output_type": "stream",
     "text": [
      "3.96 ms ± 51.9 µs per loop (mean ± std. dev. of 7 runs, 100 loops each)\n"
     ]
    }
   ],
   "source": [
    "offline_py = %timeit -o -n 100 _, _ = \\\n",
    "    kalman_ode_offline_py(ode_fun, x0_state, tmin, tmax, n_eval, wgt_state, mu_state, var_state, wgt_meas, z_state_sim, \\\n",
    "                          x_meass, filter_only=True, offline=True)"
   ]
  },
  {
   "cell_type": "markdown",
   "metadata": {},
   "source": [
    "## C++ allocated memory\n"
   ]
  },
  {
   "cell_type": "code",
   "execution_count": 20,
   "metadata": {},
   "outputs": [],
   "source": [
    "from probDE.cython.KalmanTest.kalmantest import KalmanTest"
   ]
  },
  {
   "cell_type": "code",
   "execution_count": 21,
   "metadata": {},
   "outputs": [],
   "source": [
    "# argumgents for kalman_filter and kalman_smooth\n",
    "dim_meas = 1\n",
    "dim_state = p\n",
    "DTYPE = np.double\n",
    "mu_state_smooths = np.zeros((dim_state, n_steps), dtype=DTYPE, order='F')\n",
    "var_state_smooths = np.zeros((dim_state, dim_state, n_steps),dtype=DTYPE, order='F')\n",
    "ktest = KalmanTest(dim_meas, dim_state, n_steps)"
   ]
  },
  {
   "cell_type": "code",
   "execution_count": 22,
   "metadata": {},
   "outputs": [
    {
     "name": "stdout",
     "output_type": "stream",
     "text": [
      "117 µs ± 35.3 µs per loop (mean ± std. dev. of 7 runs, 100 loops each)\n"
     ]
    }
   ],
   "source": [
    "kalmantest_cy = %timeit -o -n 100 ktest.filter_smooth(mu_state_smooths, var_state_smooths, x0_state, wgt_state, mu_state, var_state, wgt_meas, x_meass, z_state_sim)"
   ]
  },
  {
   "cell_type": "markdown",
   "metadata": {},
   "source": [
    "## C++ allocated memory, for-loop in cython"
   ]
  },
  {
   "cell_type": "code",
   "execution_count": 23,
   "metadata": {},
   "outputs": [],
   "source": [
    "from probDE.cython.KalmanTest.kalman_ode import kalman_ode"
   ]
  },
  {
   "cell_type": "code",
   "execution_count": 24,
   "metadata": {},
   "outputs": [],
   "source": [
    "%%cython\n",
    "from libc.math cimport sin\n",
    "import numpy as np\n",
    "cimport numpy as np\n",
    "\n",
    "cpdef ode_fun2(double[::1] x_t, double t):\n",
    "    return np.array([sin(2*t) - x_t[0]])"
   ]
  },
  {
   "cell_type": "code",
   "execution_count": 25,
   "metadata": {},
   "outputs": [
    {
     "name": "stdout",
     "output_type": "stream",
     "text": [
      "194 µs ± 14.2 µs per loop (mean ± std. dev. of 7 runs, 100 loops each)\n"
     ]
    }
   ],
   "source": [
    "pre_cy = %timeit -o -n 100 _, _, _ =\\\n",
    "kalman_ode(ode_fun2, x0_state, tmin, tmax, n_eval, wgt_state, \\\n",
    "               mu_state, var_state, wgt_meas, z_state_sim, x_meass, smooth_sim=True)"
   ]
  },
  {
   "cell_type": "code",
   "execution_count": 26,
   "metadata": {},
   "outputs": [
    {
     "name": "stdout",
     "output_type": "stream",
     "text": [
      "347 µs ± 16.9 µs per loop (mean ± std. dev. of 7 runs, 100 loops each)\n"
     ]
    }
   ],
   "source": [
    "pre_off_cy = %timeit -o -n 100 _, _, _ =\\\n",
    "kalman_ode(ode_fun2, x0_state, tmin, tmax, n_eval, wgt_state, \\\n",
    "               mu_state, var_state, wgt_meas, z_state_sim, x_meass, smooth_sim=True, offline=False)"
   ]
  },
  {
   "cell_type": "code",
   "execution_count": 29,
   "metadata": {},
   "outputs": [
    {
     "data": {
      "text/plain": [
       "1.5221828722856074"
      ]
     },
     "execution_count": 29,
     "metadata": {},
     "output_type": "execute_result"
    }
   ],
   "source": [
    "ode.average/pre_off_cy.average"
   ]
  },
  {
   "cell_type": "code",
   "execution_count": 27,
   "metadata": {},
   "outputs": [],
   "source": [
    "dim_state = 50\n",
    "dim_meas = 10\n",
    "n_steps = 50\n",
    "n_eval = n_steps - 1\n",
    "x0_state = np.random.randn(dim_state)\n",
    "wgt_state = rand_mat(dim_state, dim_state)\n",
    "var_state = rand_mat(dim_state, dim_state)\n",
    "mu_state = np.random.randn(dim_state)\n",
    "wgt_meas = rand_mat(dim_meas, dim_state)\n",
    "z_state_sim = rand_mat(2*n_eval, dim_state)\n",
    "x_meass = rand_mat(dim_meas, n_eval)"
   ]
  },
  {
   "cell_type": "code",
   "execution_count": 30,
   "metadata": {},
   "outputs": [
    {
     "name": "stdout",
     "output_type": "stream",
     "text": [
      "22.2 ms ± 1.93 ms per loop (mean ± std. dev. of 7 runs, 100 loops each)\n"
     ]
    },
    {
     "data": {
      "text/plain": [
       "<TimeitResult : 22.2 ms ± 1.93 ms per loop (mean ± std. dev. of 7 runs, 100 loops each)>"
      ]
     },
     "execution_count": 30,
     "metadata": {},
     "output_type": "execute_result"
    }
   ],
   "source": [
    "%timeit -o -n 100 _, _, _ =\\\n",
    "kalman_ode(ode_fun2, x0_state, tmin, tmax, n_eval, wgt_state, \\\n",
    "           mu_state, var_state, wgt_meas, z_state_sim, x_meass, smooth_sim=True)"
   ]
  },
  {
   "cell_type": "code",
   "execution_count": 31,
   "metadata": {},
   "outputs": [],
   "source": [
    "DTYPE = np.double\n",
    "mu_state_smooths = np.zeros((dim_state, n_steps), dtype=DTYPE, order='F')\n",
    "var_state_smooths = np.zeros((dim_state, dim_state, n_steps),dtype=DTYPE, order='F')\n",
    "ktest = KalmanTest(dim_meas, dim_state, n_steps)"
   ]
  },
  {
   "cell_type": "code",
   "execution_count": 32,
   "metadata": {},
   "outputs": [
    {
     "name": "stdout",
     "output_type": "stream",
     "text": [
      "9.59 ms ± 439 µs per loop (mean ± std. dev. of 7 runs, 100 loops each)\n"
     ]
    }
   ],
   "source": [
    "kalmantest_cy = %timeit -o ktest.filter_smooth(mu_state_smooths, var_state_smooths, x0_state, wgt_state, mu_state, var_state, wgt_meas, x_meass, z_state_sim)"
   ]
  },
  {
   "cell_type": "markdown",
   "metadata": {},
   "source": [
    "## Blas/Lapack"
   ]
  },
  {
   "cell_type": "code",
   "execution_count": null,
   "metadata": {},
   "outputs": [],
   "source": [
    "def rel_err(X1, X2):\n",
    "    \"\"\"Relative error between two numpy arrays.\"\"\"\n",
    "    return np.max(np.abs((X1.ravel() - X2.ravel())/X1.ravel()))"
   ]
  },
  {
   "cell_type": "code",
   "execution_count": null,
   "metadata": {},
   "outputs": [],
   "source": [
    "m = np.random.randint(2,10)\n",
    "n = np.random.randint(2,10)\n",
    "A = np.array(np.random.rand(m,n), order='F')\n",
    "x = np.random.rand(n)\n",
    "y = np.zeros(m, order='F')"
   ]
  },
  {
   "cell_type": "code",
   "execution_count": null,
   "metadata": {},
   "outputs": [],
   "source": [
    "mat_vec_mult(A, x, y)\n",
    "np.testing.assert_almost_equal(rel_err(A.dot(x), y), 0.0)"
   ]
  },
  {
   "cell_type": "code",
   "execution_count": null,
   "metadata": {},
   "outputs": [],
   "source": [
    "m = np.random.randint(2,10)\n",
    "k = np.random.randint(2,10)\n",
    "n = np.random.randint(2,10)\n",
    "A = np.array(np.random.rand(m,k), order='F')\n",
    "B = np.array(np.random.rand(k,n), order='F')\n",
    "C = np.zeros((m,n), order='F')"
   ]
  },
  {
   "cell_type": "code",
   "execution_count": null,
   "metadata": {},
   "outputs": [],
   "source": [
    "x0_state.shape"
   ]
  },
  {
   "cell_type": "code",
   "execution_count": null,
   "metadata": {},
   "outputs": [],
   "source": [
    "mat_mult(A, B, C)\n",
    "np.testing.assert_almost_equal(rel_err(np.matmul(A, B), C), 0.0)"
   ]
  }
 ],
 "metadata": {
  "kernelspec": {
   "display_name": "Python 3",
   "language": "python",
   "name": "python3"
  },
  "language_info": {
   "codemirror_mode": {
    "name": "ipython",
    "version": 3
   },
   "file_extension": ".py",
   "mimetype": "text/x-python",
   "name": "python",
   "nbconvert_exporter": "python",
   "pygments_lexer": "ipython3",
   "version": "3.7.3"
  }
 },
 "nbformat": 4,
 "nbformat_minor": 2
}
