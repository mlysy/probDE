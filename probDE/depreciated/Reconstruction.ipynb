{
 "cells": [
  {
   "cell_type": "code",
   "execution_count": 21,
   "metadata": {},
   "outputs": [],
   "source": [
    "# Imports needed\n",
    "from math import sin, cos\n",
    "import pandas as pd\n",
    "import numpy as np\n",
    "import seaborn as sns\n",
    "import matplotlib.pyplot as plt # for plotting\n",
    "\n",
    "from probDE.utils.utils import root_gen\n",
    "from probDE.Kalman.kalman_multi_solver import kalman_multi_solver"
   ]
  },
  {
   "cell_type": "code",
   "execution_count": 24,
   "metadata": {},
   "outputs": [],
   "source": [
    "# RHS of ODE\n",
    "def ode_fun(x_t, t):\n",
    "    return sin(2*t) - x_t[0]\n",
    "\n",
    "# LHS vector of ODE\n",
    "w_mat = np.array([[0.0, 0.0, 1.0]])\n",
    "\n",
    "# These parameters define the order of the ODE and the CAR(p) process\n",
    "q = 2 # ODE order\n",
    "p = q+2 # number of continuous derivatives of CAR(p) solution prior\n",
    "\n",
    "# it is assumed that the solution is sought on the interval [L,U].\n",
    "N = 100 # Number of grids points that are evaluated; in particular, the grid size delta = (U-L)*1/N\n",
    "L = 0\n",
    "U = 10 \n",
    "\n",
    "# Now we need the parameters for the solver\n",
    "# First we need to generate roots, rho, for the CAR(p) prior\n",
    "# We suggest using root_gen to parametrize them as desribed: rho_k = -exp(k/tau)\n",
    "tau = 50 # decorrelation parameter\n",
    "roots = root_gen(tau, p)\n",
    "\n",
    "# The rest of the parameters can be tuned according to ODE\n",
    "# For this problem, we will use\n",
    "mu = np.zeros(p)\n",
    "\n",
    "# Initial value, x0, for the IVP\n",
    "a = np.array([[-1.0, 0.0, 1.0]])\n",
    "\n",
    "rootlst = [roots]*n\n",
    "sigmalst = [.5]*n"
   ]
  },
  {
   "cell_type": "code",
   "execution_count": 25,
   "metadata": {},
   "outputs": [],
   "source": [
    "Xn, _,_ = kalman_multi_solver(ode_fun, L, U, N, mu, sigmalst, rootlst, w_mat, a)"
   ]
  },
  {
   "cell_type": "code",
   "execution_count": 27,
   "metadata": {},
   "outputs": [],
   "source": [
    "# Exact Solution for x_t^{(0)}\n",
    "def ode_exact_x(t):\n",
    "    return (-3*cos(t) + 2*sin(t) - sin(2*t))/3\n",
    "\n",
    "# Exact Solution for x_t^{(1)}\n",
    "def ode_exact_x1(t):\n",
    "    return (-2*cos(2*t) + 3*sin(t) + 2*cos(t))/3\n",
    "\n",
    "# Get exact solutions for x^{(0)}, x^{(1)}\n",
    "tseq = np.linspace(L, U, N)\n",
    "exact_x = np.zeros(N)\n",
    "exact_x1 = np.zeros(N)\n",
    "for t in range(N):\n",
    "    exact_x[t] = ode_exact_x(tseq[t])\n",
    "    exact_x1[t] = ode_exact_x1(tseq[t])\n",
    "exact = np.array(list(zip(exact_x, exact_x1)))"
   ]
  },
  {
   "cell_type": "code",
   "execution_count": 28,
   "metadata": {},
   "outputs": [],
   "source": [
    "tauseq = np.linspace(100, 200, 9)\n",
    "sigmaseq = np.linspace(0.001, 0.5, 9)\n",
    "\n",
    "def recon_err(fun, L, U, N, mu, w_mat, a, tauseq, sigmaseq, exact, n, p):\n",
    "    std = np.zeros((2, len(tauseq), len(sigmaseq)))\n",
    "    tseq = np.linspace(L, U, N)\n",
    "    for i, tau in enumerate(tauseq):\n",
    "        for j, sigma in enumerate(sigmaseq):\n",
    "            roots = root_gen(tau, p)\n",
    "            rootlst = [roots]*n\n",
    "            sigmalst = [sigma]*n\n",
    "            try:\n",
    "                Xn, _,_ = kalman_multi_solver(ode_fun, L, U, N, mu, sigmalst, rootlst, w_mat, a)\n",
    "                std[:, i, j]= np.std(exact - Xn[:, [0,1]], axis=0)\n",
    "            except:\n",
    "                std[:, i, j] = np.nan\n",
    "            \n",
    "    return std\n",
    "rec_err = recon_err(ode_fun, L, U, N, mu, w_mat, a, tauseq, sigmaseq, exact, n, p)"
   ]
  },
  {
   "cell_type": "code",
   "execution_count": 33,
   "metadata": {},
   "outputs": [
    {
     "data": {
      "text/plain": [
       "(2, 9, 9)"
      ]
     },
     "execution_count": 33,
     "metadata": {},
     "output_type": "execute_result"
    }
   ],
   "source": [
    "rec_err.shape"
   ]
  },
  {
   "cell_type": "code",
   "execution_count": 29,
   "metadata": {},
   "outputs": [],
   "source": [
    "rec_err_1 = pd.DataFrame(rec_err[0], index=tauseq, columns=sigmaseq)\n",
    "rec_err_2 = pd.DataFrame(rec_err[0], index=tauseq, columns=sigmaseq)"
   ]
  },
  {
   "cell_type": "code",
   "execution_count": 31,
   "metadata": {},
   "outputs": [
    {
     "data": {
      "image/png": "[encoded data removed]",
      "text/plain": [
       "<Figure size 432x288 with 2 Axes>"
      ]
     },
     "metadata": {
      "needs_background": "light"
     },
     "output_type": "display_data"
    }
   ],
   "source": [
    "axs = sns.heatmap(rec_err_1, cmap=\"Greens\", mask=np.isnan(rec_err[0]))\n",
    "axs.set_facecolor('black')"
   ]
  }
 ],
 "metadata": {
  "kernelspec": {
   "display_name": "Python 3",
   "language": "python",
   "name": "python3"
  },
  "language_info": {
   "codemirror_mode": {
    "name": "ipython",
    "version": 3
   },
   "file_extension": ".py",
   "mimetype": "text/x-python",
   "name": "python",
   "nbconvert_exporter": "python",
   "pygments_lexer": "ipython3",
   "version": "3.7.3"
  }
 },
 "nbformat": 4,
 "nbformat_minor": 2
}
